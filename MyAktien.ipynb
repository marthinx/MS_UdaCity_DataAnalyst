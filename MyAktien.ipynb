{
  "nbformat": 4,
  "nbformat_minor": 0,
  "metadata": {
    "colab": {
      "name": "MyAktien.ipynb",
      "provenance": [],
      "collapsed_sections": [],
      "authorship_tag": "ABX9TyMreZDGcmEF+A5Kw8uaiRo9",
      "include_colab_link": true
    },
    "kernelspec": {
      "name": "python3",
      "display_name": "Python 3"
    },
    "language_info": {
      "name": "python"
    }
  },
  "cells": [
    {
      "cell_type": "markdown",
      "metadata": {
        "id": "view-in-github",
        "colab_type": "text"
      },
      "source": [
        "<a href=\"https://colab.research.google.com/github/marthinx/UdaCity/blob/main/MyAktien.ipynb\" target=\"_parent\"><img src=\"https://colab.research.google.com/assets/colab-badge.svg\" alt=\"Open In Colab\"/></a>"
      ]
    },
    {
      "cell_type": "code",
      "metadata": {
        "id": "nnkmSGGbBtea"
      },
      "source": [
        ""
      ],
      "execution_count": null,
      "outputs": []
    },
    {
      "cell_type": "code",
      "metadata": {
        "id": "uapv_YWhUeMO"
      },
      "source": [
        "from google.colab import drive\n",
        "drive.mount('/content/drive')"
      ],
      "execution_count": null,
      "outputs": []
    },
    {
      "cell_type": "markdown",
      "metadata": {
        "id": "lbOoxu5UCAyF"
      },
      "source": [
        "Beschreibung\n",
        "**Text fett markieren**"
      ]
    },
    {
      "cell_type": "markdown",
      "metadata": {
        "id": "0c-uid3ECBIM"
      },
      "source": [
        "# Beschreibung"
      ]
    },
    {
      "cell_type": "markdown",
      "metadata": {
        "id": "nUPspphZEWUk"
      },
      "source": [
        "# benötigte Pakete\n",
        "!pip install matplotlib-venn\n",
        "!pip install yfinance"
      ]
    },
    {
      "cell_type": "code",
      "metadata": {
        "id": "qjwH0u0dEma2",
        "colab": {
          "base_uri": "https://localhost:8080/",
          "height": 988
        },
        "outputId": "983327ba-a099-4f8c-f4c9-f6d467711076"
      },
      "source": [
        "!pip install matplotlib-venn\n",
        "!pip install yfinance\n",
        "!pip install influxdb-client"
      ],
      "execution_count": 1,
      "outputs": [
        {
          "output_type": "stream",
          "name": "stdout",
          "text": [
            "Requirement already satisfied: matplotlib-venn in /usr/local/lib/python3.7/dist-packages (0.11.6)\n",
            "Requirement already satisfied: matplotlib in /usr/local/lib/python3.7/dist-packages (from matplotlib-venn) (3.2.2)\n",
            "Requirement already satisfied: numpy in /usr/local/lib/python3.7/dist-packages (from matplotlib-venn) (1.19.5)\n",
            "Requirement already satisfied: scipy in /usr/local/lib/python3.7/dist-packages (from matplotlib-venn) (1.4.1)\n",
            "Requirement already satisfied: kiwisolver>=1.0.1 in /usr/local/lib/python3.7/dist-packages (from matplotlib->matplotlib-venn) (1.3.2)\n",
            "Requirement already satisfied: cycler>=0.10 in /usr/local/lib/python3.7/dist-packages (from matplotlib->matplotlib-venn) (0.11.0)\n",
            "Requirement already satisfied: pyparsing!=2.0.4,!=2.1.2,!=2.1.6,>=2.0.1 in /usr/local/lib/python3.7/dist-packages (from matplotlib->matplotlib-venn) (3.0.6)\n",
            "Requirement already satisfied: python-dateutil>=2.1 in /usr/local/lib/python3.7/dist-packages (from matplotlib->matplotlib-venn) (2.8.2)\n",
            "Requirement already satisfied: six>=1.5 in /usr/local/lib/python3.7/dist-packages (from python-dateutil>=2.1->matplotlib->matplotlib-venn) (1.15.0)\n",
            "Collecting yfinance\n",
            "  Downloading yfinance-0.1.67-py2.py3-none-any.whl (25 kB)\n",
            "Requirement already satisfied: multitasking>=0.0.7 in /usr/local/lib/python3.7/dist-packages (from yfinance) (0.0.10)\n",
            "Collecting lxml>=4.5.1\n",
            "  Downloading lxml-4.6.4-cp37-cp37m-manylinux_2_17_x86_64.manylinux2014_x86_64.manylinux_2_24_x86_64.whl (6.3 MB)\n",
            "\u001b[K     |████████████████████████████████| 6.3 MB 6.3 MB/s \n",
            "\u001b[?25hRequirement already satisfied: pandas>=0.24 in /usr/local/lib/python3.7/dist-packages (from yfinance) (1.1.5)\n",
            "Requirement already satisfied: requests>=2.20 in /usr/local/lib/python3.7/dist-packages (from yfinance) (2.23.0)\n",
            "Requirement already satisfied: numpy>=1.15 in /usr/local/lib/python3.7/dist-packages (from yfinance) (1.19.5)\n",
            "Requirement already satisfied: pytz>=2017.2 in /usr/local/lib/python3.7/dist-packages (from pandas>=0.24->yfinance) (2018.9)\n",
            "Requirement already satisfied: python-dateutil>=2.7.3 in /usr/local/lib/python3.7/dist-packages (from pandas>=0.24->yfinance) (2.8.2)\n",
            "Requirement already satisfied: six>=1.5 in /usr/local/lib/python3.7/dist-packages (from python-dateutil>=2.7.3->pandas>=0.24->yfinance) (1.15.0)\n",
            "Requirement already satisfied: chardet<4,>=3.0.2 in /usr/local/lib/python3.7/dist-packages (from requests>=2.20->yfinance) (3.0.4)\n",
            "Requirement already satisfied: urllib3!=1.25.0,!=1.25.1,<1.26,>=1.21.1 in /usr/local/lib/python3.7/dist-packages (from requests>=2.20->yfinance) (1.24.3)\n",
            "Requirement already satisfied: certifi>=2017.4.17 in /usr/local/lib/python3.7/dist-packages (from requests>=2.20->yfinance) (2021.10.8)\n",
            "Requirement already satisfied: idna<3,>=2.5 in /usr/local/lib/python3.7/dist-packages (from requests>=2.20->yfinance) (2.10)\n",
            "Installing collected packages: lxml, yfinance\n",
            "  Attempting uninstall: lxml\n",
            "    Found existing installation: lxml 4.2.6\n",
            "    Uninstalling lxml-4.2.6:\n",
            "      Successfully uninstalled lxml-4.2.6\n",
            "Successfully installed lxml-4.6.4 yfinance-0.1.67\n",
            "Collecting influxdb-client\n",
            "  Downloading influxdb_client-1.24.0-py3-none-any.whl (524 kB)\n",
            "\u001b[K     |████████████████████████████████| 524 kB 5.1 MB/s \n",
            "\u001b[?25hRequirement already satisfied: setuptools>=21.0.0 in /usr/local/lib/python3.7/dist-packages (from influxdb-client) (57.4.0)\n",
            "Requirement already satisfied: urllib3>=1.15.1 in /usr/local/lib/python3.7/dist-packages (from influxdb-client) (1.24.3)\n",
            "Collecting pytz>=2019.1\n",
            "  Downloading pytz-2021.3-py2.py3-none-any.whl (503 kB)\n",
            "\u001b[K     |████████████████████████████████| 503 kB 54.8 MB/s \n",
            "\u001b[?25hRequirement already satisfied: certifi>=14.05.14 in /usr/local/lib/python3.7/dist-packages (from influxdb-client) (2021.10.8)\n",
            "Requirement already satisfied: six>=1.10 in /usr/local/lib/python3.7/dist-packages (from influxdb-client) (1.15.0)\n",
            "Requirement already satisfied: python-dateutil>=2.5.3 in /usr/local/lib/python3.7/dist-packages (from influxdb-client) (2.8.2)\n",
            "Collecting rx>=3.0.1\n",
            "  Downloading Rx-3.2.0-py3-none-any.whl (199 kB)\n",
            "\u001b[K     |████████████████████████████████| 199 kB 71.3 MB/s \n",
            "\u001b[?25hInstalling collected packages: rx, pytz, influxdb-client\n",
            "  Attempting uninstall: pytz\n",
            "    Found existing installation: pytz 2018.9\n",
            "    Uninstalling pytz-2018.9:\n",
            "      Successfully uninstalled pytz-2018.9\n",
            "Successfully installed influxdb-client-1.24.0 pytz-2021.3 rx-3.2.0\n"
          ]
        },
        {
          "output_type": "display_data",
          "data": {
            "application/vnd.colab-display-data+json": {
              "pip_warning": {
                "packages": [
                  "pytz"
                ]
              }
            }
          },
          "metadata": {}
        }
      ]
    },
    {
      "cell_type": "code",
      "metadata": {
        "id": "dnKiDya3QTve"
      },
      "source": [
        ""
      ],
      "execution_count": null,
      "outputs": []
    },
    {
      "cell_type": "markdown",
      "metadata": {
        "id": "1QEKi0o4EYMj"
      },
      "source": [
        "# Aktienkurse einlesen\n"
      ]
    },
    {
      "cell_type": "markdown",
      "metadata": {
        "id": "XRXmOUJGCBi0"
      },
      "source": [
        "**Text fett markieren**# Imports\n"
      ]
    },
    {
      "cell_type": "code",
      "metadata": {
        "id": "XZuRLmqkGgSu",
        "colab": {
          "base_uri": "https://localhost:8080/",
          "height": 304
        },
        "outputId": "d8c8ed99-243f-4069-cce4-60a6760a5b36"
      },
      "source": [
        "import yfinance as yf\n"
      ],
      "execution_count": null,
      "outputs": [
        {
          "output_type": "error",
          "ename": "ModuleNotFoundError",
          "evalue": "ignored",
          "traceback": [
            "\u001b[0;31m---------------------------------------------------------------------------\u001b[0m",
            "\u001b[0;31mModuleNotFoundError\u001b[0m                       Traceback (most recent call last)",
            "\u001b[0;32m<ipython-input-1-7b70635dcb62>\u001b[0m in \u001b[0;36m<module>\u001b[0;34m()\u001b[0m\n\u001b[0;32m----> 1\u001b[0;31m \u001b[0;32mimport\u001b[0m \u001b[0myfinance\u001b[0m \u001b[0;32mas\u001b[0m \u001b[0myf\u001b[0m\u001b[0;34m\u001b[0m\u001b[0;34m\u001b[0m\u001b[0m\n\u001b[0m",
            "\u001b[0;31mModuleNotFoundError\u001b[0m: No module named 'yfinance'",
            "",
            "\u001b[0;31m---------------------------------------------------------------------------\u001b[0;32m\nNOTE: If your import is failing due to a missing package, you can\nmanually install dependencies using either !pip or !apt.\n\nTo view examples of installing some common dependencies, click the\n\"Open Examples\" button below.\n\u001b[0;31m---------------------------------------------------------------------------\u001b[0m\n"
          ],
          "errorDetails": {
            "actions": [
              {
                "action": "open_url",
                "actionText": "Open Examples",
                "url": "/notebooks/snippets/importing_libraries.ipynb"
              }
            ]
          }
        }
      ]
    },
    {
      "cell_type": "code",
      "metadata": {
        "colab": {
          "base_uri": "https://localhost:8080/"
        },
        "id": "y4x_1tvdCVf-",
        "outputId": "432cdc0c-25ca-4cad-b444-ce5c2af69bca"
      },
      "source": [
        "msft = yf.Ticker(\"MSFT\")\n",
        "msft.info"
      ],
      "execution_count": null,
      "outputs": [
        {
          "output_type": "execute_result",
          "data": {
            "text/plain": [
              "{'52WeekChange': 0.6220828,\n",
              " 'SandP52WeekChange': 0.3224138,\n",
              " 'address1': 'One Microsoft Way',\n",
              " 'algorithm': None,\n",
              " 'annualHoldingsTurnover': None,\n",
              " 'annualReportExpenseRatio': None,\n",
              " 'ask': 0,\n",
              " 'askSize': 1000,\n",
              " 'averageDailyVolume10Day': 21004250,\n",
              " 'averageVolume': 23643217,\n",
              " 'averageVolume10days': 21004250,\n",
              " 'beta': 0.862337,\n",
              " 'beta3Year': None,\n",
              " 'bid': 0,\n",
              " 'bidSize': 800,\n",
              " 'bookValue': 20.242,\n",
              " 'category': None,\n",
              " 'circulatingSupply': None,\n",
              " 'city': 'Redmond',\n",
              " 'companyOfficers': [],\n",
              " 'country': 'United States',\n",
              " 'currency': 'USD',\n",
              " 'currentPrice': 341.27,\n",
              " 'currentRatio': 2.165,\n",
              " 'dateShortInterest': 1635465600,\n",
              " 'dayHigh': 342.45,\n",
              " 'dayLow': 337.13,\n",
              " 'debtToEquity': 51.938,\n",
              " 'dividendRate': 2.48,\n",
              " 'dividendYield': 0.0073,\n",
              " 'earningsGrowth': 0.489,\n",
              " 'earningsQuarterlyGrowth': 0.476,\n",
              " 'ebitda': 85745000448,\n",
              " 'ebitdaMargins': 0.48648998,\n",
              " 'enterpriseToEbitda': 29.28,\n",
              " 'enterpriseToRevenue': 14.244,\n",
              " 'enterpriseValue': 2510599487488,\n",
              " 'exDividendDate': 1637107200,\n",
              " 'exchange': 'NMS',\n",
              " 'exchangeTimezoneName': 'America/New_York',\n",
              " 'exchangeTimezoneShortName': 'EST',\n",
              " 'expireDate': None,\n",
              " 'fiftyDayAverage': 310.097,\n",
              " 'fiftyTwoWeekHigh': 342.45,\n",
              " 'fiftyTwoWeekLow': 208.16,\n",
              " 'financialCurrency': 'USD',\n",
              " 'fiveYearAverageReturn': None,\n",
              " 'fiveYearAvgDividendYield': 1.45,\n",
              " 'floatShares': 7500172144,\n",
              " 'forwardEps': 10.53,\n",
              " 'forwardPE': 32.409306,\n",
              " 'freeCashflow': 49819750400,\n",
              " 'fromCurrency': None,\n",
              " 'fullTimeEmployees': 181000,\n",
              " 'fundFamily': None,\n",
              " 'fundInceptionDate': None,\n",
              " 'gmtOffSetMilliseconds': '-18000000',\n",
              " 'grossMargins': 0.68864995,\n",
              " 'grossProfits': 115856000000,\n",
              " 'heldPercentInsiders': 0.00078,\n",
              " 'heldPercentInstitutions': 0.71763,\n",
              " 'impliedSharesOutstanding': None,\n",
              " 'industry': 'Software—Infrastructure',\n",
              " 'isEsgPopulated': False,\n",
              " 'lastCapGain': None,\n",
              " 'lastDividendDate': 1637107200,\n",
              " 'lastDividendValue': 0.62,\n",
              " 'lastFiscalYearEnd': 1625011200,\n",
              " 'lastMarket': None,\n",
              " 'lastSplitDate': 1045526400,\n",
              " 'lastSplitFactor': '2:1',\n",
              " 'legalType': None,\n",
              " 'logo_url': 'https://logo.clearbit.com/microsoft.com',\n",
              " 'longBusinessSummary': 'Microsoft Corporation develops, licenses, and supports software, services, devices, and solutions worldwide. Its Productivity and Business Processes segment offers Office, Exchange, SharePoint, Microsoft Teams, Office 365 Security and Compliance, and Skype for Business, as well as related Client Access Licenses (CAL); Skype, Outlook.com, OneDrive, and LinkedIn; and Dynamics 365, a set of cloud-based and on-premises business solutions for organizations and enterprise divisions. Its Intelligent Cloud segment licenses SQL, Windows Servers, Visual Studio, System Center, and related CALs; GitHub that provides a collaboration platform and code hosting service for developers; and Azure, a cloud platform. It also offers support services and Microsoft consulting services to assist customers in developing, deploying, and managing Microsoft server and desktop solutions; and training and certification on Microsoft products. Its More Personal Computing segment provides Windows original equipment manufacturer (OEM) licensing and other non-volume licensing of the Windows operating system; Windows Commercial, such as volume licensing of the Windows operating system, Windows cloud services, and other Windows commercial offerings; patent licensing; Windows Internet of Things; and MSN advertising. It also offers Surface, PC accessories, PCs, tablets, gaming and entertainment consoles, and other devices; Gaming, including Xbox hardware, and Xbox content and services; video games and third-party video game royalties; and Search, including Bing and Microsoft advertising. It sells its products through OEMs, distributors, and resellers; and directly through digital marketplaces, online stores, and retail stores. It has collaborations with Dynatrace, Inc., Morgan Stanley, Micro Focus, WPP plc, ACI Worldwide, Inc., and iCIMS, Inc., as well as strategic relationships with Avaya Holdings Corp. and wejo Limited. Microsoft Corporation was founded in 1975 and is based in Redmond, Washington.',\n",
              " 'longName': 'Microsoft Corporation',\n",
              " 'market': 'us_market',\n",
              " 'marketCap': 2562248146944,\n",
              " 'maxAge': 1,\n",
              " 'maxSupply': None,\n",
              " 'messageBoardId': 'finmb_21835',\n",
              " 'morningStarOverallRating': None,\n",
              " 'morningStarRiskRating': None,\n",
              " 'mostRecentQuarter': 1632960000,\n",
              " 'navPrice': None,\n",
              " 'netIncomeToCommon': 67882999808,\n",
              " 'nextFiscalYearEnd': 1688083200,\n",
              " 'numberOfAnalystOpinions': 38,\n",
              " 'open': 338.18,\n",
              " 'openInterest': None,\n",
              " 'operatingCashflow': 81945001984,\n",
              " 'operatingMargins': 0.42143002,\n",
              " 'payoutRatio': 0.25059998,\n",
              " 'pegRatio': 2.24,\n",
              " 'phone': '425 882 8080',\n",
              " 'preMarketPrice': 343.84,\n",
              " 'previousClose': 339.12,\n",
              " 'priceHint': 2,\n",
              " 'priceToBook': 16.859499,\n",
              " 'priceToSalesTrailing12Months': 14.537497,\n",
              " 'profitMargins': 0.38515,\n",
              " 'quickRatio': 1.961,\n",
              " 'quoteType': 'EQUITY',\n",
              " 'recommendationKey': 'buy',\n",
              " 'recommendationMean': 1.6,\n",
              " 'regularMarketDayHigh': 342.45,\n",
              " 'regularMarketDayLow': 337.13,\n",
              " 'regularMarketOpen': 338.18,\n",
              " 'regularMarketPreviousClose': 339.12,\n",
              " 'regularMarketPrice': 341.27,\n",
              " 'regularMarketVolume': 22371376,\n",
              " 'returnOnAssets': 0.14589,\n",
              " 'returnOnEquity': 0.49303,\n",
              " 'revenueGrowth': 0.22,\n",
              " 'revenuePerShare': 23.395,\n",
              " 'revenueQuarterlyGrowth': None,\n",
              " 'sector': 'Technology',\n",
              " 'sharesOutstanding': 7507979776,\n",
              " 'sharesPercentSharesOut': 0.0066000004,\n",
              " 'sharesShort': 49332744,\n",
              " 'sharesShortPreviousMonthDate': 1632960000,\n",
              " 'sharesShortPriorMonth': 47171313,\n",
              " 'shortName': 'Microsoft Corporation',\n",
              " 'shortPercentOfFloat': 0.0066000004,\n",
              " 'shortRatio': 1.97,\n",
              " 'startDate': None,\n",
              " 'state': 'WA',\n",
              " 'strikePrice': None,\n",
              " 'symbol': 'MSFT',\n",
              " 'targetHighPrice': 407,\n",
              " 'targetLowPrice': 299.93,\n",
              " 'targetMeanPrice': 360.03,\n",
              " 'targetMedianPrice': 361.5,\n",
              " 'threeYearAverageReturn': None,\n",
              " 'toCurrency': None,\n",
              " 'totalAssets': None,\n",
              " 'totalCash': 130584002560,\n",
              " 'totalCashPerShare': 17.393,\n",
              " 'totalDebt': 78934999040,\n",
              " 'totalRevenue': 176250994688,\n",
              " 'tradeable': False,\n",
              " 'trailingAnnualDividendRate': 2.3,\n",
              " 'trailingAnnualDividendYield': 0.00678226,\n",
              " 'trailingEps': 8.939,\n",
              " 'trailingPE': 38.177647,\n",
              " 'twoHundredDayAverage': 273.39084,\n",
              " 'volume': 22371376,\n",
              " 'volume24Hr': None,\n",
              " 'volumeAllCurrencies': None,\n",
              " 'website': 'http://www.microsoft.com',\n",
              " 'yield': None,\n",
              " 'ytdReturn': None,\n",
              " 'zip': '98052-6399'}"
            ]
          },
          "metadata": {},
          "execution_count": 13
        }
      ]
    },
    {
      "cell_type": "code",
      "metadata": {
        "colab": {
          "base_uri": "https://localhost:8080/",
          "height": 455
        },
        "id": "6S34oBcmFMj0",
        "outputId": "78477485-29ad-41b2-ec77-4426f535d105"
      },
      "source": [
        "\n",
        "msft.actions"
      ],
      "execution_count": null,
      "outputs": [
        {
          "output_type": "execute_result",
          "data": {
            "text/html": [
              "<div>\n",
              "<style scoped>\n",
              "    .dataframe tbody tr th:only-of-type {\n",
              "        vertical-align: middle;\n",
              "    }\n",
              "\n",
              "    .dataframe tbody tr th {\n",
              "        vertical-align: top;\n",
              "    }\n",
              "\n",
              "    .dataframe thead th {\n",
              "        text-align: right;\n",
              "    }\n",
              "</style>\n",
              "<table border=\"1\" class=\"dataframe\">\n",
              "  <thead>\n",
              "    <tr style=\"text-align: right;\">\n",
              "      <th></th>\n",
              "      <th>Dividends</th>\n",
              "      <th>Stock Splits</th>\n",
              "    </tr>\n",
              "    <tr>\n",
              "      <th>Date</th>\n",
              "      <th></th>\n",
              "      <th></th>\n",
              "    </tr>\n",
              "  </thead>\n",
              "  <tbody>\n",
              "    <tr>\n",
              "      <th>1987-09-21</th>\n",
              "      <td>0.00</td>\n",
              "      <td>2.0</td>\n",
              "    </tr>\n",
              "    <tr>\n",
              "      <th>1990-04-16</th>\n",
              "      <td>0.00</td>\n",
              "      <td>2.0</td>\n",
              "    </tr>\n",
              "    <tr>\n",
              "      <th>1991-06-27</th>\n",
              "      <td>0.00</td>\n",
              "      <td>1.5</td>\n",
              "    </tr>\n",
              "    <tr>\n",
              "      <th>1992-06-15</th>\n",
              "      <td>0.00</td>\n",
              "      <td>1.5</td>\n",
              "    </tr>\n",
              "    <tr>\n",
              "      <th>1994-05-23</th>\n",
              "      <td>0.00</td>\n",
              "      <td>2.0</td>\n",
              "    </tr>\n",
              "    <tr>\n",
              "      <th>...</th>\n",
              "      <td>...</td>\n",
              "      <td>...</td>\n",
              "    </tr>\n",
              "    <tr>\n",
              "      <th>2020-11-18</th>\n",
              "      <td>0.56</td>\n",
              "      <td>0.0</td>\n",
              "    </tr>\n",
              "    <tr>\n",
              "      <th>2021-02-17</th>\n",
              "      <td>0.56</td>\n",
              "      <td>0.0</td>\n",
              "    </tr>\n",
              "    <tr>\n",
              "      <th>2021-05-19</th>\n",
              "      <td>0.56</td>\n",
              "      <td>0.0</td>\n",
              "    </tr>\n",
              "    <tr>\n",
              "      <th>2021-08-18</th>\n",
              "      <td>0.56</td>\n",
              "      <td>0.0</td>\n",
              "    </tr>\n",
              "    <tr>\n",
              "      <th>2021-11-17</th>\n",
              "      <td>0.62</td>\n",
              "      <td>0.0</td>\n",
              "    </tr>\n",
              "  </tbody>\n",
              "</table>\n",
              "<p>81 rows × 2 columns</p>\n",
              "</div>"
            ],
            "text/plain": [
              "            Dividends  Stock Splits\n",
              "Date                               \n",
              "1987-09-21       0.00           2.0\n",
              "1990-04-16       0.00           2.0\n",
              "1991-06-27       0.00           1.5\n",
              "1992-06-15       0.00           1.5\n",
              "1994-05-23       0.00           2.0\n",
              "...               ...           ...\n",
              "2020-11-18       0.56           0.0\n",
              "2021-02-17       0.56           0.0\n",
              "2021-05-19       0.56           0.0\n",
              "2021-08-18       0.56           0.0\n",
              "2021-11-17       0.62           0.0\n",
              "\n",
              "[81 rows x 2 columns]"
            ]
          },
          "metadata": {},
          "execution_count": 12
        }
      ]
    },
    {
      "cell_type": "code",
      "metadata": {
        "colab": {
          "base_uri": "https://localhost:8080/"
        },
        "id": "D_UKrS4sHE0P",
        "outputId": "e9fa49f3-d0b7-4d6a-8d84-4ce846388b0e"
      },
      "source": [
        "# Dividenden ausgeben\n",
        "msft.dividends\n",
        "\n",
        "\n"
      ],
      "execution_count": null,
      "outputs": [
        {
          "output_type": "execute_result",
          "data": {
            "text/plain": [
              "Date\n",
              "2003-02-19    0.08\n",
              "2003-10-15    0.16\n",
              "2004-08-23    0.08\n",
              "2004-11-15    3.08\n",
              "2005-02-15    0.08\n",
              "              ... \n",
              "2020-11-18    0.56\n",
              "2021-02-17    0.56\n",
              "2021-05-19    0.56\n",
              "2021-08-18    0.56\n",
              "2021-11-17    0.62\n",
              "Name: Dividends, Length: 72, dtype: float64"
            ]
          },
          "metadata": {},
          "execution_count": 18
        }
      ]
    },
    {
      "cell_type": "code",
      "metadata": {
        "colab": {
          "base_uri": "https://localhost:8080/"
        },
        "id": "p1VAWwJfHnd-",
        "outputId": "62d88ae2-aee2-48aa-d320-f074658a21f9"
      },
      "source": [
        "# wann war die größte Dividende?\n",
        "msft.dividends.nlargest(1)"
      ],
      "execution_count": null,
      "outputs": [
        {
          "output_type": "execute_result",
          "data": {
            "text/plain": [
              "Date\n",
              "2004-11-15    3.08\n",
              "Name: Dividends, dtype: float64"
            ]
          },
          "metadata": {},
          "execution_count": 19
        }
      ]
    },
    {
      "cell_type": "code",
      "metadata": {
        "colab": {
          "base_uri": "https://localhost:8080/"
        },
        "id": "8Z3UI2xoHzy2",
        "outputId": "3044ffef-69c2-408d-908d-a5c6abd380c5"
      },
      "source": [
        "# wann gab es Splits?\n",
        "msft.splits"
      ],
      "execution_count": null,
      "outputs": [
        {
          "output_type": "execute_result",
          "data": {
            "text/plain": [
              "Series([], Name: Stock Splits, dtype: int64)"
            ]
          },
          "metadata": {},
          "execution_count": 24
        }
      ]
    },
    {
      "cell_type": "code",
      "metadata": {
        "colab": {
          "base_uri": "https://localhost:8080/",
          "height": 802
        },
        "id": "nkV5q_0jIIAm",
        "outputId": "5776f820-f177-4a58-aabe-cc374947bd16"
      },
      "source": [
        "# wie hat sich die Aktien in der Historie verhalten?\n",
        "msft.history()"
      ],
      "execution_count": null,
      "outputs": [
        {
          "output_type": "execute_result",
          "data": {
            "text/html": [
              "<div>\n",
              "<style scoped>\n",
              "    .dataframe tbody tr th:only-of-type {\n",
              "        vertical-align: middle;\n",
              "    }\n",
              "\n",
              "    .dataframe tbody tr th {\n",
              "        vertical-align: top;\n",
              "    }\n",
              "\n",
              "    .dataframe thead th {\n",
              "        text-align: right;\n",
              "    }\n",
              "</style>\n",
              "<table border=\"1\" class=\"dataframe\">\n",
              "  <thead>\n",
              "    <tr style=\"text-align: right;\">\n",
              "      <th></th>\n",
              "      <th>Open</th>\n",
              "      <th>High</th>\n",
              "      <th>Low</th>\n",
              "      <th>Close</th>\n",
              "      <th>Volume</th>\n",
              "      <th>Dividends</th>\n",
              "      <th>Stock Splits</th>\n",
              "    </tr>\n",
              "    <tr>\n",
              "      <th>Date</th>\n",
              "      <th></th>\n",
              "      <th></th>\n",
              "      <th></th>\n",
              "      <th></th>\n",
              "      <th></th>\n",
              "      <th></th>\n",
              "      <th></th>\n",
              "    </tr>\n",
              "  </thead>\n",
              "  <tbody>\n",
              "    <tr>\n",
              "      <th>2021-10-19</th>\n",
              "      <td>307.786921</td>\n",
              "      <td>308.735168</td>\n",
              "      <td>306.658979</td>\n",
              "      <td>307.667145</td>\n",
              "      <td>17682100</td>\n",
              "      <td>0.00</td>\n",
              "      <td>0</td>\n",
              "    </tr>\n",
              "    <tr>\n",
              "      <th>2021-10-20</th>\n",
              "      <td>308.645334</td>\n",
              "      <td>309.134460</td>\n",
              "      <td>305.550989</td>\n",
              "      <td>306.848633</td>\n",
              "      <td>16537100</td>\n",
              "      <td>0.00</td>\n",
              "      <td>0</td>\n",
              "    </tr>\n",
              "    <tr>\n",
              "      <th>2021-10-21</th>\n",
              "      <td>306.609065</td>\n",
              "      <td>310.452009</td>\n",
              "      <td>305.800516</td>\n",
              "      <td>310.192505</td>\n",
              "      <td>16918100</td>\n",
              "      <td>0.00</td>\n",
              "      <td>0</td>\n",
              "    </tr>\n",
              "    <tr>\n",
              "      <th>2021-10-22</th>\n",
              "      <td>309.833154</td>\n",
              "      <td>310.521897</td>\n",
              "      <td>307.237896</td>\n",
              "      <td>308.595428</td>\n",
              "      <td>17449300</td>\n",
              "      <td>0.00</td>\n",
              "      <td>0</td>\n",
              "    </tr>\n",
              "    <tr>\n",
              "      <th>2021-10-25</th>\n",
              "      <td>308.795056</td>\n",
              "      <td>308.834992</td>\n",
              "      <td>305.900358</td>\n",
              "      <td>307.567322</td>\n",
              "      <td>17554500</td>\n",
              "      <td>0.00</td>\n",
              "      <td>0</td>\n",
              "    </tr>\n",
              "    <tr>\n",
              "      <th>2021-10-26</th>\n",
              "      <td>310.432060</td>\n",
              "      <td>311.829497</td>\n",
              "      <td>308.036449</td>\n",
              "      <td>309.543671</td>\n",
              "      <td>28107300</td>\n",
              "      <td>0.00</td>\n",
              "      <td>0</td>\n",
              "    </tr>\n",
              "    <tr>\n",
              "      <th>2021-10-27</th>\n",
              "      <td>315.422944</td>\n",
              "      <td>325.504507</td>\n",
              "      <td>315.422944</td>\n",
              "      <td>322.579865</td>\n",
              "      <td>52588700</td>\n",
              "      <td>0.00</td>\n",
              "      <td>0</td>\n",
              "    </tr>\n",
              "    <tr>\n",
              "      <th>2021-10-28</th>\n",
              "      <td>323.737707</td>\n",
              "      <td>324.276730</td>\n",
              "      <td>320.773130</td>\n",
              "      <td>323.757690</td>\n",
              "      <td>26297900</td>\n",
              "      <td>0.00</td>\n",
              "      <td>0</td>\n",
              "    </tr>\n",
              "    <tr>\n",
              "      <th>2021-10-29</th>\n",
              "      <td>323.538092</td>\n",
              "      <td>331.393715</td>\n",
              "      <td>323.308501</td>\n",
              "      <td>331.014404</td>\n",
              "      <td>34744900</td>\n",
              "      <td>0.00</td>\n",
              "      <td>0</td>\n",
              "    </tr>\n",
              "    <tr>\n",
              "      <th>2021-11-01</th>\n",
              "      <td>330.754880</td>\n",
              "      <td>330.884648</td>\n",
              "      <td>325.774003</td>\n",
              "      <td>328.768524</td>\n",
              "      <td>27073200</td>\n",
              "      <td>0.00</td>\n",
              "      <td>0</td>\n",
              "    </tr>\n",
              "    <tr>\n",
              "      <th>2021-11-02</th>\n",
              "      <td>329.706810</td>\n",
              "      <td>332.841090</td>\n",
              "      <td>329.397378</td>\n",
              "      <td>332.521667</td>\n",
              "      <td>26487100</td>\n",
              "      <td>0.00</td>\n",
              "      <td>0</td>\n",
              "    </tr>\n",
              "    <tr>\n",
              "      <th>2021-11-03</th>\n",
              "      <td>333.290222</td>\n",
              "      <td>334.288395</td>\n",
              "      <td>330.046157</td>\n",
              "      <td>333.390045</td>\n",
              "      <td>21500100</td>\n",
              "      <td>0.00</td>\n",
              "      <td>0</td>\n",
              "    </tr>\n",
              "    <tr>\n",
              "      <th>2021-11-04</th>\n",
              "      <td>332.282087</td>\n",
              "      <td>335.925416</td>\n",
              "      <td>328.908255</td>\n",
              "      <td>335.825592</td>\n",
              "      <td>23992200</td>\n",
              "      <td>0.00</td>\n",
              "      <td>0</td>\n",
              "    </tr>\n",
              "    <tr>\n",
              "      <th>2021-11-05</th>\n",
              "      <td>337.891827</td>\n",
              "      <td>338.171315</td>\n",
              "      <td>333.809300</td>\n",
              "      <td>335.446289</td>\n",
              "      <td>22564000</td>\n",
              "      <td>0.00</td>\n",
              "      <td>0</td>\n",
              "    </tr>\n",
              "    <tr>\n",
              "      <th>2021-11-08</th>\n",
              "      <td>336.684035</td>\n",
              "      <td>337.033402</td>\n",
              "      <td>333.829272</td>\n",
              "      <td>336.374603</td>\n",
              "      <td>20897000</td>\n",
              "      <td>0.00</td>\n",
              "      <td>0</td>\n",
              "    </tr>\n",
              "    <tr>\n",
              "      <th>2021-11-09</th>\n",
              "      <td>336.494372</td>\n",
              "      <td>338.101448</td>\n",
              "      <td>333.919097</td>\n",
              "      <td>335.336517</td>\n",
              "      <td>21307400</td>\n",
              "      <td>0.00</td>\n",
              "      <td>0</td>\n",
              "    </tr>\n",
              "    <tr>\n",
              "      <th>2021-11-10</th>\n",
              "      <td>333.959027</td>\n",
              "      <td>334.018915</td>\n",
              "      <td>329.317525</td>\n",
              "      <td>330.195892</td>\n",
              "      <td>25500900</td>\n",
              "      <td>0.00</td>\n",
              "      <td>0</td>\n",
              "    </tr>\n",
              "    <tr>\n",
              "      <th>2021-11-11</th>\n",
              "      <td>330.645069</td>\n",
              "      <td>333.160456</td>\n",
              "      <td>329.906430</td>\n",
              "      <td>331.822906</td>\n",
              "      <td>16849800</td>\n",
              "      <td>0.00</td>\n",
              "      <td>0</td>\n",
              "    </tr>\n",
              "    <tr>\n",
              "      <th>2021-11-12</th>\n",
              "      <td>333.310228</td>\n",
              "      <td>336.614181</td>\n",
              "      <td>333.180460</td>\n",
              "      <td>336.105103</td>\n",
              "      <td>23822000</td>\n",
              "      <td>0.00</td>\n",
              "      <td>0</td>\n",
              "    </tr>\n",
              "    <tr>\n",
              "      <th>2021-11-15</th>\n",
              "      <td>336.923616</td>\n",
              "      <td>337.262991</td>\n",
              "      <td>333.420016</td>\n",
              "      <td>335.456299</td>\n",
              "      <td>16723000</td>\n",
              "      <td>0.00</td>\n",
              "      <td>0</td>\n",
              "    </tr>\n",
              "    <tr>\n",
              "      <th>2021-11-16</th>\n",
              "      <td>335.066992</td>\n",
              "      <td>340.047900</td>\n",
              "      <td>334.897319</td>\n",
              "      <td>338.890015</td>\n",
              "      <td>20886800</td>\n",
              "      <td>0.00</td>\n",
              "      <td>0</td>\n",
              "    </tr>\n",
              "    <tr>\n",
              "      <th>2021-11-17</th>\n",
              "      <td>338.940002</td>\n",
              "      <td>342.190002</td>\n",
              "      <td>338.000000</td>\n",
              "      <td>339.119995</td>\n",
              "      <td>19053400</td>\n",
              "      <td>0.62</td>\n",
              "      <td>0</td>\n",
              "    </tr>\n",
              "    <tr>\n",
              "      <th>2021-11-18</th>\n",
              "      <td>338.179993</td>\n",
              "      <td>342.450012</td>\n",
              "      <td>337.119995</td>\n",
              "      <td>341.269989</td>\n",
              "      <td>22438200</td>\n",
              "      <td>0.00</td>\n",
              "      <td>0</td>\n",
              "    </tr>\n",
              "  </tbody>\n",
              "</table>\n",
              "</div>"
            ],
            "text/plain": [
              "                  Open        High  ...  Dividends  Stock Splits\n",
              "Date                                ...                         \n",
              "2021-10-19  307.786921  308.735168  ...       0.00             0\n",
              "2021-10-20  308.645334  309.134460  ...       0.00             0\n",
              "2021-10-21  306.609065  310.452009  ...       0.00             0\n",
              "2021-10-22  309.833154  310.521897  ...       0.00             0\n",
              "2021-10-25  308.795056  308.834992  ...       0.00             0\n",
              "2021-10-26  310.432060  311.829497  ...       0.00             0\n",
              "2021-10-27  315.422944  325.504507  ...       0.00             0\n",
              "2021-10-28  323.737707  324.276730  ...       0.00             0\n",
              "2021-10-29  323.538092  331.393715  ...       0.00             0\n",
              "2021-11-01  330.754880  330.884648  ...       0.00             0\n",
              "2021-11-02  329.706810  332.841090  ...       0.00             0\n",
              "2021-11-03  333.290222  334.288395  ...       0.00             0\n",
              "2021-11-04  332.282087  335.925416  ...       0.00             0\n",
              "2021-11-05  337.891827  338.171315  ...       0.00             0\n",
              "2021-11-08  336.684035  337.033402  ...       0.00             0\n",
              "2021-11-09  336.494372  338.101448  ...       0.00             0\n",
              "2021-11-10  333.959027  334.018915  ...       0.00             0\n",
              "2021-11-11  330.645069  333.160456  ...       0.00             0\n",
              "2021-11-12  333.310228  336.614181  ...       0.00             0\n",
              "2021-11-15  336.923616  337.262991  ...       0.00             0\n",
              "2021-11-16  335.066992  340.047900  ...       0.00             0\n",
              "2021-11-17  338.940002  342.190002  ...       0.62             0\n",
              "2021-11-18  338.179993  342.450012  ...       0.00             0\n",
              "\n",
              "[23 rows x 7 columns]"
            ]
          },
          "metadata": {},
          "execution_count": 22
        }
      ]
    },
    {
      "cell_type": "code",
      "metadata": {
        "colab": {
          "base_uri": "https://localhost:8080/",
          "height": 281
        },
        "id": "C4HZx7Gndbrh",
        "outputId": "29c645a5-befb-4b91-cc20-2dc85f7abf55"
      },
      "source": [
        "import numpy as np\n",
        "from matplotlib import pyplot as plt\n",
        "\n",
        "# wie hat sich die Aktien in der Historie verhalten?\n",
        "msft.history()\n",
        "\n",
        "ys = 200 + np.random.randn(100)\n",
        "x = [x for x in range(len(ys))]\n",
        "\n",
        "plt.plot(x, ys, '-')\n",
        "plt.fill_between(x, ys, 195, where=(ys > 195), facecolor='g', alpha=0.6)\n",
        "\n",
        "plt.title(\"Sample Visualization\")\n",
        "plt.show()"
      ],
      "execution_count": null,
      "outputs": [
        {
          "output_type": "display_data",
          "data": {
            "image/png": "[encoded data removed]",
            "text/plain": [
              "<Figure size 432x288 with 1 Axes>"
            ]
          },
          "metadata": {
            "needs_background": "light"
          }
        }
      ]
    },
    {
      "cell_type": "markdown",
      "metadata": {
        "id": "loZh34B7CD7c"
      },
      "source": [
        "*kursiver Text*# Neuer Abschnitt"
      ]
    },
    {
      "cell_type": "markdown",
      "metadata": {
        "id": "WGIRd8mfNTQm"
      },
      "source": [
        "# Datenkurse laden\n"
      ]
    },
    {
      "cell_type": "code",
      "metadata": {
        "colab": {
          "base_uri": "https://localhost:8080/"
        },
        "id": "RiiYIWKOKIT4",
        "outputId": "ceea8b79-3b59-4cfe-e53c-c003373028f1"
      },
      "source": [
        "goog = yf.download(tickers='GOOG', period = '5d', interval = '15m', rounding= True)\n",
        "print(goog)\n"
      ],
      "execution_count": null,
      "outputs": [
        {
          "output_type": "stream",
          "name": "stdout",
          "text": [
            "\r[*********************100%***********************]  1 of 1 completed\n",
            "                              Open     High  ...  Adj Close  Volume\n",
            "Datetime                                     ...                   \n",
            "2021-11-12 09:30:00-05:00  2956.63  2958.30  ...    2935.26   85821\n",
            "2021-11-12 09:45:00-05:00  2936.90  2945.98  ...    2942.15   36215\n",
            "2021-11-12 10:00:00-05:00  2945.16  2961.44  ...    2958.88   31405\n",
            "2021-11-12 10:15:00-05:00  2953.85  2964.20  ...    2960.48   32557\n",
            "2021-11-12 10:30:00-05:00  2960.82  2960.84  ...    2952.90   32610\n",
            "...                            ...      ...  ...        ...     ...\n",
            "2021-11-18 14:45:00-05:00  3012.04  3014.26  ...    3013.17   16344\n",
            "2021-11-18 15:00:00-05:00  3013.14  3016.92  ...    3015.16   14690\n",
            "2021-11-18 15:15:00-05:00  3015.81  3020.12  ...    3020.12   18524\n",
            "2021-11-18 15:30:00-05:00  3020.12  3024.14  ...    3023.82   34003\n",
            "2021-11-18 15:45:00-05:00  3023.56  3024.84  ...    3014.33  142018\n",
            "\n",
            "[130 rows x 6 columns]\n"
          ]
        }
      ]
    },
    {
      "cell_type": "markdown",
      "metadata": {
        "id": "-LT2baHsNamE"
      },
      "source": [
        ""
      ]
    },
    {
      "cell_type": "markdown",
      "metadata": {
        "id": "qlQ6IXQcNc8q"
      },
      "source": [
        "# grafische Darstellung"
      ]
    },
    {
      "cell_type": "code",
      "metadata": {
        "colab": {
          "base_uri": "https://localhost:8080/",
          "height": 577
        },
        "id": "ucK644hLK4eG",
        "outputId": "afc9745b-c590-4791-b7d7-ec3be3605ebc"
      },
      "source": [
        "import plotly.graph_objs as go\n",
        "import yfinance as yf\n",
        "choice = input('Write a stock symbol: ')\n",
        "choice = choice.upper()\n",
        "data = yf.download(tickers=choice, period = '5d', interval = '15m', rounding= True)\n",
        "fig = go.Figure()\n",
        "fig.add_trace(go.Candlestick(x=data.index,open = data['Open'], high=data['High'], low=data['Low'], close=data['Close'], name = 'market data'))\n",
        "# fig.update_layout(title = choice + '' share price', yaxis_title = 'Stock Price (USD)'')\n",
        "fig.update_layout(title = choice + ' share price', yaxis_title = 'Stock Price (USD)')\n",
        "#fig.update_layout(title = choice + ‘ share price’, yaxis_title = ‘Stock Price (USD)’)\n",
        "fig.update_xaxes(\n",
        "rangeslider_visible=True,\n",
        "rangeselector=dict(\n",
        "buttons=list([\n",
        "dict(count=15, label='15m', step='minute', stepmode='backward'),\n",
        "dict(count=45, label='45m', step='minute', stepmode='backward'),\n",
        "dict(count=1, label='1h', step='hour', stepmode='backward'),\n",
        "dict(count=6, label='6h', step='hour', stepmode='backward'),\n",
        "dict(step='all')\n",
        "])\n",
        ")\n",
        ")\n",
        "fig.show()"
      ],
      "execution_count": null,
      "outputs": [
        {
          "output_type": "stream",
          "name": "stdout",
          "text": [
            "Write a stock symbol: goog\n",
            "[*********************100%***********************]  1 of 1 completed\n"
          ]
        },
        {
          "output_type": "display_data",
          "data": {
            "text/html": [
              "<html>\n",
              "<head><meta charset=\"utf-8\" /></head>\n",
              "<body>\n",
              "    <div>\n",
              "            <script src=\"https://cdnjs.cloudflare.com/ajax/libs/mathjax/2.7.5/MathJax.js?config=TeX-AMS-MML_SVG\"></script><script type=\"text/javascript\">if (window.MathJax) {MathJax.Hub.Config({SVG: {font: \"STIX-Web\"}});}</script>\n",
              "                <script type=\"text/javascript\">window.PlotlyConfig = {MathJaxConfig: 'local'};</script>\n",
              "        <script src=\"https://cdn.plot.ly/plotly-latest.min.js\"></script>    \n",
              "            <div id=\"b22379b6-4399-4c4e-a3b0-6eab95675240\" class=\"plotly-graph-div\" style=\"height:525px; width:100%;\"></div>\n",
              "            <script type=\"text/javascript\">\n",
              "                \n",
              "                    window.PLOTLYENV=window.PLOTLYENV || {};\n",
              "                    \n",
              "                if (document.getElementById(\"b22379b6-4399-4c4e-a3b0-6eab95675240\")) {\n",
              "                    Plotly.newPlot(\n",
              "                        'b22379b6-4399-4c4e-a3b0-6eab95675240',\n",
              "                        [{\"close\": [2935.26, 2942.15, 2958.88, 2960.48, 2952.9, 2961.2, 2968.2, 2977.05, 2977.63, 2981.02, 2990.0, 2991.76, 2994.79, 2983.48, 2988.27, 2983.86, 2990.82, 2992.3, 2987.82, 2986.67, 2988.82, 2989.18, 2989.41, 2993.46, 2993.86, 2992.47, 2992.36, 3001.0, 2991.79, 2988.2, 2981.64, 2986.26, 2985.45, 2986.39, 2975.0, 2986.36, 2984.29, 2982.37, 2987.39, 2990.06, 2986.81, 2987.63, 2989.11, 2988.55, 2985.8, 2985.7, 2989.73, 2988.89, 2988.35, 2992.9, 2988.74, 2988.63, 2976.8, 2977.14, 2983.61, 2979.74, 2978.03, 2981.39, 2988.64, 2993.35, 2991.19, 2987.92, 2988.61, 2986.06, 2982.78, 2983.89, 2982.69, 2979.33, 2980.7, 2982.38, 2986.59, 2984.61, 2984.66, 2985.35, 2983.35, 2984.16, 2986.45, 2981.73, 2987.32, 2974.24, 2977.93, 2979.19, 2978.07, 2980.24, 2976.55, 2976.36, 2976.29, 2983.64, 2981.89, 2976.39, 2979.64, 2981.52, 2983.0, 2982.45, 2982.12, 2983.92, 2989.93, 2990.8, 2988.75, 2986.75, 2984.01, 2985.11, 2989.9, 2981.51, 2990.65, 2998.13, 3001.87, 2990.65, 2993.07, 2996.44, 3003.07, 3009.44, 3025.37, 3025.78, 3024.85, 3026.77, 3025.82, 3021.24, 3022.78, 3027.24, 3023.64, 3022.19, 3023.16, 3010.99, 3011.07, 3013.17, 3015.16, 3020.12, 3023.82, 3014.33], \"high\": [2958.3, 2945.98, 2961.44, 2964.2, 2960.84, 2963.69, 2968.2, 2979.98, 2981.74, 2983.15, 2990.15, 2993.73, 2997.0, 2994.78, 2989.0, 2987.37, 2990.84, 2992.74, 2993.61, 2990.92, 2988.82, 2991.63, 2991.36, 2994.44, 2997.19, 2994.67, 3009.54, 3002.82, 3000.58, 2992.19, 2991.97, 2988.88, 2988.14, 2987.5, 2991.14, 2986.36, 2990.43, 2986.54, 2989.4, 2990.06, 2990.73, 2990.0, 2991.24, 2990.95, 2987.86, 2985.76, 2990.49, 2992.52, 2989.02, 2993.47, 2992.81, 2988.74, 2984.99, 2983.39, 2983.68, 2986.65, 2984.75, 2982.99, 2990.51, 2996.65, 2994.05, 2990.32, 2989.5, 2991.17, 2985.02, 2985.79, 2986.67, 2983.34, 2981.72, 2983.29, 2988.09, 2987.63, 2985.64, 2986.9, 2985.43, 2984.71, 2988.9, 2986.59, 2990.0, 2988.19, 2983.42, 2984.26, 2978.95, 2980.5, 2980.18, 2976.68, 2978.8, 2984.47, 2984.9, 2982.78, 2982.64, 2982.31, 2983.0, 2983.33, 2982.8, 2985.43, 2990.36, 2992.52, 2988.75, 2989.64, 2985.54, 2986.75, 2990.4, 2991.85, 3000.15, 2998.22, 3017.1, 3001.43, 3003.21, 2999.43, 3003.07, 3013.67, 3027.52, 3032.2, 3028.33, 3032.0, 3026.0, 3025.83, 3023.88, 3027.24, 3027.06, 3025.66, 3025.72, 3022.66, 3016.93, 3014.26, 3016.92, 3020.12, 3024.14, 3024.84], \"low\": [2929.12, 2932.3, 2945.16, 2950.44, 2946.4, 2953.03, 2960.97, 2968.56, 2975.77, 2971.08, 2980.75, 2989.14, 2990.57, 2983.48, 2983.84, 2982.35, 2983.8, 2987.99, 2986.96, 2986.67, 2986.07, 2988.43, 2987.94, 2990.85, 2993.12, 2990.01, 2990.65, 2990.88, 2990.0, 2983.78, 2981.64, 2979.06, 2981.88, 2981.88, 2975.0, 2973.05, 2983.41, 2977.8, 2985.03, 2986.11, 2982.68, 2981.78, 2987.4, 2987.85, 2983.03, 2983.51, 2985.26, 2987.26, 2987.78, 2986.6, 2988.4, 2983.02, 2967.0, 2971.39, 2976.44, 2979.74, 2977.62, 2979.54, 2979.12, 2990.5, 2986.72, 2986.06, 2985.48, 2985.01, 2980.87, 2981.43, 2982.69, 2979.25, 2978.39, 2977.81, 2982.36, 2979.06, 2982.48, 2984.52, 2982.3, 2982.86, 2984.16, 2978.05, 2978.63, 2972.71, 2973.76, 2975.81, 2973.25, 2973.9, 2971.26, 2973.63, 2973.0, 2977.37, 2979.97, 2976.15, 2975.11, 2977.5, 2977.5, 2977.43, 2978.51, 2979.3, 2982.6, 2983.74, 2983.75, 2985.42, 2983.3, 2985.11, 2984.65, 2980.48, 2979.97, 2992.91, 2999.09, 2990.65, 2991.98, 2991.19, 2995.82, 3002.6, 3009.47, 3022.67, 3022.08, 3026.57, 3021.24, 3013.12, 3018.97, 3021.9, 3022.87, 3020.32, 3018.82, 3007.99, 3008.22, 3010.2, 3011.05, 3015.81, 3018.64, 3009.31], \"name\": \"market data\", \"open\": [2956.63, 2936.9, 2945.16, 2953.85, 2960.82, 2953.03, 2960.98, 2968.56, 2979.9, 2977.51, 2984.43, 2989.5, 2992.38, 2994.78, 2984.17, 2987.37, 2983.8, 2989.59, 2993.0, 2987.83, 2987.96, 2988.44, 2990.46, 2990.85, 2994.37, 2993.57, 3000.0, 2995.34, 3000.0, 2990.64, 2989.7, 2980.36, 2986.22, 2986.08, 2986.04, 2974.02, 2985.38, 2986.18, 2985.66, 2987.39, 2989.67, 2987.31, 2989.05, 2989.39, 2987.86, 2985.56, 2985.26, 2990.97, 2988.51, 2986.6, 2992.81, 2988.74, 2983.41, 2976.0, 2979.22, 2982.96, 2981.13, 2979.54, 2982.91, 2990.5, 2994.05, 2989.72, 2988.68, 2988.61, 2984.31, 2983.2, 2983.89, 2983.19, 2980.06, 2980.27, 2982.36, 2986.59, 2985.64, 2984.66, 2984.74, 2983.31, 2984.16, 2986.38, 2984.58, 2988.19, 2973.76, 2978.1, 2976.4, 2979.7, 2980.18, 2974.89, 2977.11, 2977.37, 2984.06, 2981.61, 2977.06, 2979.58, 2981.09, 2982.47, 2981.68, 2982.81, 2983.59, 2991.51, 2988.38, 2988.51, 2983.95, 2985.46, 2984.9, 2989.74, 2982.92, 2994.82, 3000.0, 3000.0, 2991.98, 2994.0, 2997.61, 3003.67, 3010.18, 3025.1, 3028.33, 3027.95, 3022.6, 3025.83, 3021.09, 3022.78, 3025.55, 3023.93, 3020.88, 3022.66, 3010.01, 3012.04, 3013.14, 3015.81, 3020.12, 3023.56], \"type\": \"candlestick\", \"x\": [\"2021-11-12T09:30:00-05:00\", \"2021-11-12T09:45:00-05:00\", \"2021-11-12T10:00:00-05:00\", \"2021-11-12T10:15:00-05:00\", \"2021-11-12T10:30:00-05:00\", \"2021-11-12T10:45:00-05:00\", \"2021-11-12T11:00:00-05:00\", \"2021-11-12T11:15:00-05:00\", \"2021-11-12T11:30:00-05:00\", \"2021-11-12T11:45:00-05:00\", \"2021-11-12T12:00:00-05:00\", \"2021-11-12T12:15:00-05:00\", \"2021-11-12T12:30:00-05:00\", \"2021-11-12T12:45:00-05:00\", \"2021-11-12T13:00:00-05:00\", \"2021-11-12T13:15:00-05:00\", \"2021-11-12T13:30:00-05:00\", \"2021-11-12T13:45:00-05:00\", \"2021-11-12T14:00:00-05:00\", \"2021-11-12T14:15:00-05:00\", \"2021-11-12T14:30:00-05:00\", \"2021-11-12T14:45:00-05:00\", \"2021-11-12T15:00:00-05:00\", \"2021-11-12T15:15:00-05:00\", \"2021-11-12T15:30:00-05:00\", \"2021-11-12T15:45:00-05:00\", \"2021-11-15T09:30:00-05:00\", \"2021-11-15T09:45:00-05:00\", \"2021-11-15T10:00:00-05:00\", \"2021-11-15T10:15:00-05:00\", \"2021-11-15T10:30:00-05:00\", \"2021-11-15T10:45:00-05:00\", \"2021-11-15T11:00:00-05:00\", \"2021-11-15T11:15:00-05:00\", \"2021-11-15T11:30:00-05:00\", \"2021-11-15T11:45:00-05:00\", \"2021-11-15T12:00:00-05:00\", \"2021-11-15T12:15:00-05:00\", \"2021-11-15T12:30:00-05:00\", \"2021-11-15T12:45:00-05:00\", \"2021-11-15T13:00:00-05:00\", \"2021-11-15T13:15:00-05:00\", \"2021-11-15T13:30:00-05:00\", \"2021-11-15T13:45:00-05:00\", \"2021-11-15T14:00:00-05:00\", \"2021-11-15T14:15:00-05:00\", \"2021-11-15T14:30:00-05:00\", \"2021-11-15T14:45:00-05:00\", \"2021-11-15T15:00:00-05:00\", \"2021-11-15T15:15:00-05:00\", \"2021-11-15T15:30:00-05:00\", \"2021-11-15T15:45:00-05:00\", \"2021-11-16T09:30:00-05:00\", \"2021-11-16T09:45:00-05:00\", \"2021-11-16T10:00:00-05:00\", \"2021-11-16T10:15:00-05:00\", \"2021-11-16T10:30:00-05:00\", \"2021-11-16T10:45:00-05:00\", \"2021-11-16T11:00:00-05:00\", \"2021-11-16T11:15:00-05:00\", \"2021-11-16T11:30:00-05:00\", \"2021-11-16T11:45:00-05:00\", \"2021-11-16T12:00:00-05:00\", \"2021-11-16T12:15:00-05:00\", \"2021-11-16T12:30:00-05:00\", \"2021-11-16T12:45:00-05:00\", \"2021-11-16T13:00:00-05:00\", \"2021-11-16T13:15:00-05:00\", \"2021-11-16T13:30:00-05:00\", \"2021-11-16T13:45:00-05:00\", \"2021-11-16T14:00:00-05:00\", \"2021-11-16T14:15:00-05:00\", \"2021-11-16T14:30:00-05:00\", \"2021-11-16T14:45:00-05:00\", \"2021-11-16T15:00:00-05:00\", \"2021-11-16T15:15:00-05:00\", \"2021-11-16T15:30:00-05:00\", \"2021-11-16T15:45:00-05:00\", \"2021-11-17T09:30:00-05:00\", \"2021-11-17T09:45:00-05:00\", \"2021-11-17T10:00:00-05:00\", \"2021-11-17T10:15:00-05:00\", \"2021-11-17T10:30:00-05:00\", \"2021-11-17T10:45:00-05:00\", \"2021-11-17T11:00:00-05:00\", \"2021-11-17T11:15:00-05:00\", \"2021-11-17T11:30:00-05:00\", \"2021-11-17T11:45:00-05:00\", \"2021-11-17T12:00:00-05:00\", \"2021-11-17T12:15:00-05:00\", \"2021-11-17T12:30:00-05:00\", \"2021-11-17T12:45:00-05:00\", \"2021-11-17T13:00:00-05:00\", \"2021-11-17T13:15:00-05:00\", \"2021-11-17T13:30:00-05:00\", \"2021-11-17T13:45:00-05:00\", \"2021-11-17T14:00:00-05:00\", \"2021-11-17T14:15:00-05:00\", \"2021-11-17T14:30:00-05:00\", \"2021-11-17T14:45:00-05:00\", \"2021-11-17T15:00:00-05:00\", \"2021-11-17T15:15:00-05:00\", \"2021-11-17T15:30:00-05:00\", \"2021-11-17T15:45:00-05:00\", \"2021-11-18T09:30:00-05:00\", \"2021-11-18T09:45:00-05:00\", \"2021-11-18T10:00:00-05:00\", \"2021-11-18T10:15:00-05:00\", \"2021-11-18T10:30:00-05:00\", \"2021-11-18T10:45:00-05:00\", \"2021-11-18T11:00:00-05:00\", \"2021-11-18T11:15:00-05:00\", \"2021-11-18T11:30:00-05:00\", \"2021-11-18T11:45:00-05:00\", \"2021-11-18T12:00:00-05:00\", \"2021-11-18T12:15:00-05:00\", \"2021-11-18T12:30:00-05:00\", \"2021-11-18T12:45:00-05:00\", \"2021-11-18T13:00:00-05:00\", \"2021-11-18T13:15:00-05:00\", \"2021-11-18T13:30:00-05:00\", \"2021-11-18T13:45:00-05:00\", \"2021-11-18T14:00:00-05:00\", \"2021-11-18T14:15:00-05:00\", \"2021-11-18T14:30:00-05:00\", \"2021-11-18T14:45:00-05:00\", \"2021-11-18T15:00:00-05:00\", \"2021-11-18T15:15:00-05:00\", \"2021-11-18T15:30:00-05:00\", \"2021-11-18T15:45:00-05:00\"]}],\n",
              "                        {\"template\": {\"data\": {\"bar\": [{\"error_x\": {\"color\": \"#2a3f5f\"}, \"error_y\": {\"color\": \"#2a3f5f\"}, \"marker\": {\"line\": {\"color\": \"#E5ECF6\", \"width\": 0.5}}, \"type\": \"bar\"}], \"barpolar\": [{\"marker\": {\"line\": {\"color\": \"#E5ECF6\", \"width\": 0.5}}, \"type\": \"barpolar\"}], \"carpet\": [{\"aaxis\": {\"endlinecolor\": \"#2a3f5f\", \"gridcolor\": \"white\", \"linecolor\": \"white\", \"minorgridcolor\": \"white\", \"startlinecolor\": \"#2a3f5f\"}, \"baxis\": {\"endlinecolor\": \"#2a3f5f\", \"gridcolor\": \"white\", \"linecolor\": \"white\", \"minorgridcolor\": \"white\", \"startlinecolor\": \"#2a3f5f\"}, \"type\": \"carpet\"}], \"choropleth\": [{\"colorbar\": {\"outlinewidth\": 0, \"ticks\": \"\"}, \"type\": \"choropleth\"}], \"contour\": [{\"colorbar\": {\"outlinewidth\": 0, \"ticks\": \"\"}, \"colorscale\": [[0.0, \"#0d0887\"], [0.1111111111111111, \"#46039f\"], [0.2222222222222222, \"#7201a8\"], [0.3333333333333333, \"#9c179e\"], [0.4444444444444444, \"#bd3786\"], [0.5555555555555556, \"#d8576b\"], [0.6666666666666666, \"#ed7953\"], [0.7777777777777778, \"#fb9f3a\"], [0.8888888888888888, \"#fdca26\"], [1.0, \"#f0f921\"]], \"type\": \"contour\"}], \"contourcarpet\": [{\"colorbar\": {\"outlinewidth\": 0, \"ticks\": \"\"}, \"type\": \"contourcarpet\"}], \"heatmap\": [{\"colorbar\": {\"outlinewidth\": 0, \"ticks\": \"\"}, \"colorscale\": [[0.0, \"#0d0887\"], [0.1111111111111111, \"#46039f\"], [0.2222222222222222, \"#7201a8\"], [0.3333333333333333, \"#9c179e\"], [0.4444444444444444, \"#bd3786\"], [0.5555555555555556, \"#d8576b\"], [0.6666666666666666, \"#ed7953\"], [0.7777777777777778, \"#fb9f3a\"], [0.8888888888888888, \"#fdca26\"], [1.0, \"#f0f921\"]], \"type\": \"heatmap\"}], \"heatmapgl\": [{\"colorbar\": {\"outlinewidth\": 0, \"ticks\": \"\"}, \"colorscale\": [[0.0, \"#0d0887\"], [0.1111111111111111, \"#46039f\"], [0.2222222222222222, \"#7201a8\"], [0.3333333333333333, \"#9c179e\"], [0.4444444444444444, \"#bd3786\"], [0.5555555555555556, \"#d8576b\"], [0.6666666666666666, \"#ed7953\"], [0.7777777777777778, \"#fb9f3a\"], [0.8888888888888888, \"#fdca26\"], [1.0, \"#f0f921\"]], \"type\": \"heatmapgl\"}], \"histogram\": [{\"marker\": {\"colorbar\": {\"outlinewidth\": 0, \"ticks\": \"\"}}, \"type\": \"histogram\"}], \"histogram2d\": [{\"colorbar\": {\"outlinewidth\": 0, \"ticks\": \"\"}, \"colorscale\": [[0.0, \"#0d0887\"], [0.1111111111111111, \"#46039f\"], [0.2222222222222222, \"#7201a8\"], [0.3333333333333333, \"#9c179e\"], [0.4444444444444444, \"#bd3786\"], [0.5555555555555556, \"#d8576b\"], [0.6666666666666666, \"#ed7953\"], [0.7777777777777778, \"#fb9f3a\"], [0.8888888888888888, \"#fdca26\"], [1.0, \"#f0f921\"]], \"type\": \"histogram2d\"}], \"histogram2dcontour\": [{\"colorbar\": {\"outlinewidth\": 0, \"ticks\": \"\"}, \"colorscale\": [[0.0, \"#0d0887\"], [0.1111111111111111, \"#46039f\"], [0.2222222222222222, \"#7201a8\"], [0.3333333333333333, \"#9c179e\"], [0.4444444444444444, \"#bd3786\"], [0.5555555555555556, \"#d8576b\"], [0.6666666666666666, \"#ed7953\"], [0.7777777777777778, \"#fb9f3a\"], [0.8888888888888888, \"#fdca26\"], [1.0, \"#f0f921\"]], \"type\": \"histogram2dcontour\"}], \"mesh3d\": [{\"colorbar\": {\"outlinewidth\": 0, \"ticks\": \"\"}, \"type\": \"mesh3d\"}], \"parcoords\": [{\"line\": {\"colorbar\": {\"outlinewidth\": 0, \"ticks\": \"\"}}, \"type\": \"parcoords\"}], \"pie\": [{\"automargin\": true, \"type\": \"pie\"}], \"scatter\": [{\"marker\": {\"colorbar\": {\"outlinewidth\": 0, \"ticks\": \"\"}}, \"type\": \"scatter\"}], \"scatter3d\": [{\"line\": {\"colorbar\": {\"outlinewidth\": 0, \"ticks\": \"\"}}, \"marker\": {\"colorbar\": {\"outlinewidth\": 0, \"ticks\": \"\"}}, \"type\": \"scatter3d\"}], \"scattercarpet\": [{\"marker\": {\"colorbar\": {\"outlinewidth\": 0, \"ticks\": \"\"}}, \"type\": \"scattercarpet\"}], \"scattergeo\": [{\"marker\": {\"colorbar\": {\"outlinewidth\": 0, \"ticks\": \"\"}}, \"type\": \"scattergeo\"}], \"scattergl\": [{\"marker\": {\"colorbar\": {\"outlinewidth\": 0, \"ticks\": \"\"}}, \"type\": \"scattergl\"}], \"scattermapbox\": [{\"marker\": {\"colorbar\": {\"outlinewidth\": 0, \"ticks\": \"\"}}, \"type\": \"scattermapbox\"}], \"scatterpolar\": [{\"marker\": {\"colorbar\": {\"outlinewidth\": 0, \"ticks\": \"\"}}, \"type\": \"scatterpolar\"}], \"scatterpolargl\": [{\"marker\": {\"colorbar\": {\"outlinewidth\": 0, \"ticks\": \"\"}}, \"type\": \"scatterpolargl\"}], \"scatterternary\": [{\"marker\": {\"colorbar\": {\"outlinewidth\": 0, \"ticks\": \"\"}}, \"type\": \"scatterternary\"}], \"surface\": [{\"colorbar\": {\"outlinewidth\": 0, \"ticks\": \"\"}, \"colorscale\": [[0.0, \"#0d0887\"], [0.1111111111111111, \"#46039f\"], [0.2222222222222222, \"#7201a8\"], [0.3333333333333333, \"#9c179e\"], [0.4444444444444444, \"#bd3786\"], [0.5555555555555556, \"#d8576b\"], [0.6666666666666666, \"#ed7953\"], [0.7777777777777778, \"#fb9f3a\"], [0.8888888888888888, \"#fdca26\"], [1.0, \"#f0f921\"]], \"type\": \"surface\"}], \"table\": [{\"cells\": {\"fill\": {\"color\": \"#EBF0F8\"}, \"line\": {\"color\": \"white\"}}, \"header\": {\"fill\": {\"color\": \"#C8D4E3\"}, \"line\": {\"color\": \"white\"}}, \"type\": \"table\"}]}, \"layout\": {\"annotationdefaults\": {\"arrowcolor\": \"#2a3f5f\", \"arrowhead\": 0, \"arrowwidth\": 1}, \"coloraxis\": {\"colorbar\": {\"outlinewidth\": 0, \"ticks\": \"\"}}, \"colorscale\": {\"diverging\": [[0, \"#8e0152\"], [0.1, \"#c51b7d\"], [0.2, \"#de77ae\"], [0.3, \"#f1b6da\"], [0.4, \"#fde0ef\"], [0.5, \"#f7f7f7\"], [0.6, \"#e6f5d0\"], [0.7, \"#b8e186\"], [0.8, \"#7fbc41\"], [0.9, \"#4d9221\"], [1, \"#276419\"]], \"sequential\": [[0.0, \"#0d0887\"], [0.1111111111111111, \"#46039f\"], [0.2222222222222222, \"#7201a8\"], [0.3333333333333333, \"#9c179e\"], [0.4444444444444444, \"#bd3786\"], [0.5555555555555556, \"#d8576b\"], [0.6666666666666666, \"#ed7953\"], [0.7777777777777778, \"#fb9f3a\"], [0.8888888888888888, \"#fdca26\"], [1.0, \"#f0f921\"]], \"sequentialminus\": [[0.0, \"#0d0887\"], [0.1111111111111111, \"#46039f\"], [0.2222222222222222, \"#7201a8\"], [0.3333333333333333, \"#9c179e\"], [0.4444444444444444, \"#bd3786\"], [0.5555555555555556, \"#d8576b\"], [0.6666666666666666, \"#ed7953\"], [0.7777777777777778, \"#fb9f3a\"], [0.8888888888888888, \"#fdca26\"], [1.0, \"#f0f921\"]]}, \"colorway\": [\"#636efa\", \"#EF553B\", \"#00cc96\", \"#ab63fa\", \"#FFA15A\", \"#19d3f3\", \"#FF6692\", \"#B6E880\", \"#FF97FF\", \"#FECB52\"], \"font\": {\"color\": \"#2a3f5f\"}, \"geo\": {\"bgcolor\": \"white\", \"lakecolor\": \"white\", \"landcolor\": \"#E5ECF6\", \"showlakes\": true, \"showland\": true, \"subunitcolor\": \"white\"}, \"hoverlabel\": {\"align\": \"left\"}, \"hovermode\": \"closest\", \"mapbox\": {\"style\": \"light\"}, \"paper_bgcolor\": \"white\", \"plot_bgcolor\": \"#E5ECF6\", \"polar\": {\"angularaxis\": {\"gridcolor\": \"white\", \"linecolor\": \"white\", \"ticks\": \"\"}, \"bgcolor\": \"#E5ECF6\", \"radialaxis\": {\"gridcolor\": \"white\", \"linecolor\": \"white\", \"ticks\": \"\"}}, \"scene\": {\"xaxis\": {\"backgroundcolor\": \"#E5ECF6\", \"gridcolor\": \"white\", \"gridwidth\": 2, \"linecolor\": \"white\", \"showbackground\": true, \"ticks\": \"\", \"zerolinecolor\": \"white\"}, \"yaxis\": {\"backgroundcolor\": \"#E5ECF6\", \"gridcolor\": \"white\", \"gridwidth\": 2, \"linecolor\": \"white\", \"showbackground\": true, \"ticks\": \"\", \"zerolinecolor\": \"white\"}, \"zaxis\": {\"backgroundcolor\": \"#E5ECF6\", \"gridcolor\": \"white\", \"gridwidth\": 2, \"linecolor\": \"white\", \"showbackground\": true, \"ticks\": \"\", \"zerolinecolor\": \"white\"}}, \"shapedefaults\": {\"line\": {\"color\": \"#2a3f5f\"}}, \"ternary\": {\"aaxis\": {\"gridcolor\": \"white\", \"linecolor\": \"white\", \"ticks\": \"\"}, \"baxis\": {\"gridcolor\": \"white\", \"linecolor\": \"white\", \"ticks\": \"\"}, \"bgcolor\": \"#E5ECF6\", \"caxis\": {\"gridcolor\": \"white\", \"linecolor\": \"white\", \"ticks\": \"\"}}, \"title\": {\"x\": 0.05}, \"xaxis\": {\"automargin\": true, \"gridcolor\": \"white\", \"linecolor\": \"white\", \"ticks\": \"\", \"title\": {\"standoff\": 15}, \"zerolinecolor\": \"white\", \"zerolinewidth\": 2}, \"yaxis\": {\"automargin\": true, \"gridcolor\": \"white\", \"linecolor\": \"white\", \"ticks\": \"\", \"title\": {\"standoff\": 15}, \"zerolinecolor\": \"white\", \"zerolinewidth\": 2}}}, \"title\": {\"text\": \"GOOG share price\"}, \"xaxis\": {\"rangeselector\": {\"buttons\": [{\"count\": 15, \"label\": \"15m\", \"step\": \"minute\", \"stepmode\": \"backward\"}, {\"count\": 45, \"label\": \"45m\", \"step\": \"minute\", \"stepmode\": \"backward\"}, {\"count\": 1, \"label\": \"1h\", \"step\": \"hour\", \"stepmode\": \"backward\"}, {\"count\": 6, \"label\": \"6h\", \"step\": \"hour\", \"stepmode\": \"backward\"}, {\"step\": \"all\"}]}, \"rangeslider\": {\"visible\": true}}, \"yaxis\": {\"title\": {\"text\": \"Stock Price (USD)\"}}},\n",
              "                        {\"responsive\": true}\n",
              "                    ).then(function(){\n",
              "                            \n",
              "var gd = document.getElementById('b22379b6-4399-4c4e-a3b0-6eab95675240');\n",
              "var x = new MutationObserver(function (mutations, observer) {{\n",
              "        var display = window.getComputedStyle(gd).display;\n",
              "        if (!display || display === 'none') {{\n",
              "            console.log([gd, 'removed!']);\n",
              "            Plotly.purge(gd);\n",
              "            observer.disconnect();\n",
              "        }}\n",
              "}});\n",
              "\n",
              "// Listen for the removal of the full notebook cells\n",
              "var notebookContainer = gd.closest('#notebook-container');\n",
              "if (notebookContainer) {{\n",
              "    x.observe(notebookContainer, {childList: true});\n",
              "}}\n",
              "\n",
              "// Listen for the clearing of the current output cell\n",
              "var outputEl = gd.closest('.output');\n",
              "if (outputEl) {{\n",
              "    x.observe(outputEl, {childList: true});\n",
              "}}\n",
              "\n",
              "                        })\n",
              "                };\n",
              "                \n",
              "            </script>\n",
              "        </div>\n",
              "</body>\n",
              "</html>"
            ]
          },
          "metadata": {}
        }
      ]
    },
    {
      "cell_type": "markdown",
      "metadata": {
        "id": "jXShTVAWNkzK"
      },
      "source": [
        "Mit Eingabemöglichkeit"
      ]
    },
    {
      "cell_type": "markdown",
      "metadata": {
        "id": "09e-CI1yN3LU"
      },
      "source": [
        "# *Google*"
      ]
    },
    {
      "cell_type": "code",
      "metadata": {
        "colab": {
          "base_uri": "https://localhost:8080/",
          "height": 559
        },
        "id": "y0ZT-Jm-KZcY",
        "outputId": "06f7e61f-d2b6-4902-fbf3-86cbaf52920d"
      },
      "source": [
        "import plotly.graph_objs as go\n",
        "import yfinance as yf\n",
        "\n",
        "data = yf.download(tickers='GOOG', period = '5d', interval = '15m', rounding= True)\n",
        "fig = go.Figure()\n",
        "fig.add_trace(go.Candlestick(x=data.index,open = data['Open'], high=data['High'], low=data['Low'], close=data['Close'], name = 'market data'))\n",
        "fig.update_layout(title = ' Google share price', yaxis_title = 'Stock Price (USD)')\n",
        "fig.update_xaxes(\n",
        "rangeslider_visible=True,\n",
        "rangeselector=dict(\n",
        "buttons=list([\n",
        "dict(count=15, label='15m', step='minute', stepmode='backward'),\n",
        "dict(count=45, label='45m', step='minute', stepmode='backward'),\n",
        "dict(count=1, label='1h', step='hour', stepmode='backward'),\n",
        "dict(count=6, label='6h', step='hour', stepmode='backward'),\n",
        "dict(step='all')\n",
        "])\n",
        ")\n",
        ")\n",
        "fig.show()"
      ],
      "execution_count": null,
      "outputs": [
        {
          "output_type": "stream",
          "name": "stdout",
          "text": [
            "\r[*********************100%***********************]  1 of 1 completed\n"
          ]
        },
        {
          "output_type": "display_data",
          "data": {
            "text/html": [
              "<html>\n",
              "<head><meta charset=\"utf-8\" /></head>\n",
              "<body>\n",
              "    <div>\n",
              "            <script src=\"https://cdnjs.cloudflare.com/ajax/libs/mathjax/2.7.5/MathJax.js?config=TeX-AMS-MML_SVG\"></script><script type=\"text/javascript\">if (window.MathJax) {MathJax.Hub.Config({SVG: {font: \"STIX-Web\"}});}</script>\n",
              "                <script type=\"text/javascript\">window.PlotlyConfig = {MathJaxConfig: 'local'};</script>\n",
              "        <script src=\"https://cdn.plot.ly/plotly-latest.min.js\"></script>    \n",
              "            <div id=\"69e1094e-a2db-49aa-be4a-6253e1339b1b\" class=\"plotly-graph-div\" style=\"height:525px; width:100%;\"></div>\n",
              "            <script type=\"text/javascript\">\n",
              "                \n",
              "                    window.PLOTLYENV=window.PLOTLYENV || {};\n",
              "                    \n",
              "                if (document.getElementById(\"69e1094e-a2db-49aa-be4a-6253e1339b1b\")) {\n",
              "                    Plotly.newPlot(\n",
              "                        '69e1094e-a2db-49aa-be4a-6253e1339b1b',\n",
              "                        [{\"close\": [2935.26, 2942.15, 2958.88, 2960.48, 2952.9, 2961.2, 2968.2, 2977.05, 2977.63, 2981.02, 2990.0, 2991.76, 2994.79, 2983.48, 2988.27, 2983.86, 2990.82, 2992.3, 2987.82, 2986.67, 2988.82, 2989.18, 2989.41, 2993.46, 2993.86, 2992.47, 2992.36, 3001.0, 2991.79, 2988.2, 2981.64, 2986.26, 2985.45, 2986.39, 2975.0, 2986.36, 2984.29, 2982.37, 2987.39, 2990.06, 2986.81, 2987.63, 2989.11, 2988.55, 2985.8, 2985.7, 2989.73, 2988.89, 2988.35, 2992.9, 2988.74, 2988.63, 2976.8, 2977.14, 2983.61, 2979.74, 2978.03, 2981.39, 2988.64, 2993.35, 2991.19, 2987.92, 2988.61, 2986.06, 2982.78, 2983.89, 2982.69, 2979.33, 2980.7, 2982.38, 2986.59, 2984.61, 2984.66, 2985.35, 2983.35, 2984.16, 2986.45, 2981.73, 2987.32, 2974.24, 2977.93, 2979.19, 2978.07, 2980.24, 2976.55, 2976.36, 2976.29, 2983.64, 2981.89, 2976.39, 2979.64, 2981.52, 2983.0, 2982.45, 2982.12, 2983.92, 2989.93, 2990.8, 2988.75, 2986.75, 2984.01, 2985.11, 2989.9, 2981.51, 2990.65, 2998.13, 3001.87, 2990.65, 2993.07, 2996.44, 3003.07, 3009.44, 3025.37, 3025.78, 3024.85, 3026.77, 3025.82, 3021.24, 3022.78, 3027.24, 3023.64, 3022.19, 3023.16, 3010.99, 3011.07, 3013.17, 3015.16, 3020.12, 3023.82, 3014.33], \"high\": [2958.3, 2945.98, 2961.44, 2964.2, 2960.84, 2963.69, 2968.2, 2979.98, 2981.74, 2983.15, 2990.15, 2993.73, 2997.0, 2994.78, 2989.0, 2987.37, 2990.84, 2992.74, 2993.61, 2990.92, 2988.82, 2991.63, 2991.36, 2994.44, 2997.19, 2994.67, 3009.54, 3002.82, 3000.58, 2992.19, 2991.97, 2988.88, 2988.14, 2987.5, 2991.14, 2986.36, 2990.43, 2986.54, 2989.4, 2990.06, 2990.73, 2990.0, 2991.24, 2990.95, 2987.86, 2985.76, 2990.49, 2992.52, 2989.02, 2993.47, 2992.81, 2988.74, 2984.99, 2983.39, 2983.68, 2986.65, 2984.75, 2982.99, 2990.51, 2996.65, 2994.05, 2990.32, 2989.5, 2991.17, 2985.02, 2985.79, 2986.67, 2983.34, 2981.72, 2983.29, 2988.09, 2987.63, 2985.64, 2986.9, 2985.43, 2984.71, 2988.9, 2986.59, 2990.0, 2988.19, 2983.42, 2984.26, 2978.95, 2980.5, 2980.18, 2976.68, 2978.8, 2984.47, 2984.9, 2982.78, 2982.64, 2982.31, 2983.0, 2983.33, 2982.8, 2985.43, 2990.36, 2992.52, 2988.75, 2989.64, 2985.54, 2986.75, 2990.4, 2991.85, 3000.15, 2998.22, 3017.1, 3001.43, 3003.21, 2999.43, 3003.07, 3013.67, 3027.52, 3032.2, 3028.33, 3032.0, 3026.0, 3025.83, 3023.88, 3027.24, 3027.06, 3025.66, 3025.72, 3022.66, 3016.93, 3014.26, 3016.92, 3020.12, 3024.14, 3024.84], \"low\": [2929.12, 2932.3, 2945.16, 2950.44, 2946.4, 2953.03, 2960.97, 2968.56, 2975.77, 2971.08, 2980.75, 2989.14, 2990.57, 2983.48, 2983.84, 2982.35, 2983.8, 2987.99, 2986.96, 2986.67, 2986.07, 2988.43, 2987.94, 2990.85, 2993.12, 2990.01, 2990.65, 2990.88, 2990.0, 2983.78, 2981.64, 2979.06, 2981.88, 2981.88, 2975.0, 2973.05, 2983.41, 2977.8, 2985.03, 2986.11, 2982.68, 2981.78, 2987.4, 2987.85, 2983.03, 2983.51, 2985.26, 2987.26, 2987.78, 2986.6, 2988.4, 2983.02, 2967.0, 2971.39, 2976.44, 2979.74, 2977.62, 2979.54, 2979.12, 2990.5, 2986.72, 2986.06, 2985.48, 2985.01, 2980.87, 2981.43, 2982.69, 2979.25, 2978.39, 2977.81, 2982.36, 2979.06, 2982.48, 2984.52, 2982.3, 2982.86, 2984.16, 2978.05, 2978.63, 2972.71, 2973.76, 2975.81, 2973.25, 2973.9, 2971.26, 2973.63, 2973.0, 2977.37, 2979.97, 2976.15, 2975.11, 2977.5, 2977.5, 2977.43, 2978.51, 2979.3, 2982.6, 2983.74, 2983.75, 2985.42, 2983.3, 2985.11, 2984.65, 2980.48, 2979.97, 2992.91, 2999.09, 2990.65, 2991.98, 2991.19, 2995.82, 3002.6, 3009.47, 3022.67, 3022.08, 3026.57, 3021.24, 3013.12, 3018.97, 3021.9, 3022.87, 3020.32, 3018.82, 3007.99, 3008.22, 3010.2, 3011.05, 3015.81, 3018.64, 3009.31], \"name\": \"market data\", \"open\": [2956.63, 2936.9, 2945.16, 2953.85, 2960.82, 2953.03, 2960.98, 2968.56, 2979.9, 2977.51, 2984.43, 2989.5, 2992.38, 2994.78, 2984.17, 2987.37, 2983.8, 2989.59, 2993.0, 2987.83, 2987.96, 2988.44, 2990.46, 2990.85, 2994.37, 2993.57, 3000.0, 2995.34, 3000.0, 2990.64, 2989.7, 2980.36, 2986.22, 2986.08, 2986.04, 2974.02, 2985.38, 2986.18, 2985.66, 2987.39, 2989.67, 2987.31, 2989.05, 2989.39, 2987.86, 2985.56, 2985.26, 2990.97, 2988.51, 2986.6, 2992.81, 2988.74, 2983.41, 2976.0, 2979.22, 2982.96, 2981.13, 2979.54, 2982.91, 2990.5, 2994.05, 2989.72, 2988.68, 2988.61, 2984.31, 2983.2, 2983.89, 2983.19, 2980.06, 2980.27, 2982.36, 2986.59, 2985.64, 2984.66, 2984.74, 2983.31, 2984.16, 2986.38, 2984.58, 2988.19, 2973.76, 2978.1, 2976.4, 2979.7, 2980.18, 2974.89, 2977.11, 2977.37, 2984.06, 2981.61, 2977.06, 2979.58, 2981.09, 2982.47, 2981.68, 2982.81, 2983.59, 2991.51, 2988.38, 2988.51, 2983.95, 2985.46, 2984.9, 2989.74, 2982.92, 2994.82, 3000.0, 3000.0, 2991.98, 2994.0, 2997.61, 3003.67, 3010.18, 3025.1, 3028.33, 3027.95, 3022.6, 3025.83, 3021.09, 3022.78, 3025.55, 3023.93, 3020.88, 3022.66, 3010.01, 3012.04, 3013.14, 3015.81, 3020.12, 3023.56], \"type\": \"candlestick\", \"x\": [\"2021-11-12T09:30:00-05:00\", \"2021-11-12T09:45:00-05:00\", \"2021-11-12T10:00:00-05:00\", \"2021-11-12T10:15:00-05:00\", \"2021-11-12T10:30:00-05:00\", \"2021-11-12T10:45:00-05:00\", \"2021-11-12T11:00:00-05:00\", \"2021-11-12T11:15:00-05:00\", \"2021-11-12T11:30:00-05:00\", \"2021-11-12T11:45:00-05:00\", \"2021-11-12T12:00:00-05:00\", \"2021-11-12T12:15:00-05:00\", \"2021-11-12T12:30:00-05:00\", \"2021-11-12T12:45:00-05:00\", \"2021-11-12T13:00:00-05:00\", \"2021-11-12T13:15:00-05:00\", \"2021-11-12T13:30:00-05:00\", \"2021-11-12T13:45:00-05:00\", \"2021-11-12T14:00:00-05:00\", \"2021-11-12T14:15:00-05:00\", \"2021-11-12T14:30:00-05:00\", \"2021-11-12T14:45:00-05:00\", \"2021-11-12T15:00:00-05:00\", \"2021-11-12T15:15:00-05:00\", \"2021-11-12T15:30:00-05:00\", \"2021-11-12T15:45:00-05:00\", \"2021-11-15T09:30:00-05:00\", \"2021-11-15T09:45:00-05:00\", \"2021-11-15T10:00:00-05:00\", \"2021-11-15T10:15:00-05:00\", \"2021-11-15T10:30:00-05:00\", \"2021-11-15T10:45:00-05:00\", \"2021-11-15T11:00:00-05:00\", \"2021-11-15T11:15:00-05:00\", \"2021-11-15T11:30:00-05:00\", \"2021-11-15T11:45:00-05:00\", \"2021-11-15T12:00:00-05:00\", \"2021-11-15T12:15:00-05:00\", \"2021-11-15T12:30:00-05:00\", \"2021-11-15T12:45:00-05:00\", \"2021-11-15T13:00:00-05:00\", \"2021-11-15T13:15:00-05:00\", \"2021-11-15T13:30:00-05:00\", \"2021-11-15T13:45:00-05:00\", \"2021-11-15T14:00:00-05:00\", \"2021-11-15T14:15:00-05:00\", \"2021-11-15T14:30:00-05:00\", \"2021-11-15T14:45:00-05:00\", \"2021-11-15T15:00:00-05:00\", \"2021-11-15T15:15:00-05:00\", \"2021-11-15T15:30:00-05:00\", \"2021-11-15T15:45:00-05:00\", \"2021-11-16T09:30:00-05:00\", \"2021-11-16T09:45:00-05:00\", \"2021-11-16T10:00:00-05:00\", \"2021-11-16T10:15:00-05:00\", \"2021-11-16T10:30:00-05:00\", \"2021-11-16T10:45:00-05:00\", \"2021-11-16T11:00:00-05:00\", \"2021-11-16T11:15:00-05:00\", \"2021-11-16T11:30:00-05:00\", \"2021-11-16T11:45:00-05:00\", \"2021-11-16T12:00:00-05:00\", \"2021-11-16T12:15:00-05:00\", \"2021-11-16T12:30:00-05:00\", \"2021-11-16T12:45:00-05:00\", \"2021-11-16T13:00:00-05:00\", \"2021-11-16T13:15:00-05:00\", \"2021-11-16T13:30:00-05:00\", \"2021-11-16T13:45:00-05:00\", \"2021-11-16T14:00:00-05:00\", \"2021-11-16T14:15:00-05:00\", \"2021-11-16T14:30:00-05:00\", \"2021-11-16T14:45:00-05:00\", \"2021-11-16T15:00:00-05:00\", \"2021-11-16T15:15:00-05:00\", \"2021-11-16T15:30:00-05:00\", \"2021-11-16T15:45:00-05:00\", \"2021-11-17T09:30:00-05:00\", \"2021-11-17T09:45:00-05:00\", \"2021-11-17T10:00:00-05:00\", \"2021-11-17T10:15:00-05:00\", \"2021-11-17T10:30:00-05:00\", \"2021-11-17T10:45:00-05:00\", \"2021-11-17T11:00:00-05:00\", \"2021-11-17T11:15:00-05:00\", \"2021-11-17T11:30:00-05:00\", \"2021-11-17T11:45:00-05:00\", \"2021-11-17T12:00:00-05:00\", \"2021-11-17T12:15:00-05:00\", \"2021-11-17T12:30:00-05:00\", \"2021-11-17T12:45:00-05:00\", \"2021-11-17T13:00:00-05:00\", \"2021-11-17T13:15:00-05:00\", \"2021-11-17T13:30:00-05:00\", \"2021-11-17T13:45:00-05:00\", \"2021-11-17T14:00:00-05:00\", \"2021-11-17T14:15:00-05:00\", \"2021-11-17T14:30:00-05:00\", \"2021-11-17T14:45:00-05:00\", \"2021-11-17T15:00:00-05:00\", \"2021-11-17T15:15:00-05:00\", \"2021-11-17T15:30:00-05:00\", \"2021-11-17T15:45:00-05:00\", \"2021-11-18T09:30:00-05:00\", \"2021-11-18T09:45:00-05:00\", \"2021-11-18T10:00:00-05:00\", \"2021-11-18T10:15:00-05:00\", \"2021-11-18T10:30:00-05:00\", \"2021-11-18T10:45:00-05:00\", \"2021-11-18T11:00:00-05:00\", \"2021-11-18T11:15:00-05:00\", \"2021-11-18T11:30:00-05:00\", \"2021-11-18T11:45:00-05:00\", \"2021-11-18T12:00:00-05:00\", \"2021-11-18T12:15:00-05:00\", \"2021-11-18T12:30:00-05:00\", \"2021-11-18T12:45:00-05:00\", \"2021-11-18T13:00:00-05:00\", \"2021-11-18T13:15:00-05:00\", \"2021-11-18T13:30:00-05:00\", \"2021-11-18T13:45:00-05:00\", \"2021-11-18T14:00:00-05:00\", \"2021-11-18T14:15:00-05:00\", \"2021-11-18T14:30:00-05:00\", \"2021-11-18T14:45:00-05:00\", \"2021-11-18T15:00:00-05:00\", \"2021-11-18T15:15:00-05:00\", \"2021-11-18T15:30:00-05:00\", \"2021-11-18T15:45:00-05:00\"]}],\n",
              "                        {\"template\": {\"data\": {\"bar\": [{\"error_x\": {\"color\": \"#2a3f5f\"}, \"error_y\": {\"color\": \"#2a3f5f\"}, \"marker\": {\"line\": {\"color\": \"#E5ECF6\", \"width\": 0.5}}, \"type\": \"bar\"}], \"barpolar\": [{\"marker\": {\"line\": {\"color\": \"#E5ECF6\", \"width\": 0.5}}, \"type\": \"barpolar\"}], \"carpet\": [{\"aaxis\": {\"endlinecolor\": \"#2a3f5f\", \"gridcolor\": \"white\", \"linecolor\": \"white\", \"minorgridcolor\": \"white\", \"startlinecolor\": \"#2a3f5f\"}, \"baxis\": {\"endlinecolor\": \"#2a3f5f\", \"gridcolor\": \"white\", \"linecolor\": \"white\", \"minorgridcolor\": \"white\", \"startlinecolor\": \"#2a3f5f\"}, \"type\": \"carpet\"}], \"choropleth\": [{\"colorbar\": {\"outlinewidth\": 0, \"ticks\": \"\"}, \"type\": \"choropleth\"}], \"contour\": [{\"colorbar\": {\"outlinewidth\": 0, \"ticks\": \"\"}, \"colorscale\": [[0.0, \"#0d0887\"], [0.1111111111111111, \"#46039f\"], [0.2222222222222222, \"#7201a8\"], [0.3333333333333333, \"#9c179e\"], [0.4444444444444444, \"#bd3786\"], [0.5555555555555556, \"#d8576b\"], [0.6666666666666666, \"#ed7953\"], [0.7777777777777778, \"#fb9f3a\"], [0.8888888888888888, \"#fdca26\"], [1.0, \"#f0f921\"]], \"type\": \"contour\"}], \"contourcarpet\": [{\"colorbar\": {\"outlinewidth\": 0, \"ticks\": \"\"}, \"type\": \"contourcarpet\"}], \"heatmap\": [{\"colorbar\": {\"outlinewidth\": 0, \"ticks\": \"\"}, \"colorscale\": [[0.0, \"#0d0887\"], [0.1111111111111111, \"#46039f\"], [0.2222222222222222, \"#7201a8\"], [0.3333333333333333, \"#9c179e\"], [0.4444444444444444, \"#bd3786\"], [0.5555555555555556, \"#d8576b\"], [0.6666666666666666, \"#ed7953\"], [0.7777777777777778, \"#fb9f3a\"], [0.8888888888888888, \"#fdca26\"], [1.0, \"#f0f921\"]], \"type\": \"heatmap\"}], \"heatmapgl\": [{\"colorbar\": {\"outlinewidth\": 0, \"ticks\": \"\"}, \"colorscale\": [[0.0, \"#0d0887\"], [0.1111111111111111, \"#46039f\"], [0.2222222222222222, \"#7201a8\"], [0.3333333333333333, \"#9c179e\"], [0.4444444444444444, \"#bd3786\"], [0.5555555555555556, \"#d8576b\"], [0.6666666666666666, \"#ed7953\"], [0.7777777777777778, \"#fb9f3a\"], [0.8888888888888888, \"#fdca26\"], [1.0, \"#f0f921\"]], \"type\": \"heatmapgl\"}], \"histogram\": [{\"marker\": {\"colorbar\": {\"outlinewidth\": 0, \"ticks\": \"\"}}, \"type\": \"histogram\"}], \"histogram2d\": [{\"colorbar\": {\"outlinewidth\": 0, \"ticks\": \"\"}, \"colorscale\": [[0.0, \"#0d0887\"], [0.1111111111111111, \"#46039f\"], [0.2222222222222222, \"#7201a8\"], [0.3333333333333333, \"#9c179e\"], [0.4444444444444444, \"#bd3786\"], [0.5555555555555556, \"#d8576b\"], [0.6666666666666666, \"#ed7953\"], [0.7777777777777778, \"#fb9f3a\"], [0.8888888888888888, \"#fdca26\"], [1.0, \"#f0f921\"]], \"type\": \"histogram2d\"}], \"histogram2dcontour\": [{\"colorbar\": {\"outlinewidth\": 0, \"ticks\": \"\"}, \"colorscale\": [[0.0, \"#0d0887\"], [0.1111111111111111, \"#46039f\"], [0.2222222222222222, \"#7201a8\"], [0.3333333333333333, \"#9c179e\"], [0.4444444444444444, \"#bd3786\"], [0.5555555555555556, \"#d8576b\"], [0.6666666666666666, \"#ed7953\"], [0.7777777777777778, \"#fb9f3a\"], [0.8888888888888888, \"#fdca26\"], [1.0, \"#f0f921\"]], \"type\": \"histogram2dcontour\"}], \"mesh3d\": [{\"colorbar\": {\"outlinewidth\": 0, \"ticks\": \"\"}, \"type\": \"mesh3d\"}], \"parcoords\": [{\"line\": {\"colorbar\": {\"outlinewidth\": 0, \"ticks\": \"\"}}, \"type\": \"parcoords\"}], \"pie\": [{\"automargin\": true, \"type\": \"pie\"}], \"scatter\": [{\"marker\": {\"colorbar\": {\"outlinewidth\": 0, \"ticks\": \"\"}}, \"type\": \"scatter\"}], \"scatter3d\": [{\"line\": {\"colorbar\": {\"outlinewidth\": 0, \"ticks\": \"\"}}, \"marker\": {\"colorbar\": {\"outlinewidth\": 0, \"ticks\": \"\"}}, \"type\": \"scatter3d\"}], \"scattercarpet\": [{\"marker\": {\"colorbar\": {\"outlinewidth\": 0, \"ticks\": \"\"}}, \"type\": \"scattercarpet\"}], \"scattergeo\": [{\"marker\": {\"colorbar\": {\"outlinewidth\": 0, \"ticks\": \"\"}}, \"type\": \"scattergeo\"}], \"scattergl\": [{\"marker\": {\"colorbar\": {\"outlinewidth\": 0, \"ticks\": \"\"}}, \"type\": \"scattergl\"}], \"scattermapbox\": [{\"marker\": {\"colorbar\": {\"outlinewidth\": 0, \"ticks\": \"\"}}, \"type\": \"scattermapbox\"}], \"scatterpolar\": [{\"marker\": {\"colorbar\": {\"outlinewidth\": 0, \"ticks\": \"\"}}, \"type\": \"scatterpolar\"}], \"scatterpolargl\": [{\"marker\": {\"colorbar\": {\"outlinewidth\": 0, \"ticks\": \"\"}}, \"type\": \"scatterpolargl\"}], \"scatterternary\": [{\"marker\": {\"colorbar\": {\"outlinewidth\": 0, \"ticks\": \"\"}}, \"type\": \"scatterternary\"}], \"surface\": [{\"colorbar\": {\"outlinewidth\": 0, \"ticks\": \"\"}, \"colorscale\": [[0.0, \"#0d0887\"], [0.1111111111111111, \"#46039f\"], [0.2222222222222222, \"#7201a8\"], [0.3333333333333333, \"#9c179e\"], [0.4444444444444444, \"#bd3786\"], [0.5555555555555556, \"#d8576b\"], [0.6666666666666666, \"#ed7953\"], [0.7777777777777778, \"#fb9f3a\"], [0.8888888888888888, \"#fdca26\"], [1.0, \"#f0f921\"]], \"type\": \"surface\"}], \"table\": [{\"cells\": {\"fill\": {\"color\": \"#EBF0F8\"}, \"line\": {\"color\": \"white\"}}, \"header\": {\"fill\": {\"color\": \"#C8D4E3\"}, \"line\": {\"color\": \"white\"}}, \"type\": \"table\"}]}, \"layout\": {\"annotationdefaults\": {\"arrowcolor\": \"#2a3f5f\", \"arrowhead\": 0, \"arrowwidth\": 1}, \"coloraxis\": {\"colorbar\": {\"outlinewidth\": 0, \"ticks\": \"\"}}, \"colorscale\": {\"diverging\": [[0, \"#8e0152\"], [0.1, \"#c51b7d\"], [0.2, \"#de77ae\"], [0.3, \"#f1b6da\"], [0.4, \"#fde0ef\"], [0.5, \"#f7f7f7\"], [0.6, \"#e6f5d0\"], [0.7, \"#b8e186\"], [0.8, \"#7fbc41\"], [0.9, \"#4d9221\"], [1, \"#276419\"]], \"sequential\": [[0.0, \"#0d0887\"], [0.1111111111111111, \"#46039f\"], [0.2222222222222222, \"#7201a8\"], [0.3333333333333333, \"#9c179e\"], [0.4444444444444444, \"#bd3786\"], [0.5555555555555556, \"#d8576b\"], [0.6666666666666666, \"#ed7953\"], [0.7777777777777778, \"#fb9f3a\"], [0.8888888888888888, \"#fdca26\"], [1.0, \"#f0f921\"]], \"sequentialminus\": [[0.0, \"#0d0887\"], [0.1111111111111111, \"#46039f\"], [0.2222222222222222, \"#7201a8\"], [0.3333333333333333, \"#9c179e\"], [0.4444444444444444, \"#bd3786\"], [0.5555555555555556, \"#d8576b\"], [0.6666666666666666, \"#ed7953\"], [0.7777777777777778, \"#fb9f3a\"], [0.8888888888888888, \"#fdca26\"], [1.0, \"#f0f921\"]]}, \"colorway\": [\"#636efa\", \"#EF553B\", \"#00cc96\", \"#ab63fa\", \"#FFA15A\", \"#19d3f3\", \"#FF6692\", \"#B6E880\", \"#FF97FF\", \"#FECB52\"], \"font\": {\"color\": \"#2a3f5f\"}, \"geo\": {\"bgcolor\": \"white\", \"lakecolor\": \"white\", \"landcolor\": \"#E5ECF6\", \"showlakes\": true, \"showland\": true, \"subunitcolor\": \"white\"}, \"hoverlabel\": {\"align\": \"left\"}, \"hovermode\": \"closest\", \"mapbox\": {\"style\": \"light\"}, \"paper_bgcolor\": \"white\", \"plot_bgcolor\": \"#E5ECF6\", \"polar\": {\"angularaxis\": {\"gridcolor\": \"white\", \"linecolor\": \"white\", \"ticks\": \"\"}, \"bgcolor\": \"#E5ECF6\", \"radialaxis\": {\"gridcolor\": \"white\", \"linecolor\": \"white\", \"ticks\": \"\"}}, \"scene\": {\"xaxis\": {\"backgroundcolor\": \"#E5ECF6\", \"gridcolor\": \"white\", \"gridwidth\": 2, \"linecolor\": \"white\", \"showbackground\": true, \"ticks\": \"\", \"zerolinecolor\": \"white\"}, \"yaxis\": {\"backgroundcolor\": \"#E5ECF6\", \"gridcolor\": \"white\", \"gridwidth\": 2, \"linecolor\": \"white\", \"showbackground\": true, \"ticks\": \"\", \"zerolinecolor\": \"white\"}, \"zaxis\": {\"backgroundcolor\": \"#E5ECF6\", \"gridcolor\": \"white\", \"gridwidth\": 2, \"linecolor\": \"white\", \"showbackground\": true, \"ticks\": \"\", \"zerolinecolor\": \"white\"}}, \"shapedefaults\": {\"line\": {\"color\": \"#2a3f5f\"}}, \"ternary\": {\"aaxis\": {\"gridcolor\": \"white\", \"linecolor\": \"white\", \"ticks\": \"\"}, \"baxis\": {\"gridcolor\": \"white\", \"linecolor\": \"white\", \"ticks\": \"\"}, \"bgcolor\": \"#E5ECF6\", \"caxis\": {\"gridcolor\": \"white\", \"linecolor\": \"white\", \"ticks\": \"\"}}, \"title\": {\"x\": 0.05}, \"xaxis\": {\"automargin\": true, \"gridcolor\": \"white\", \"linecolor\": \"white\", \"ticks\": \"\", \"title\": {\"standoff\": 15}, \"zerolinecolor\": \"white\", \"zerolinewidth\": 2}, \"yaxis\": {\"automargin\": true, \"gridcolor\": \"white\", \"linecolor\": \"white\", \"ticks\": \"\", \"title\": {\"standoff\": 15}, \"zerolinecolor\": \"white\", \"zerolinewidth\": 2}}}, \"title\": {\"text\": \" Google share price\"}, \"xaxis\": {\"rangeselector\": {\"buttons\": [{\"count\": 15, \"label\": \"15m\", \"step\": \"minute\", \"stepmode\": \"backward\"}, {\"count\": 45, \"label\": \"45m\", \"step\": \"minute\", \"stepmode\": \"backward\"}, {\"count\": 1, \"label\": \"1h\", \"step\": \"hour\", \"stepmode\": \"backward\"}, {\"count\": 6, \"label\": \"6h\", \"step\": \"hour\", \"stepmode\": \"backward\"}, {\"step\": \"all\"}]}, \"rangeslider\": {\"visible\": true}}, \"yaxis\": {\"title\": {\"text\": \"Stock Price (USD)\"}}},\n",
              "                        {\"responsive\": true}\n",
              "                    ).then(function(){\n",
              "                            \n",
              "var gd = document.getElementById('69e1094e-a2db-49aa-be4a-6253e1339b1b');\n",
              "var x = new MutationObserver(function (mutations, observer) {{\n",
              "        var display = window.getComputedStyle(gd).display;\n",
              "        if (!display || display === 'none') {{\n",
              "            console.log([gd, 'removed!']);\n",
              "            Plotly.purge(gd);\n",
              "            observer.disconnect();\n",
              "        }}\n",
              "}});\n",
              "\n",
              "// Listen for the removal of the full notebook cells\n",
              "var notebookContainer = gd.closest('#notebook-container');\n",
              "if (notebookContainer) {{\n",
              "    x.observe(notebookContainer, {childList: true});\n",
              "}}\n",
              "\n",
              "// Listen for the clearing of the current output cell\n",
              "var outputEl = gd.closest('.output');\n",
              "if (outputEl) {{\n",
              "    x.observe(outputEl, {childList: true});\n",
              "}}\n",
              "\n",
              "                        })\n",
              "                };\n",
              "                \n",
              "            </script>\n",
              "        </div>\n",
              "</body>\n",
              "</html>"
            ]
          },
          "metadata": {}
        }
      ]
    },
    {
      "cell_type": "markdown",
      "metadata": {
        "id": "fIyziUIAQWze"
      },
      "source": [
        "**Influx DB**"
      ]
    },
    {
      "cell_type": "code",
      "metadata": {
        "colab": {
          "base_uri": "https://localhost:8080/",
          "height": 130
        },
        "id": "R_sC6ZA3QVrN",
        "outputId": "5500a6d0-b73d-4d6c-f1a6-3c626c334214"
      },
      "source": [
        "from datetime import datetime\n",
        "\n",
        "from influxdb_client import InfluxDBClient, Point, WritePrecision\n",
        "from influxdb_client.client.write_api import SYNCHRONOUS\n",
        "\n",
        "# You can generate an API token from the \"API Tokens Tab\" in the UI\n",
        "token = \"y4ged0GOeyye-Rcu_vpV5YQp_Ei82QM7B6CZEH-DAGtxtRWKaLFc4SgNlvZLXKOBYAj37xvNJOeB823T3QQmMQ==\"\n",
        "org = \"martin.schottmann@gmail.com\"\n",
        "bucket = \"martin.schottmann's Bucket\"\n",
        "\n",
        "with InfluxDBClient(url=\"https://eu-central-1-1.aws.cloud2.influxdata.com\", token=token, org=org) as client:"
      ],
      "execution_count": 2,
      "outputs": [
        {
          "output_type": "error",
          "ename": "SyntaxError",
          "evalue": "ignored",
          "traceback": [
            "\u001b[0;36m  File \u001b[0;32m\"<ipython-input-2-5814c9856be5>\"\u001b[0;36m, line \u001b[0;32m11\u001b[0m\n\u001b[0;31m    with InfluxDBClient(url=\"https://eu-central-1-1.aws.cloud2.influxdata.com\", token=token, org=org) as client:\u001b[0m\n\u001b[0m                                                                                                                ^\u001b[0m\n\u001b[0;31mSyntaxError\u001b[0m\u001b[0;31m:\u001b[0m unexpected EOF while parsing\n"
          ]
        }
      ]
    },
    {
      "cell_type": "code",
      "metadata": {
        "colab": {
          "base_uri": "https://localhost:8080/",
          "height": 200
        },
        "id": "XmfFw4dhQxRW",
        "outputId": "51a601be-ec09-44aa-ff3f-79b484e0843f"
      },
      "source": [
        "point = Point(\"mem\") \\\n",
        "  .tag(\"host\", \"host1\") \\\n",
        "  .field(\"used_percent\", 23.43234543) \\\n",
        "  .time(datetime.utcnow(), WritePrecision.NS)\n",
        "\n",
        "write_api.write(bucket, org, point)\n"
      ],
      "execution_count": 3,
      "outputs": [
        {
          "output_type": "error",
          "ename": "NameError",
          "evalue": "ignored",
          "traceback": [
            "\u001b[0;31m---------------------------------------------------------------------------\u001b[0m",
            "\u001b[0;31mNameError\u001b[0m                                 Traceback (most recent call last)",
            "\u001b[0;32m<ipython-input-3-d49f0c8b0c7d>\u001b[0m in \u001b[0;36m<module>\u001b[0;34m()\u001b[0m\n\u001b[0;32m----> 1\u001b[0;31m \u001b[0mpoint\u001b[0m \u001b[0;34m=\u001b[0m \u001b[0mPoint\u001b[0m\u001b[0;34m(\u001b[0m\u001b[0;34m\"mem\"\u001b[0m\u001b[0;34m)\u001b[0m   \u001b[0;34m.\u001b[0m\u001b[0mtag\u001b[0m\u001b[0;34m(\u001b[0m\u001b[0;34m\"host\"\u001b[0m\u001b[0;34m,\u001b[0m \u001b[0;34m\"host1\"\u001b[0m\u001b[0;34m)\u001b[0m   \u001b[0;34m.\u001b[0m\u001b[0mfield\u001b[0m\u001b[0;34m(\u001b[0m\u001b[0;34m\"used_percent\"\u001b[0m\u001b[0;34m,\u001b[0m \u001b[0;36m23.43234543\u001b[0m\u001b[0;34m)\u001b[0m   \u001b[0;34m.\u001b[0m\u001b[0mtime\u001b[0m\u001b[0;34m(\u001b[0m\u001b[0mdatetime\u001b[0m\u001b[0;34m.\u001b[0m\u001b[0mutcnow\u001b[0m\u001b[0;34m(\u001b[0m\u001b[0;34m)\u001b[0m\u001b[0;34m,\u001b[0m \u001b[0mWritePrecision\u001b[0m\u001b[0;34m.\u001b[0m\u001b[0mNS\u001b[0m\u001b[0;34m)\u001b[0m\u001b[0;34m\u001b[0m\u001b[0;34m\u001b[0m\u001b[0m\n\u001b[0m\u001b[1;32m      2\u001b[0m \u001b[0;34m\u001b[0m\u001b[0m\n\u001b[1;32m      3\u001b[0m \u001b[0mwrite_api\u001b[0m\u001b[0;34m.\u001b[0m\u001b[0mwrite\u001b[0m\u001b[0;34m(\u001b[0m\u001b[0mbucket\u001b[0m\u001b[0;34m,\u001b[0m \u001b[0morg\u001b[0m\u001b[0;34m,\u001b[0m \u001b[0mpoint\u001b[0m\u001b[0;34m)\u001b[0m\u001b[0;34m\u001b[0m\u001b[0;34m\u001b[0m\u001b[0m\n",
            "\u001b[0;31mNameError\u001b[0m: name 'Point' is not defined"
          ]
        }
      ]
    }
  ]
}