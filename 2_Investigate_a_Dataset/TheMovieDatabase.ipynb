{
  "nbformat": 4,
  "nbformat_minor": 0,
  "metadata": {
    "kernelspec": {
      "display_name": "Python 3",
      "language": "python",
      "name": "python3"
    },
    "language_info": {
      "codemirror_mode": {
        "name": "ipython",
        "version": 3
      },
      "file_extension": ".py",
      "mimetype": "text/x-python",
      "name": "python",
      "nbconvert_exporter": "python",
      "pygments_lexer": "ipython3",
      "version": "3.6.13"
    },
    "colab": {
      "name": "Kopie von investigate-a-dataset-template.ipynb",
      "provenance": [],
      "collapsed_sections": [
        "n4rThKjBXgjC"
      ],
      "history_visible": true
    }
  },
  "cells": [
    {
      "cell_type": "markdown",
      "metadata": {
        "id": "IAv6uNXkXgio"
      },
      "source": [
        "# Project: Investigate the TMDb_Database - The Movie Database\n",
        "## Table of Contents\n",
        "<ul>\n",
        "<li><a href=\"#intro\">Introduction</a></li>\n",
        "<li><a href=\"#wrangling\">Data Wrangling</a></li>\n",
        "<li><a href=\"#eda\">Exploratory Data Analysis</a></li>\n",
        "<li><a href=\"#conclusions\">Conclusions</a></li>\n",
        "</ul>"
      ]
    },
    {
      "cell_type": "markdown",
      "metadata": {
        "id": "70KJFXbpXgit"
      },
      "source": [
        "<a id='intro'></a>\n",
        "## Introduction\n",
        "This Project will analyse the Movie Database (TMDB_Database).\n",
        "\n",
        "This is a collaborative database that can be used by everyone in a collaborative way for free.This is a non commercial database that can be used for for example in open source software like kodi.It is a database with detailed informations on movies and can be used to analyse the data of movies.\n",
        "\n",
        "---\n",
        "<br>\n",
        "<br>\n",
        "\n",
        "## In this analysis I want to get an overview about movies itself.\n",
        " \n",
        "> Question 1 - How good is the quality and strukture of data?<br>\n",
        "> Question 2 - What are the best rated movies?<br>\n",
        "> Question 3 - What are the the moste profitables movies<br>\n",
        "> Question 4 - What are the most popular gendres<br>\n",
        "> Question 5 - Which movies are the most expensive<br>\n",
        "> Question 6 - What are the most popular movies<br>\n",
        "> Question 7 - What are the key indicators for a succesfull movie?<br>\n",
        "---\n",
        "<br>\n",
        "\n",
        "\n",
        "## Which Tuturials are used\n",
        "*  example:<br> https://making-plots-in-jupyter-notebook-beautiful-more-meaningful-23c8a35c0d5d\n",
        "*  magic commands:<br> https://www.aboutdatablog.com/post/top-8-magic-commands-in-jupyter-notebook\n",
        "\n",
        "<br>\n",
        "<br>\n",
        "<br>\n",
        "\n"
      ]
    },
    {
      "cell_type": "markdown",
      "metadata": {
        "id": "boF7NAXhXgix"
      },
      "source": [
        "<a id='wrangling'></a>\n",
        "## Data Wrangling\n",
        "\n",
        "> **Tip**: In this section of the report, you will load in the data, check for cleanliness, and then trim and clean your dataset for analysis. Make sure that you document your steps carefully and justify your cleaning decisions.\n",
        "\n",
        "### General Properties"
      ]
    },
    {
      "cell_type": "markdown",
      "metadata": {
        "id": "V27uzfsWgDys"
      },
      "source": [
        "#### Import packages\n",
        "which packages are need to analyse the data\n",
        "\n"
      ]
    },
    {
      "cell_type": "code",
      "metadata": {
        "id": "VI658Et3Xgiv"
      },
      "source": [
        "# this is to prevent the output from future warnings\n",
        "import warnings\n",
        "warnings.simplefilter(action='ignore', category=FutureWarning)\n",
        "\n",
        "from pandas.testing import assert_frame_equal\n",
        "\n",
        "# importing the necessary packages\n",
        "import pandas as pd\n",
        "import numpy as np\n",
        "import matplotlib.pyplot as plt\n",
        "import seaborn as sns\n",
        "# % matplotlib inline"
      ],
      "execution_count": null,
      "outputs": []
    },
    {
      "cell_type": "markdown",
      "metadata": {
        "id": "0oeGNZ7DeD6G"
      },
      "source": [
        "### Load data"
      ]
    },
    {
      "cell_type": "code",
      "metadata": {
        "id": "dnsIG9ViXgix",
        "colab": {
          "base_uri": "https://localhost:8080/",
          "height": 415
        },
        "outputId": "ed52dd9d-7d41-4a7c-c59b-32614b24e0ff"
      },
      "source": [
        "# Depreciated: pre 2.0.0 version\n",
        "movies = pd.read_csv(\"tmdb-movies.csv\") # read movie data von csv file\n",
        "\n"
      ],
      "execution_count": null,
      "outputs": [
        {
          "output_type": "error",
          "ename": "FileNotFoundError",
          "evalue": "ignored",
          "traceback": [
            "\u001b[0;31m---------------------------------------------------------------------------\u001b[0m",
            "\u001b[0;31mFileNotFoundError\u001b[0m                         Traceback (most recent call last)",
            "\u001b[0;32m<ipython-input-6-2d9383b6d46f>\u001b[0m in \u001b[0;36m<module>\u001b[0;34m()\u001b[0m\n\u001b[1;32m      1\u001b[0m \u001b[0;31m# Depreciated: pre 2.0.0 version\u001b[0m\u001b[0;34m\u001b[0m\u001b[0;34m\u001b[0m\u001b[0;34m\u001b[0m\u001b[0m\n\u001b[0;32m----> 2\u001b[0;31m \u001b[0mmovies\u001b[0m \u001b[0;34m=\u001b[0m \u001b[0mpd\u001b[0m\u001b[0;34m.\u001b[0m\u001b[0mread_csv\u001b[0m\u001b[0;34m(\u001b[0m\u001b[0;34m\"tmdb-movies.csv\"\u001b[0m\u001b[0;34m)\u001b[0m \u001b[0;31m# read movie data von csv file\u001b[0m\u001b[0;34m\u001b[0m\u001b[0;34m\u001b[0m\u001b[0m\n\u001b[0m\u001b[1;32m      3\u001b[0m \u001b[0;34m\u001b[0m\u001b[0m\n",
            "\u001b[0;32m/usr/local/lib/python3.7/dist-packages/pandas/io/parsers.py\u001b[0m in \u001b[0;36mread_csv\u001b[0;34m(filepath_or_buffer, sep, delimiter, header, names, index_col, usecols, squeeze, prefix, mangle_dupe_cols, dtype, engine, converters, true_values, false_values, skipinitialspace, skiprows, skipfooter, nrows, na_values, keep_default_na, na_filter, verbose, skip_blank_lines, parse_dates, infer_datetime_format, keep_date_col, date_parser, dayfirst, cache_dates, iterator, chunksize, compression, thousands, decimal, lineterminator, quotechar, quoting, doublequote, escapechar, comment, encoding, dialect, error_bad_lines, warn_bad_lines, delim_whitespace, low_memory, memory_map, float_precision)\u001b[0m\n\u001b[1;32m    686\u001b[0m     )\n\u001b[1;32m    687\u001b[0m \u001b[0;34m\u001b[0m\u001b[0m\n\u001b[0;32m--> 688\u001b[0;31m     \u001b[0;32mreturn\u001b[0m \u001b[0m_read\u001b[0m\u001b[0;34m(\u001b[0m\u001b[0mfilepath_or_buffer\u001b[0m\u001b[0;34m,\u001b[0m \u001b[0mkwds\u001b[0m\u001b[0;34m)\u001b[0m\u001b[0;34m\u001b[0m\u001b[0;34m\u001b[0m\u001b[0m\n\u001b[0m\u001b[1;32m    689\u001b[0m \u001b[0;34m\u001b[0m\u001b[0m\n\u001b[1;32m    690\u001b[0m \u001b[0;34m\u001b[0m\u001b[0m\n",
            "\u001b[0;32m/usr/local/lib/python3.7/dist-packages/pandas/io/parsers.py\u001b[0m in \u001b[0;36m_read\u001b[0;34m(filepath_or_buffer, kwds)\u001b[0m\n\u001b[1;32m    452\u001b[0m \u001b[0;34m\u001b[0m\u001b[0m\n\u001b[1;32m    453\u001b[0m     \u001b[0;31m# Create the parser.\u001b[0m\u001b[0;34m\u001b[0m\u001b[0;34m\u001b[0m\u001b[0;34m\u001b[0m\u001b[0m\n\u001b[0;32m--> 454\u001b[0;31m     \u001b[0mparser\u001b[0m \u001b[0;34m=\u001b[0m \u001b[0mTextFileReader\u001b[0m\u001b[0;34m(\u001b[0m\u001b[0mfp_or_buf\u001b[0m\u001b[0;34m,\u001b[0m \u001b[0;34m**\u001b[0m\u001b[0mkwds\u001b[0m\u001b[0;34m)\u001b[0m\u001b[0;34m\u001b[0m\u001b[0;34m\u001b[0m\u001b[0m\n\u001b[0m\u001b[1;32m    455\u001b[0m \u001b[0;34m\u001b[0m\u001b[0m\n\u001b[1;32m    456\u001b[0m     \u001b[0;32mif\u001b[0m \u001b[0mchunksize\u001b[0m \u001b[0;32mor\u001b[0m \u001b[0miterator\u001b[0m\u001b[0;34m:\u001b[0m\u001b[0;34m\u001b[0m\u001b[0;34m\u001b[0m\u001b[0m\n",
            "\u001b[0;32m/usr/local/lib/python3.7/dist-packages/pandas/io/parsers.py\u001b[0m in \u001b[0;36m__init__\u001b[0;34m(self, f, engine, **kwds)\u001b[0m\n\u001b[1;32m    946\u001b[0m             \u001b[0mself\u001b[0m\u001b[0;34m.\u001b[0m\u001b[0moptions\u001b[0m\u001b[0;34m[\u001b[0m\u001b[0;34m\"has_index_names\"\u001b[0m\u001b[0;34m]\u001b[0m \u001b[0;34m=\u001b[0m \u001b[0mkwds\u001b[0m\u001b[0;34m[\u001b[0m\u001b[0;34m\"has_index_names\"\u001b[0m\u001b[0;34m]\u001b[0m\u001b[0;34m\u001b[0m\u001b[0;34m\u001b[0m\u001b[0m\n\u001b[1;32m    947\u001b[0m \u001b[0;34m\u001b[0m\u001b[0m\n\u001b[0;32m--> 948\u001b[0;31m         \u001b[0mself\u001b[0m\u001b[0;34m.\u001b[0m\u001b[0m_make_engine\u001b[0m\u001b[0;34m(\u001b[0m\u001b[0mself\u001b[0m\u001b[0;34m.\u001b[0m\u001b[0mengine\u001b[0m\u001b[0;34m)\u001b[0m\u001b[0;34m\u001b[0m\u001b[0;34m\u001b[0m\u001b[0m\n\u001b[0m\u001b[1;32m    949\u001b[0m \u001b[0;34m\u001b[0m\u001b[0m\n\u001b[1;32m    950\u001b[0m     \u001b[0;32mdef\u001b[0m \u001b[0mclose\u001b[0m\u001b[0;34m(\u001b[0m\u001b[0mself\u001b[0m\u001b[0;34m)\u001b[0m\u001b[0;34m:\u001b[0m\u001b[0;34m\u001b[0m\u001b[0;34m\u001b[0m\u001b[0m\n",
            "\u001b[0;32m/usr/local/lib/python3.7/dist-packages/pandas/io/parsers.py\u001b[0m in \u001b[0;36m_make_engine\u001b[0;34m(self, engine)\u001b[0m\n\u001b[1;32m   1178\u001b[0m     \u001b[0;32mdef\u001b[0m \u001b[0m_make_engine\u001b[0m\u001b[0;34m(\u001b[0m\u001b[0mself\u001b[0m\u001b[0;34m,\u001b[0m \u001b[0mengine\u001b[0m\u001b[0;34m=\u001b[0m\u001b[0;34m\"c\"\u001b[0m\u001b[0;34m)\u001b[0m\u001b[0;34m:\u001b[0m\u001b[0;34m\u001b[0m\u001b[0;34m\u001b[0m\u001b[0m\n\u001b[1;32m   1179\u001b[0m         \u001b[0;32mif\u001b[0m \u001b[0mengine\u001b[0m \u001b[0;34m==\u001b[0m \u001b[0;34m\"c\"\u001b[0m\u001b[0;34m:\u001b[0m\u001b[0;34m\u001b[0m\u001b[0;34m\u001b[0m\u001b[0m\n\u001b[0;32m-> 1180\u001b[0;31m             \u001b[0mself\u001b[0m\u001b[0;34m.\u001b[0m\u001b[0m_engine\u001b[0m \u001b[0;34m=\u001b[0m \u001b[0mCParserWrapper\u001b[0m\u001b[0;34m(\u001b[0m\u001b[0mself\u001b[0m\u001b[0;34m.\u001b[0m\u001b[0mf\u001b[0m\u001b[0;34m,\u001b[0m \u001b[0;34m**\u001b[0m\u001b[0mself\u001b[0m\u001b[0;34m.\u001b[0m\u001b[0moptions\u001b[0m\u001b[0;34m)\u001b[0m\u001b[0;34m\u001b[0m\u001b[0;34m\u001b[0m\u001b[0m\n\u001b[0m\u001b[1;32m   1181\u001b[0m         \u001b[0;32melse\u001b[0m\u001b[0;34m:\u001b[0m\u001b[0;34m\u001b[0m\u001b[0;34m\u001b[0m\u001b[0m\n\u001b[1;32m   1182\u001b[0m             \u001b[0;32mif\u001b[0m \u001b[0mengine\u001b[0m \u001b[0;34m==\u001b[0m \u001b[0;34m\"python\"\u001b[0m\u001b[0;34m:\u001b[0m\u001b[0;34m\u001b[0m\u001b[0;34m\u001b[0m\u001b[0m\n",
            "\u001b[0;32m/usr/local/lib/python3.7/dist-packages/pandas/io/parsers.py\u001b[0m in \u001b[0;36m__init__\u001b[0;34m(self, src, **kwds)\u001b[0m\n\u001b[1;32m   2008\u001b[0m         \u001b[0mkwds\u001b[0m\u001b[0;34m[\u001b[0m\u001b[0;34m\"usecols\"\u001b[0m\u001b[0;34m]\u001b[0m \u001b[0;34m=\u001b[0m \u001b[0mself\u001b[0m\u001b[0;34m.\u001b[0m\u001b[0musecols\u001b[0m\u001b[0;34m\u001b[0m\u001b[0;34m\u001b[0m\u001b[0m\n\u001b[1;32m   2009\u001b[0m \u001b[0;34m\u001b[0m\u001b[0m\n\u001b[0;32m-> 2010\u001b[0;31m         \u001b[0mself\u001b[0m\u001b[0;34m.\u001b[0m\u001b[0m_reader\u001b[0m \u001b[0;34m=\u001b[0m \u001b[0mparsers\u001b[0m\u001b[0;34m.\u001b[0m\u001b[0mTextReader\u001b[0m\u001b[0;34m(\u001b[0m\u001b[0msrc\u001b[0m\u001b[0;34m,\u001b[0m \u001b[0;34m**\u001b[0m\u001b[0mkwds\u001b[0m\u001b[0;34m)\u001b[0m\u001b[0;34m\u001b[0m\u001b[0;34m\u001b[0m\u001b[0m\n\u001b[0m\u001b[1;32m   2011\u001b[0m         \u001b[0mself\u001b[0m\u001b[0;34m.\u001b[0m\u001b[0munnamed_cols\u001b[0m \u001b[0;34m=\u001b[0m \u001b[0mself\u001b[0m\u001b[0;34m.\u001b[0m\u001b[0m_reader\u001b[0m\u001b[0;34m.\u001b[0m\u001b[0munnamed_cols\u001b[0m\u001b[0;34m\u001b[0m\u001b[0;34m\u001b[0m\u001b[0m\n\u001b[1;32m   2012\u001b[0m \u001b[0;34m\u001b[0m\u001b[0m\n",
            "\u001b[0;32mpandas/_libs/parsers.pyx\u001b[0m in \u001b[0;36mpandas._libs.parsers.TextReader.__cinit__\u001b[0;34m()\u001b[0m\n",
            "\u001b[0;32mpandas/_libs/parsers.pyx\u001b[0m in \u001b[0;36mpandas._libs.parsers.TextReader._setup_parser_source\u001b[0;34m()\u001b[0m\n",
            "\u001b[0;31mFileNotFoundError\u001b[0m: [Errno 2] No such file or directory: 'tmdb-movies.csv'"
          ]
        }
      ]
    },
    {
      "cell_type": "markdown",
      "metadata": {
        "id": "ZPIV1NTKeVFG"
      },
      "source": [
        "### Explore data"
      ]
    },
    {
      "cell_type": "markdown",
      "metadata": {
        "id": "mxgIOg5EXgiy"
      },
      "source": [
        "#### How many rows and how many columns to we have?"
      ]
    },
    {
      "cell_type": "code",
      "metadata": {
        "id": "qRyLgxmeXgiy",
        "outputId": "e00e53f8-7194-46ae-b450-86cdb29d58d1"
      },
      "source": [
        "# See the number of rows and columns\n",
        "print(\"Rows, columns: \" + str(movies.shape))"
      ],
      "execution_count": null,
      "outputs": [
        {
          "name": "stdout",
          "output_type": "stream",
          "text": [
            "Rows, columns: (10866, 21)\n"
          ]
        }
      ]
    },
    {
      "cell_type": "markdown",
      "metadata": {
        "id": "A7WjzdYIfepz"
      },
      "source": [
        "#### Show the datasets\n"
      ]
    },
    {
      "cell_type": "code",
      "metadata": {
        "id": "ZAQyLQ0AfjfT",
        "colab": {
          "base_uri": "https://localhost:8080/",
          "height": 165
        },
        "outputId": "ef1a080c-7567-4838-a963-f9844eab4bd0"
      },
      "source": [
        "#print the first rows of the dataset\n",
        "movies.head()"
      ],
      "execution_count": null,
      "outputs": [
        {
          "output_type": "error",
          "ename": "NameError",
          "evalue": "ignored",
          "traceback": [
            "\u001b[0;31m---------------------------------------------------------------------------\u001b[0m",
            "\u001b[0;31mNameError\u001b[0m                                 Traceback (most recent call last)",
            "\u001b[0;32m<ipython-input-3-99354095a75d>\u001b[0m in \u001b[0;36m<module>\u001b[0;34m()\u001b[0m\n\u001b[0;32m----> 1\u001b[0;31m \u001b[0mmovies\u001b[0m\u001b[0;34m.\u001b[0m\u001b[0mhead\u001b[0m\u001b[0;34m(\u001b[0m\u001b[0;34m)\u001b[0m\u001b[0;34m\u001b[0m\u001b[0;34m\u001b[0m\u001b[0m\n\u001b[0m",
            "\u001b[0;31mNameError\u001b[0m: name 'movies' is not defined"
          ]
        }
      ]
    },
    {
      "cell_type": "code",
      "metadata": {
        "id": "gad5iGMJlnmy"
      },
      "source": [
        "# print the last rows of the dataset\n",
        "movies.tail()"
      ],
      "execution_count": null,
      "outputs": []
    },
    {
      "cell_type": "markdown",
      "metadata": {
        "id": "jmbpRpCKjuqQ"
      },
      "source": [
        "#### Get general informations"
      ]
    },
    {
      "cell_type": "code",
      "metadata": {
        "id": "AuPclT7uXgiz"
      },
      "source": [
        "# get a summery of the dataset\n",
        "movies.info()  "
      ],
      "execution_count": null,
      "outputs": []
    },
    {
      "cell_type": "code",
      "metadata": {
        "id": "CaqI3hZfl_M7"
      },
      "source": [
        "#print the key indicators of the dataset\n",
        "movies.describe()"
      ],
      "execution_count": null,
      "outputs": []
    },
    {
      "cell_type": "markdown",
      "metadata": {
        "id": "L7oMHxWQmTqy"
      },
      "source": [
        "#### Check for NULL values\n"
      ]
    },
    {
      "cell_type": "code",
      "metadata": {
        "id": "TNb4hAOPmcjC"
      },
      "source": [
        "# check and sum the row in each column that has null values\n",
        "movies.isna().sum()"
      ],
      "execution_count": null,
      "outputs": []
    },
    {
      "cell_type": "markdown",
      "metadata": {
        "id": "3tvoakHle6h4"
      },
      "source": [
        "#### Check for duplicates"
      ]
    },
    {
      "cell_type": "code",
      "metadata": {
        "id": "yV6GvboRXgi0",
        "outputId": "891895d5-ce26-467f-88f0-3cbb20796f0a"
      },
      "source": [
        "# movies.duplicates()\n",
        "print('dublicates datasets:')\n",
        "print(movies.original_title.duplicated) # detect dublicates datasets\n",
        "movies.duplicated().sum()\n",
        "\n",
        "print('duplicate titles:' + str(movies.original_title.duplicated))\n",
        "sum(movies.duplicated())\n"
      ],
      "execution_count": null,
      "outputs": [
        {
          "name": "stdout",
          "output_type": "stream",
          "text": [
            "dublicates datasets:\n",
            "<bound method Series.duplicated of 0                      Jurassic World\n",
            "1                  Mad Max: Fury Road\n",
            "2                           Insurgent\n",
            "3        Star Wars: The Force Awakens\n",
            "4                           Furious 7\n",
            "                     ...             \n",
            "10861              The Endless Summer\n",
            "10862                      Grand Prix\n",
            "10863             Beregis Avtomobilya\n",
            "10864          What's Up, Tiger Lily?\n",
            "10865        Manos: The Hands of Fate\n",
            "Name: original_title, Length: 10866, dtype: object>\n",
            "duplicate titles:<bound method Series.duplicated of 0                      Jurassic World\n",
            "1                  Mad Max: Fury Road\n",
            "2                           Insurgent\n",
            "3        Star Wars: The Force Awakens\n",
            "4                           Furious 7\n",
            "                     ...             \n",
            "10861              The Endless Summer\n",
            "10862                      Grand Prix\n",
            "10863             Beregis Avtomobilya\n",
            "10864          What's Up, Tiger Lily?\n",
            "10865        Manos: The Hands of Fate\n",
            "Name: original_title, Length: 10866, dtype: object>\n"
          ]
        }
      ]
    },
    {
      "cell_type": "markdown",
      "metadata": {
        "id": "oxdzbdAkm9F0"
      },
      "source": [
        "### Data Cleaning\n"
      ]
    },
    {
      "cell_type": "markdown",
      "metadata": {
        "id": "TWlx04gUnImV"
      },
      "source": [
        "#### Fill the null values"
      ]
    },
    {
      "cell_type": "code",
      "metadata": {
        "colab": {
          "base_uri": "https://localhost:8080/",
          "height": 165
        },
        "id": "avb_JMLxnJE9",
        "outputId": "b25b9736-b6e1-4ff0-c6f8-7df334fccd6f"
      },
      "source": [
        "# fill the null values\n",
        "movies.fillna(0)"
      ],
      "execution_count": null,
      "outputs": [
        {
          "output_type": "error",
          "ename": "NameError",
          "evalue": "ignored",
          "traceback": [
            "\u001b[0;31m---------------------------------------------------------------------------\u001b[0m",
            "\u001b[0;31mNameError\u001b[0m                                 Traceback (most recent call last)",
            "\u001b[0;32m<ipython-input-2-cd14fb8c7b3e>\u001b[0m in \u001b[0;36m<module>\u001b[0;34m()\u001b[0m\n\u001b[0;32m----> 1\u001b[0;31m \u001b[0mmovies\u001b[0m\u001b[0;34m.\u001b[0m\u001b[0mfillna\u001b[0m\u001b[0;34m(\u001b[0m\u001b[0;36m0\u001b[0m\u001b[0;34m)\u001b[0m\u001b[0;34m\u001b[0m\u001b[0;34m\u001b[0m\u001b[0m\n\u001b[0m",
            "\u001b[0;31mNameError\u001b[0m: name 'movies' is not defined"
          ]
        }
      ]
    },
    {
      "cell_type": "code",
      "metadata": {
        "id": "DW5eXI8lXgi1",
        "colab": {
          "base_uri": "https://localhost:8080/",
          "height": 217
        },
        "outputId": "80ea526c-c9f9-44b2-dd4e-01ca676450d3"
      },
      "source": [
        "print('dublicates titles:')\n",
        "movies.original_title.duplicated() # detect dublicate titles\n",
        "movies.original_title.duplicated().sum()\n"
      ],
      "execution_count": null,
      "outputs": [
        {
          "output_type": "stream",
          "name": "stdout",
          "text": [
            "dublicates titles:\n"
          ]
        },
        {
          "output_type": "error",
          "ename": "NameError",
          "evalue": "ignored",
          "traceback": [
            "\u001b[0;31m---------------------------------------------------------------------------\u001b[0m",
            "\u001b[0;31mNameError\u001b[0m                                 Traceback (most recent call last)",
            "\u001b[0;32m<ipython-input-4-3fc756eb3496>\u001b[0m in \u001b[0;36m<module>\u001b[0;34m()\u001b[0m\n\u001b[1;32m      1\u001b[0m \u001b[0mprint\u001b[0m\u001b[0;34m(\u001b[0m\u001b[0;34m'dublicates titles:'\u001b[0m\u001b[0;34m)\u001b[0m\u001b[0;34m\u001b[0m\u001b[0;34m\u001b[0m\u001b[0m\n\u001b[0;32m----> 2\u001b[0;31m \u001b[0mmovies\u001b[0m\u001b[0;34m.\u001b[0m\u001b[0moriginal_title\u001b[0m\u001b[0;34m.\u001b[0m\u001b[0mduplicated\u001b[0m\u001b[0;34m(\u001b[0m\u001b[0;34m)\u001b[0m \u001b[0;31m# detect dublicate titles\u001b[0m\u001b[0;34m\u001b[0m\u001b[0;34m\u001b[0m\u001b[0m\n\u001b[0m\u001b[1;32m      3\u001b[0m \u001b[0mmovies\u001b[0m\u001b[0;34m.\u001b[0m\u001b[0moriginal_title\u001b[0m\u001b[0;34m.\u001b[0m\u001b[0mduplicated\u001b[0m\u001b[0;34m(\u001b[0m\u001b[0;34m)\u001b[0m\u001b[0;34m.\u001b[0m\u001b[0msum\u001b[0m\u001b[0;34m(\u001b[0m\u001b[0;34m)\u001b[0m\u001b[0;34m\u001b[0m\u001b[0;34m\u001b[0m\u001b[0m\n",
            "\u001b[0;31mNameError\u001b[0m: name 'movies' is not defined"
          ]
        }
      ]
    },
    {
      "cell_type": "code",
      "metadata": {
        "id": "Y7M1Y2ciXgi2"
      },
      "source": [
        "# check for duplicates titles"
      ],
      "execution_count": null,
      "outputs": []
    },
    {
      "cell_type": "code",
      "metadata": {
        "id": "cw4tPB64Xgi2",
        "outputId": "f0b81b60-b306-41a7-9422-55dc0f17c66b"
      },
      "source": [
        "# Extract duplicate rows\n",
        "movies.loc[movies.duplicated(), :]"
      ],
      "execution_count": null,
      "outputs": [
        {
          "data": {
            "text/html": [
              "<div>\n",
              "<style scoped>\n",
              "    .dataframe tbody tr th:only-of-type {\n",
              "        vertical-align: middle;\n",
              "    }\n",
              "\n",
              "    .dataframe tbody tr th {\n",
              "        vertical-align: top;\n",
              "    }\n",
              "\n",
              "    .dataframe thead th {\n",
              "        text-align: right;\n",
              "    }\n",
              "</style>\n",
              "<table border=\"1\" class=\"dataframe\">\n",
              "  <thead>\n",
              "    <tr style=\"text-align: right;\">\n",
              "      <th></th>\n",
              "      <th>id</th>\n",
              "      <th>imdb_id</th>\n",
              "      <th>popularity</th>\n",
              "      <th>budget</th>\n",
              "      <th>revenue</th>\n",
              "      <th>original_title</th>\n",
              "      <th>cast</th>\n",
              "      <th>homepage</th>\n",
              "      <th>director</th>\n",
              "      <th>tagline</th>\n",
              "      <th>...</th>\n",
              "      <th>overview</th>\n",
              "      <th>runtime</th>\n",
              "      <th>genres</th>\n",
              "      <th>production_companies</th>\n",
              "      <th>release_date</th>\n",
              "      <th>vote_count</th>\n",
              "      <th>vote_average</th>\n",
              "      <th>release_year</th>\n",
              "      <th>budget_adj</th>\n",
              "      <th>revenue_adj</th>\n",
              "    </tr>\n",
              "  </thead>\n",
              "  <tbody>\n",
              "    <tr>\n",
              "      <th>2090</th>\n",
              "      <td>42194</td>\n",
              "      <td>tt0411951</td>\n",
              "      <td>0.59643</td>\n",
              "      <td>30000000</td>\n",
              "      <td>967000</td>\n",
              "      <td>TEKKEN</td>\n",
              "      <td>Jon Foo|Kelly Overton|Cary-Hiroyuki Tagawa|Ian...</td>\n",
              "      <td>NaN</td>\n",
              "      <td>Dwight H. Little</td>\n",
              "      <td>Survival is no game</td>\n",
              "      <td>...</td>\n",
              "      <td>In the year of 2039, after World Wars destroy ...</td>\n",
              "      <td>92</td>\n",
              "      <td>Crime|Drama|Action|Thriller|Science Fiction</td>\n",
              "      <td>Namco|Light Song Films</td>\n",
              "      <td>3/20/10</td>\n",
              "      <td>110</td>\n",
              "      <td>5.0</td>\n",
              "      <td>2010</td>\n",
              "      <td>30000000.0</td>\n",
              "      <td>967000.0</td>\n",
              "    </tr>\n",
              "  </tbody>\n",
              "</table>\n",
              "<p>1 rows × 21 columns</p>\n",
              "</div>"
            ],
            "text/plain": [
              "         id    imdb_id  popularity    budget  revenue original_title  \\\n",
              "2090  42194  tt0411951     0.59643  30000000   967000         TEKKEN   \n",
              "\n",
              "                                                   cast homepage  \\\n",
              "2090  Jon Foo|Kelly Overton|Cary-Hiroyuki Tagawa|Ian...      NaN   \n",
              "\n",
              "              director              tagline  ...  \\\n",
              "2090  Dwight H. Little  Survival is no game  ...   \n",
              "\n",
              "                                               overview runtime  \\\n",
              "2090  In the year of 2039, after World Wars destroy ...      92   \n",
              "\n",
              "                                           genres    production_companies  \\\n",
              "2090  Crime|Drama|Action|Thriller|Science Fiction  Namco|Light Song Films   \n",
              "\n",
              "     release_date vote_count  vote_average  release_year  budget_adj  \\\n",
              "2090      3/20/10        110           5.0          2010  30000000.0   \n",
              "\n",
              "      revenue_adj  \n",
              "2090     967000.0  \n",
              "\n",
              "[1 rows x 21 columns]"
            ]
          },
          "execution_count": 9,
          "metadata": {},
          "output_type": "execute_result"
        }
      ]
    },
    {
      "cell_type": "code",
      "metadata": {
        "id": "dnTY06cKXgi3"
      },
      "source": [
        "# Removing the duplicates"
      ],
      "execution_count": null,
      "outputs": []
    },
    {
      "cell_type": "code",
      "metadata": {
        "id": "JQY17gLHXgi0",
        "colab": {
          "base_uri": "https://localhost:8080/",
          "height": 235
        },
        "outputId": "1548d3c3-4179-4f68-d602-112503317924"
      },
      "source": [
        "print(\"BEFORE: Rows,Columns) : \",movies.shape)\n",
        "# remove dublicates\n",
        "movies.drop_duplicates(inplace = True)\n",
        "\n",
        "# check \n",
        "print(\"AFTER: Rows,Columns) : \",movies.shape)"
      ],
      "execution_count": null,
      "outputs": [
        {
          "output_type": "error",
          "ename": "NameError",
          "evalue": "ignored",
          "traceback": [
            "\u001b[0;31m---------------------------------------------------------------------------\u001b[0m",
            "\u001b[0;31mNameError\u001b[0m                                 Traceback (most recent call last)",
            "\u001b[0;32m<ipython-input-3-52fc79af7a75>\u001b[0m in \u001b[0;36m<module>\u001b[0;34m()\u001b[0m\n\u001b[0;32m----> 1\u001b[0;31m \u001b[0mprint\u001b[0m\u001b[0;34m(\u001b[0m\u001b[0;34m\"BEFORE: Rows,Columns) : \"\u001b[0m\u001b[0;34m,\u001b[0m\u001b[0mmovies\u001b[0m\u001b[0;34m.\u001b[0m\u001b[0mshape\u001b[0m\u001b[0;34m)\u001b[0m\u001b[0;34m\u001b[0m\u001b[0;34m\u001b[0m\u001b[0m\n\u001b[0m\u001b[1;32m      2\u001b[0m \u001b[0;31m# remove dublicates\u001b[0m\u001b[0;34m\u001b[0m\u001b[0;34m\u001b[0m\u001b[0;34m\u001b[0m\u001b[0m\n\u001b[1;32m      3\u001b[0m \u001b[0mreader\u001b[0m\u001b[0;34m.\u001b[0m\u001b[0mdrop_duplicates\u001b[0m\u001b[0;34m(\u001b[0m\u001b[0minplace\u001b[0m \u001b[0;34m=\u001b[0m \u001b[0;32mTrue\u001b[0m\u001b[0;34m)\u001b[0m\u001b[0;34m\u001b[0m\u001b[0;34m\u001b[0m\u001b[0m\n\u001b[1;32m      4\u001b[0m \u001b[0;34m\u001b[0m\u001b[0m\n\u001b[1;32m      5\u001b[0m \u001b[0;31m# check\u001b[0m\u001b[0;34m\u001b[0m\u001b[0;34m\u001b[0m\u001b[0;34m\u001b[0m\u001b[0m\n",
            "\u001b[0;31mNameError\u001b[0m: name 'movies' is not defined"
          ]
        }
      ]
    },
    {
      "cell_type": "code",
      "metadata": {
        "id": "tCD2aKnLXgi4",
        "outputId": "05bb45e0-fcb1-4014-9d68-46efec5418df"
      },
      "source": [
        "temp_movies = movies.drop_duplicates()\n",
        "temp_movies.shape"
      ],
      "execution_count": null,
      "outputs": [
        {
          "data": {
            "text/plain": [
              "(10865, 21)"
            ]
          },
          "execution_count": 11,
          "metadata": {},
          "output_type": "execute_result"
        }
      ]
    },
    {
      "cell_type": "code",
      "metadata": {
        "id": "8RamGb1WXgi4",
        "outputId": "4215ba65-f363-424e-e6e9-44a06b4d434f"
      },
      "source": [
        "# Extract duplicate rows\n",
        "movies.loc[movies.duplicated(), :]"
      ],
      "execution_count": null,
      "outputs": [
        {
          "data": {
            "text/html": [
              "<div>\n",
              "<style scoped>\n",
              "    .dataframe tbody tr th:only-of-type {\n",
              "        vertical-align: middle;\n",
              "    }\n",
              "\n",
              "    .dataframe tbody tr th {\n",
              "        vertical-align: top;\n",
              "    }\n",
              "\n",
              "    .dataframe thead th {\n",
              "        text-align: right;\n",
              "    }\n",
              "</style>\n",
              "<table border=\"1\" class=\"dataframe\">\n",
              "  <thead>\n",
              "    <tr style=\"text-align: right;\">\n",
              "      <th></th>\n",
              "      <th>id</th>\n",
              "      <th>imdb_id</th>\n",
              "      <th>popularity</th>\n",
              "      <th>budget</th>\n",
              "      <th>revenue</th>\n",
              "      <th>original_title</th>\n",
              "      <th>cast</th>\n",
              "      <th>homepage</th>\n",
              "      <th>director</th>\n",
              "      <th>tagline</th>\n",
              "      <th>...</th>\n",
              "      <th>overview</th>\n",
              "      <th>runtime</th>\n",
              "      <th>genres</th>\n",
              "      <th>production_companies</th>\n",
              "      <th>release_date</th>\n",
              "      <th>vote_count</th>\n",
              "      <th>vote_average</th>\n",
              "      <th>release_year</th>\n",
              "      <th>budget_adj</th>\n",
              "      <th>revenue_adj</th>\n",
              "    </tr>\n",
              "  </thead>\n",
              "  <tbody>\n",
              "    <tr>\n",
              "      <th>2090</th>\n",
              "      <td>42194</td>\n",
              "      <td>tt0411951</td>\n",
              "      <td>0.59643</td>\n",
              "      <td>30000000</td>\n",
              "      <td>967000</td>\n",
              "      <td>TEKKEN</td>\n",
              "      <td>Jon Foo|Kelly Overton|Cary-Hiroyuki Tagawa|Ian...</td>\n",
              "      <td>NaN</td>\n",
              "      <td>Dwight H. Little</td>\n",
              "      <td>Survival is no game</td>\n",
              "      <td>...</td>\n",
              "      <td>In the year of 2039, after World Wars destroy ...</td>\n",
              "      <td>92</td>\n",
              "      <td>Crime|Drama|Action|Thriller|Science Fiction</td>\n",
              "      <td>Namco|Light Song Films</td>\n",
              "      <td>3/20/10</td>\n",
              "      <td>110</td>\n",
              "      <td>5.0</td>\n",
              "      <td>2010</td>\n",
              "      <td>30000000.0</td>\n",
              "      <td>967000.0</td>\n",
              "    </tr>\n",
              "  </tbody>\n",
              "</table>\n",
              "<p>1 rows × 21 columns</p>\n",
              "</div>"
            ],
            "text/plain": [
              "         id    imdb_id  popularity    budget  revenue original_title  \\\n",
              "2090  42194  tt0411951     0.59643  30000000   967000         TEKKEN   \n",
              "\n",
              "                                                   cast homepage  \\\n",
              "2090  Jon Foo|Kelly Overton|Cary-Hiroyuki Tagawa|Ian...      NaN   \n",
              "\n",
              "              director              tagline  ...  \\\n",
              "2090  Dwight H. Little  Survival is no game  ...   \n",
              "\n",
              "                                               overview runtime  \\\n",
              "2090  In the year of 2039, after World Wars destroy ...      92   \n",
              "\n",
              "                                           genres    production_companies  \\\n",
              "2090  Crime|Drama|Action|Thriller|Science Fiction  Namco|Light Song Films   \n",
              "\n",
              "     release_date vote_count  vote_average  release_year  budget_adj  \\\n",
              "2090      3/20/10        110           5.0          2010  30000000.0   \n",
              "\n",
              "      revenue_adj  \n",
              "2090     967000.0  \n",
              "\n",
              "[1 rows x 21 columns]"
            ]
          },
          "execution_count": 12,
          "metadata": {},
          "output_type": "execute_result"
        }
      ]
    },
    {
      "cell_type": "code",
      "metadata": {
        "id": "mU3WXZASXgi4",
        "outputId": "f359aecb-4d10-4182-f59d-69f54bca3269"
      },
      "source": [
        "movies.describe()"
      ],
      "execution_count": null,
      "outputs": [
        {
          "data": {
            "text/html": [
              "<div>\n",
              "<style scoped>\n",
              "    .dataframe tbody tr th:only-of-type {\n",
              "        vertical-align: middle;\n",
              "    }\n",
              "\n",
              "    .dataframe tbody tr th {\n",
              "        vertical-align: top;\n",
              "    }\n",
              "\n",
              "    .dataframe thead th {\n",
              "        text-align: right;\n",
              "    }\n",
              "</style>\n",
              "<table border=\"1\" class=\"dataframe\">\n",
              "  <thead>\n",
              "    <tr style=\"text-align: right;\">\n",
              "      <th></th>\n",
              "      <th>id</th>\n",
              "      <th>popularity</th>\n",
              "      <th>budget</th>\n",
              "      <th>revenue</th>\n",
              "      <th>runtime</th>\n",
              "      <th>vote_count</th>\n",
              "      <th>vote_average</th>\n",
              "      <th>release_year</th>\n",
              "      <th>budget_adj</th>\n",
              "      <th>revenue_adj</th>\n",
              "    </tr>\n",
              "  </thead>\n",
              "  <tbody>\n",
              "    <tr>\n",
              "      <th>count</th>\n",
              "      <td>10866.000000</td>\n",
              "      <td>10866.000000</td>\n",
              "      <td>1.086600e+04</td>\n",
              "      <td>1.086600e+04</td>\n",
              "      <td>10866.000000</td>\n",
              "      <td>10866.000000</td>\n",
              "      <td>10866.000000</td>\n",
              "      <td>10866.000000</td>\n",
              "      <td>1.086600e+04</td>\n",
              "      <td>1.086600e+04</td>\n",
              "    </tr>\n",
              "    <tr>\n",
              "      <th>mean</th>\n",
              "      <td>66064.177434</td>\n",
              "      <td>0.646441</td>\n",
              "      <td>1.462570e+07</td>\n",
              "      <td>3.982332e+07</td>\n",
              "      <td>102.070863</td>\n",
              "      <td>217.389748</td>\n",
              "      <td>5.974922</td>\n",
              "      <td>2001.322658</td>\n",
              "      <td>1.755104e+07</td>\n",
              "      <td>5.136436e+07</td>\n",
              "    </tr>\n",
              "    <tr>\n",
              "      <th>std</th>\n",
              "      <td>92130.136561</td>\n",
              "      <td>1.000185</td>\n",
              "      <td>3.091321e+07</td>\n",
              "      <td>1.170035e+08</td>\n",
              "      <td>31.381405</td>\n",
              "      <td>575.619058</td>\n",
              "      <td>0.935142</td>\n",
              "      <td>12.812941</td>\n",
              "      <td>3.430616e+07</td>\n",
              "      <td>1.446325e+08</td>\n",
              "    </tr>\n",
              "    <tr>\n",
              "      <th>min</th>\n",
              "      <td>5.000000</td>\n",
              "      <td>0.000065</td>\n",
              "      <td>0.000000e+00</td>\n",
              "      <td>0.000000e+00</td>\n",
              "      <td>0.000000</td>\n",
              "      <td>10.000000</td>\n",
              "      <td>1.500000</td>\n",
              "      <td>1960.000000</td>\n",
              "      <td>0.000000e+00</td>\n",
              "      <td>0.000000e+00</td>\n",
              "    </tr>\n",
              "    <tr>\n",
              "      <th>25%</th>\n",
              "      <td>10596.250000</td>\n",
              "      <td>0.207583</td>\n",
              "      <td>0.000000e+00</td>\n",
              "      <td>0.000000e+00</td>\n",
              "      <td>90.000000</td>\n",
              "      <td>17.000000</td>\n",
              "      <td>5.400000</td>\n",
              "      <td>1995.000000</td>\n",
              "      <td>0.000000e+00</td>\n",
              "      <td>0.000000e+00</td>\n",
              "    </tr>\n",
              "    <tr>\n",
              "      <th>50%</th>\n",
              "      <td>20669.000000</td>\n",
              "      <td>0.383856</td>\n",
              "      <td>0.000000e+00</td>\n",
              "      <td>0.000000e+00</td>\n",
              "      <td>99.000000</td>\n",
              "      <td>38.000000</td>\n",
              "      <td>6.000000</td>\n",
              "      <td>2006.000000</td>\n",
              "      <td>0.000000e+00</td>\n",
              "      <td>0.000000e+00</td>\n",
              "    </tr>\n",
              "    <tr>\n",
              "      <th>75%</th>\n",
              "      <td>75610.000000</td>\n",
              "      <td>0.713817</td>\n",
              "      <td>1.500000e+07</td>\n",
              "      <td>2.400000e+07</td>\n",
              "      <td>111.000000</td>\n",
              "      <td>145.750000</td>\n",
              "      <td>6.600000</td>\n",
              "      <td>2011.000000</td>\n",
              "      <td>2.085325e+07</td>\n",
              "      <td>3.369710e+07</td>\n",
              "    </tr>\n",
              "    <tr>\n",
              "      <th>max</th>\n",
              "      <td>417859.000000</td>\n",
              "      <td>32.985763</td>\n",
              "      <td>4.250000e+08</td>\n",
              "      <td>2.781506e+09</td>\n",
              "      <td>900.000000</td>\n",
              "      <td>9767.000000</td>\n",
              "      <td>9.200000</td>\n",
              "      <td>2015.000000</td>\n",
              "      <td>4.250000e+08</td>\n",
              "      <td>2.827124e+09</td>\n",
              "    </tr>\n",
              "  </tbody>\n",
              "</table>\n",
              "</div>"
            ],
            "text/plain": [
              "                  id    popularity        budget       revenue       runtime  \\\n",
              "count   10866.000000  10866.000000  1.086600e+04  1.086600e+04  10866.000000   \n",
              "mean    66064.177434      0.646441  1.462570e+07  3.982332e+07    102.070863   \n",
              "std     92130.136561      1.000185  3.091321e+07  1.170035e+08     31.381405   \n",
              "min         5.000000      0.000065  0.000000e+00  0.000000e+00      0.000000   \n",
              "25%     10596.250000      0.207583  0.000000e+00  0.000000e+00     90.000000   \n",
              "50%     20669.000000      0.383856  0.000000e+00  0.000000e+00     99.000000   \n",
              "75%     75610.000000      0.713817  1.500000e+07  2.400000e+07    111.000000   \n",
              "max    417859.000000     32.985763  4.250000e+08  2.781506e+09    900.000000   \n",
              "\n",
              "         vote_count  vote_average  release_year    budget_adj   revenue_adj  \n",
              "count  10866.000000  10866.000000  10866.000000  1.086600e+04  1.086600e+04  \n",
              "mean     217.389748      5.974922   2001.322658  1.755104e+07  5.136436e+07  \n",
              "std      575.619058      0.935142     12.812941  3.430616e+07  1.446325e+08  \n",
              "min       10.000000      1.500000   1960.000000  0.000000e+00  0.000000e+00  \n",
              "25%       17.000000      5.400000   1995.000000  0.000000e+00  0.000000e+00  \n",
              "50%       38.000000      6.000000   2006.000000  0.000000e+00  0.000000e+00  \n",
              "75%      145.750000      6.600000   2011.000000  2.085325e+07  3.369710e+07  \n",
              "max     9767.000000      9.200000   2015.000000  4.250000e+08  2.827124e+09  "
            ]
          },
          "execution_count": 13,
          "metadata": {},
          "output_type": "execute_result"
        }
      ]
    },
    {
      "cell_type": "code",
      "metadata": {
        "id": "Qzx8jGzDXgi5",
        "outputId": "17f992ef-c255-423c-b1b7-1cec8044d84a"
      },
      "source": [
        "movies.info()"
      ],
      "execution_count": null,
      "outputs": [
        {
          "name": "stdout",
          "output_type": "stream",
          "text": [
            "<class 'pandas.core.frame.DataFrame'>\n",
            "RangeIndex: 10866 entries, 0 to 10865\n",
            "Data columns (total 21 columns):\n",
            " #   Column                Non-Null Count  Dtype  \n",
            "---  ------                --------------  -----  \n",
            " 0   id                    10866 non-null  int64  \n",
            " 1   imdb_id               10856 non-null  object \n",
            " 2   popularity            10866 non-null  float64\n",
            " 3   budget                10866 non-null  int64  \n",
            " 4   revenue               10866 non-null  int64  \n",
            " 5   original_title        10866 non-null  object \n",
            " 6   cast                  10790 non-null  object \n",
            " 7   homepage              2936 non-null   object \n",
            " 8   director              10822 non-null  object \n",
            " 9   tagline               8042 non-null   object \n",
            " 10  keywords              9373 non-null   object \n",
            " 11  overview              10862 non-null  object \n",
            " 12  runtime               10866 non-null  int64  \n",
            " 13  genres                10843 non-null  object \n",
            " 14  production_companies  9836 non-null   object \n",
            " 15  release_date          10866 non-null  object \n",
            " 16  vote_count            10866 non-null  int64  \n",
            " 17  vote_average          10866 non-null  float64\n",
            " 18  release_year          10866 non-null  int64  \n",
            " 19  budget_adj            10866 non-null  float64\n",
            " 20  revenue_adj           10866 non-null  float64\n",
            "dtypes: float64(4), int64(6), object(11)\n",
            "memory usage: 1.7+ MB\n"
          ]
        }
      ]
    },
    {
      "cell_type": "markdown",
      "metadata": {
        "id": "-IycWGx9Xgi5"
      },
      "source": [
        "Drop the unnesesarry fields."
      ]
    },
    {
      "cell_type": "code",
      "metadata": {
        "id": "RFTNcoAHXgi5"
      },
      "source": [
        "movies.drop(['imdb_id','cast','homepage','director','tagline','keywords','overview'], axis=1, inplace=True)"
      ],
      "execution_count": null,
      "outputs": []
    },
    {
      "cell_type": "markdown",
      "metadata": {
        "id": "cvj6acsFXgi6"
      },
      "source": [
        "#### *Renaming* some fields "
      ]
    },
    {
      "cell_type": "code",
      "metadata": {
        "id": "RJaroeuRXgi6"
      },
      "source": [
        "movies.rename(columns={\n",
        "        'runtime': 'runtime in minutes', \n",
        "        'Revenue (millions)': 'revenue'\n",
        "    }, inplace=True)"
      ],
      "execution_count": null,
      "outputs": []
    },
    {
      "cell_type": "markdown",
      "metadata": {
        "id": "hMF1P0clnzys"
      },
      "source": [
        "#### Remove Duplicate Rows\n"
      ]
    },
    {
      "cell_type": "code",
      "metadata": {
        "id": "8rZA0ChvXgi7",
        "outputId": "b0731328-c56f-4b25-878c-5eb8255498eb"
      },
      "source": [
        "movies.info()"
      ],
      "execution_count": null,
      "outputs": [
        {
          "name": "stdout",
          "output_type": "stream",
          "text": [
            "<class 'pandas.core.frame.DataFrame'>\n",
            "RangeIndex: 10866 entries, 0 to 10865\n",
            "Data columns (total 14 columns):\n",
            " #   Column                Non-Null Count  Dtype  \n",
            "---  ------                --------------  -----  \n",
            " 0   id                    10866 non-null  int64  \n",
            " 1   popularity            10866 non-null  float64\n",
            " 2   budget                10866 non-null  int64  \n",
            " 3   revenue               10866 non-null  int64  \n",
            " 4   original_title        10866 non-null  object \n",
            " 5   runtime in minutes    10866 non-null  int64  \n",
            " 6   genres                10843 non-null  object \n",
            " 7   production_companies  9836 non-null   object \n",
            " 8   release_date          10866 non-null  object \n",
            " 9   vote_count            10866 non-null  int64  \n",
            " 10  vote_average          10866 non-null  float64\n",
            " 11  release_year          10866 non-null  int64  \n",
            " 12  budget_adj            10866 non-null  float64\n",
            " 13  revenue_adj           10866 non-null  float64\n",
            "dtypes: float64(4), int64(6), object(4)\n",
            "memory usage: 1.2+ MB\n"
          ]
        }
      ]
    },
    {
      "cell_type": "code",
      "metadata": {
        "id": "vucLblwpXgi6",
        "outputId": "d927893c-003e-44e8-e37d-c28c09eac393"
      },
      "source": [
        "movies.hist(figsize=(10,8));"
      ],
      "execution_count": null,
      "outputs": [
        {
          "data": {
            "image/png": "[encoded data removed]",
            "text/plain": [
              "<Figure size 720x576 with 12 Axes>"
            ]
          },
          "metadata": {
            "needs_background": "light"
          },
          "output_type": "display_data"
        }
      ]
    },
    {
      "cell_type": "markdown",
      "metadata": {
        "id": "_xVzNnu3Xgi7"
      },
      "source": [
        "some values have missing values:\n",
        "the following field have 'NULL' values.\n",
        "\n",
        "overview                \n",
        "genres  \n",
        "production_companies"
      ]
    },
    {
      "cell_type": "code",
      "metadata": {
        "id": "0pbOSdyMXgi7",
        "outputId": "c0a540dd-d08a-43f7-a968-de85949b00fb"
      },
      "source": [
        "movies[movies.production_companies.isnull()].hist(figsize=(14,12));"
      ],
      "execution_count": null,
      "outputs": [
        {
          "data": {
            "image/png": "[encoded data removed]",
            "text/plain": [
              "<Figure size 1008x864 with 12 Axes>"
            ]
          },
          "metadata": {
            "needs_background": "light"
          },
          "output_type": "display_data"
        }
      ]
    },
    {
      "cell_type": "code",
      "metadata": {
        "id": "amPUGcRyXgi7",
        "outputId": "61148e80-590d-4c61-f835-52d0e97d6697"
      },
      "source": [
        "movies.dropna(inplace=True)\n",
        "movies.info()"
      ],
      "execution_count": null,
      "outputs": [
        {
          "name": "stdout",
          "output_type": "stream",
          "text": [
            "<class 'pandas.core.frame.DataFrame'>\n",
            "Int64Index: 9827 entries, 0 to 10865\n",
            "Data columns (total 14 columns):\n",
            " #   Column                Non-Null Count  Dtype  \n",
            "---  ------                --------------  -----  \n",
            " 0   id                    9827 non-null   int64  \n",
            " 1   popularity            9827 non-null   float64\n",
            " 2   budget                9827 non-null   int64  \n",
            " 3   revenue               9827 non-null   int64  \n",
            " 4   original_title        9827 non-null   object \n",
            " 5   runtime in minutes    9827 non-null   int64  \n",
            " 6   genres                9827 non-null   object \n",
            " 7   production_companies  9827 non-null   object \n",
            " 8   release_date          9827 non-null   object \n",
            " 9   vote_count            9827 non-null   int64  \n",
            " 10  vote_average          9827 non-null   float64\n",
            " 11  release_year          9827 non-null   int64  \n",
            " 12  budget_adj            9827 non-null   float64\n",
            " 13  revenue_adj           9827 non-null   float64\n",
            "dtypes: float64(4), int64(6), object(4)\n",
            "memory usage: 1.1+ MB\n"
          ]
        }
      ]
    },
    {
      "cell_type": "markdown",
      "metadata": {
        "id": "6fKtcKggXgi8"
      },
      "source": [
        "Wie teuer ist ein Film?"
      ]
    },
    {
      "cell_type": "code",
      "metadata": {
        "id": "tKF-gNCPXgi8",
        "outputId": "6254854d-64ab-41b0-875f-f640ee2aa8aa"
      },
      "source": [
        "movies.budget.mean()"
      ],
      "execution_count": null,
      "outputs": [
        {
          "data": {
            "text/plain": [
              "16094611.910857841"
            ]
          },
          "execution_count": 23,
          "metadata": {},
          "output_type": "execute_result"
        }
      ]
    },
    {
      "cell_type": "code",
      "metadata": {
        "id": "T2h0E9jTXgi8",
        "outputId": "e00b7817-d58c-4d49-beaa-aac30579a911"
      },
      "source": [
        "movies.budget_adj.mean()         "
      ],
      "execution_count": null,
      "outputs": [
        {
          "data": {
            "text/plain": [
              "19313177.478397932"
            ]
          },
          "execution_count": 24,
          "metadata": {},
          "output_type": "execute_result"
        }
      ]
    },
    {
      "cell_type": "code",
      "metadata": {
        "id": "JL_MHW2TXgi8",
        "outputId": "5d7b7814-c127-41de-c070-eadb7b5cb632"
      },
      "source": [
        "movies.budget.hist(label='budget', alpha=0.5, color='blue')\n",
        "movies.budget_adj.hist(label='budget_adj', alpha=0.5, color='orange')\n",
        "plt.legend();"
      ],
      "execution_count": null,
      "outputs": [
        {
          "data": {
            "image/png": "[encoded data removed]",
            "text/plain": [
              "<Figure size 432x288 with 1 Axes>"
            ]
          },
          "metadata": {
            "needs_background": "light"
          },
          "output_type": "display_data"
        }
      ]
    },
    {
      "cell_type": "code",
      "metadata": {
        "id": "Dqq6FAF1Xgi8",
        "outputId": "be878e9c-3f31-4a39-f73c-3383e426fd71"
      },
      "source": [
        "movies.genres.value_counts()"
      ],
      "execution_count": null,
      "outputs": [
        {
          "data": {
            "text/plain": [
              "Drama                                  639\n",
              "Comedy                                 617\n",
              "Drama|Romance                          272\n",
              "Comedy|Drama                           255\n",
              "Comedy|Romance                         249\n",
              "                                      ... \n",
              "Adventure|Animation|Fantasy              1\n",
              "History                                  1\n",
              "Action|Comedy|Documentary                1\n",
              "War|Action|Thriller|Science Fiction      1\n",
              "Comedy|Crime|Thriller|Romance            1\n",
              "Name: genres, Length: 1926, dtype: int64"
            ]
          },
          "execution_count": 28,
          "metadata": {},
          "output_type": "execute_result"
        }
      ]
    },
    {
      "cell_type": "code",
      "metadata": {
        "id": "Ertf9AcPXgi_",
        "outputId": "0a2f1be2-7a70-49a5-b770-81b39bda386d"
      },
      "source": [
        "# importing the necessary packages\n",
        "import pandas as pd\n",
        "\n",
        "\n",
        "# movies = pd.read_json(\"tmdb-movies.csv\")\n",
        "movies_csv = pd.read_csv(\"tmdb-movies.csv\") # read movie data\n",
        "\n",
        "movies = movies_csv.copy()\n",
        "\n",
        "# movies_clean = movies_clean.rename(columns={'oldName1': 'newName1',\n",
        "                                    'oldName2': 'newName2'})\n",
        "\n",
        "movies\n",
        "movies.info()\n",
        "movies.head() # show the table of data\n",
        "\n",
        "# movies.shape(15,10)\n",
        "\n",
        "# movies.describe()\n",
        "movies.dtypes\n",
        "movies.head() # show the table of data"
      ],
      "execution_count": null,
      "outputs": [
        {
          "ename": "IndentationError",
          "evalue": "unexpected indent (<ipython-input-30-1ee0bb2293f9>, line 11)",
          "output_type": "error",
          "traceback": [
            "\u001b[0;36m  File \u001b[0;32m\"<ipython-input-30-1ee0bb2293f9>\"\u001b[0;36m, line \u001b[0;32m11\u001b[0m\n\u001b[0;31m    'oldName2': 'newName2'})\u001b[0m\n\u001b[0m    ^\u001b[0m\n\u001b[0;31mIndentationError\u001b[0m\u001b[0;31m:\u001b[0m unexpected indent\n"
          ]
        }
      ]
    },
    {
      "cell_type": "code",
      "metadata": {
        "id": "i7zGXT_KXgi_",
        "outputId": "a3f38def-7c38-4a12-aec4-1fba74579910"
      },
      "source": [
        "# Load your data and print out a few lines. Perform operations to inspect data\n",
        "#   types and look for instances of missing or possibly errant data.\n",
        "\n",
        "# importing the necessary packages\n",
        "import pandas as pd\n",
        "\n",
        "\n",
        "# Daten auslesen\n",
        "movies = pd.read_csv(\"tmdb-movies.csv\") # read movie data\n",
        "movies.info() # get information about the data\n",
        "movies.head() # show the table of data\n",
        "movies.isna().sum() # detect and sum empty values  \n"
      ],
      "execution_count": null,
      "outputs": [
        {
          "name": "stdout",
          "output_type": "stream",
          "text": [
            "<class 'pandas.core.frame.DataFrame'>\n",
            "RangeIndex: 10866 entries, 0 to 10865\n",
            "Data columns (total 21 columns):\n",
            " #   Column                Non-Null Count  Dtype  \n",
            "---  ------                --------------  -----  \n",
            " 0   id                    10866 non-null  int64  \n",
            " 1   imdb_id               10856 non-null  object \n",
            " 2   popularity            10866 non-null  float64\n",
            " 3   budget                10866 non-null  int64  \n",
            " 4   revenue               10866 non-null  int64  \n",
            " 5   original_title        10866 non-null  object \n",
            " 6   cast                  10790 non-null  object \n",
            " 7   homepage              2936 non-null   object \n",
            " 8   director              10822 non-null  object \n",
            " 9   tagline               8042 non-null   object \n",
            " 10  keywords              9373 non-null   object \n",
            " 11  overview              10862 non-null  object \n",
            " 12  runtime               10866 non-null  int64  \n",
            " 13  genres                10843 non-null  object \n",
            " 14  production_companies  9836 non-null   object \n",
            " 15  release_date          10866 non-null  object \n",
            " 16  vote_count            10866 non-null  int64  \n",
            " 17  vote_average          10866 non-null  float64\n",
            " 18  release_year          10866 non-null  int64  \n",
            " 19  budget_adj            10866 non-null  float64\n",
            " 20  revenue_adj           10866 non-null  float64\n",
            "dtypes: float64(4), int64(6), object(11)\n",
            "memory usage: 1.7+ MB\n"
          ]
        },
        {
          "data": {
            "text/plain": [
              "id                         0\n",
              "imdb_id                   10\n",
              "popularity                 0\n",
              "budget                     0\n",
              "revenue                    0\n",
              "original_title             0\n",
              "cast                      76\n",
              "homepage                7930\n",
              "director                  44\n",
              "tagline                 2824\n",
              "keywords                1493\n",
              "overview                   4\n",
              "runtime                    0\n",
              "genres                    23\n",
              "production_companies    1030\n",
              "release_date               0\n",
              "vote_count                 0\n",
              "vote_average               0\n",
              "release_year               0\n",
              "budget_adj                 0\n",
              "revenue_adj                0\n",
              "dtype: int64"
            ]
          },
          "execution_count": 31,
          "metadata": {},
          "output_type": "execute_result"
        }
      ]
    },
    {
      "cell_type": "code",
      "metadata": {
        "id": "vwnsAnL_Xgi_",
        "outputId": "4987fc72-4e05-4474-e165-159a5b7abd8c"
      },
      "source": [
        "genres = movies.genres.value_counts().head(20)\n",
        "\n",
        "# magic command\n",
        "%matplotlib inline \n",
        "\n",
        "\n",
        "\n",
        "genres.plot.bar(\n",
        "    figsize=[15,10],\n",
        "    title=\"Movie gendres\",\n",
        "    label=\"\")\n",
        "\n",
        "# gendres.legend(loc=2)\n",
        "# gendres.grid(True)\n",
        "\n",
        "\n",
        "# Bar Chart\n",
        "plt.figure(figsize=(15,10))\n",
        "plt.grid(True)\n",
        "\n",
        "# plt.plot(movies['genres'],temp_global['mov_avg'], label='Count of G3endr')\n",
        "\n",
        "\n",
        "# plt.legend(loc=2)\n",
        "# plt.xlabel('Gendre')\n",
        "\n",
        "\n"
      ],
      "execution_count": null,
      "outputs": [
        {
          "data": {
            "image/png": "[encoded data removed]",
            "text/plain": [
              "<Figure size 1080x720 with 1 Axes>"
            ]
          },
          "metadata": {
            "needs_background": "light"
          },
          "output_type": "display_data"
        },
        {
          "data": {
            "image/png": "[encoded data removed]",
            "text/plain": [
              "<Figure size 1080x720 with 1 Axes>"
            ]
          },
          "metadata": {
            "needs_background": "light"
          },
          "output_type": "display_data"
        }
      ]
    },
    {
      "cell_type": "code",
      "metadata": {
        "id": "KJt7-IhQXgjA"
      },
      "source": [
        "# Import der Biblitheken\n",
        "import pandas as pd\n",
        "\n",
        "# Daten auslesen\n",
        "movies = pd.read_csv(\"tmdb-movies.csv\") # read movie data\n",
        "\n",
        "top10 = movies.popularity.value_counts().head(10)\n",
        "\n",
        "# magic command\n",
        "%matplotlib inline \n",
        "top10.plot.pie()"
      ],
      "execution_count": null,
      "outputs": []
    },
    {
      "cell_type": "markdown",
      "metadata": {
        "id": "Px-O36JgXgjA"
      },
      "source": [
        "> **Tip**: You should _not_ perform too many operations in each cell. Create cells freely to explore your data. One option that you can take with this project is to do a lot of explorations in an initial notebook. These don't have to be organized, but make sure you use enough comments to understand the purpose of each code cell. Then, after you're done with your analysis, create a duplicate notebook where you will trim the excess and organize your steps so that you have a flowing, cohesive report.\n",
        "\n",
        "> **Tip**: Make sure that you keep your reader informed on the steps that you are taking in your investigation. Follow every code cell, or every set of related code cells, with a markdown cell to describe to the reader what was found in the preceding cell(s). Try to make it so that the reader can then understand what they will be seeing in the following cell(s).\n",
        "\n",
        "### Data Cleaning"
      ]
    },
    {
      "cell_type": "code",
      "metadata": {
        "id": "B6Zf3DAYXgjA"
      },
      "source": [
        "# After discussing the structure of the data and any problems that need to be\n",
        "#   cleaned, perform those cleaning steps in the second part of this section.\n"
      ],
      "execution_count": null,
      "outputs": []
    },
    {
      "cell_type": "markdown",
      "metadata": {
        "id": "Z-jOQRVgXgjA"
      },
      "source": [
        ""
      ]
    },
    {
      "cell_type": "markdown",
      "metadata": {
        "id": "_p61-GWoXgjA"
      },
      "source": [
        "<a id='eda'></a>\n",
        "## Exploratory Data Analysis\n",
        "\n",
        "> **Tip**: Now that you've trimmed and cleaned your data, you're ready to move on to exploration. Compute statistics and create visualizations with the goal of addressing the research questions that you posed in the Introduction section. It is recommended that you be systematic with your approach. Look at one variable at a time, and then follow it up by looking at relationships between variables.\n",
        "\n",
        "### Research Question 1 -  How good is the quality and strukture of data?\n",
        "\n",
        "\n",
        "> **Tip**:\n",
        "Following is the list of questions which can lead us in the desired direction:-\n",
        "Most successful genres — bar plot explaining the frequency of movies in each genre.\n",
        "Frequent Cast in movies — plot showing the spectrum of movies for each actor.\n",
        "Average budget of the profitable movies — what is the average budget allocated\n",
        "Average duration of the most profitable movies.\n",
        "Language of the most profitable movies.\n",
        "Answers to all the questions above would help us build our hypothesis which is “What is the recipe to make a blockbuster, profitable movie?”"
      ]
    },
    {
      "cell_type": "code",
      "metadata": {
        "id": "8H4lk0_uXgjB"
      },
      "source": [
        "# Use this, and more code cells, to explore your data. Don't forget to add\n",
        "#   Markdown cells to document your observations and findings.\n",
        "\n"
      ],
      "execution_count": null,
      "outputs": []
    },
    {
      "cell_type": "markdown",
      "metadata": {
        "id": "Y5oe7aLZXgjB"
      },
      "source": [
        "<a id='eda'></a>\n",
        "## Exploratory Data Analysis\n",
        "\n",
        "> **Tip**: Now that you've trimmed and cleaned your data, you're ready to move on to exploration. Compute statistics and create visualizations with the goal of addressing the research questions that you posed in the Introduction section. It is recommended that you be systematic with your approach. Look at one variable at a time, and then follow it up by looking at relationships between variables.\n",
        "\n",
        "### Research Question 2 -  What are the best rated movies?\n",
        "\n",
        "\n",
        "> **Tip**:\n",
        "Following is the list of questions which can lead us in the desired direction:-\n",
        "Most successful genres — bar plot explaining the frequency of movies in each genre.\n",
        "Frequent Cast in movies — plot showing the spectrum of movies for each actor.\n",
        "Average budget of the profitable movies — what is the average budget allocated\n",
        "Average duration of the most profitable movies.\n",
        "Language of the most profitable movies.\n",
        "Answers to all the questions above would help us build our hypothesis which is “What is the recipe to make a blockbuster, profitable movie?”"
      ]
    },
    {
      "cell_type": "markdown",
      "metadata": {
        "id": "o4TeeJn2XgjB"
      },
      "source": [
        "### Research Question 1 - How good is the quality and strukture of data?\n"
      ]
    },
    {
      "cell_type": "markdown",
      "metadata": {
        "id": "h1ywyXT0YWWO"
      },
      "source": [
        "### Research Question 2 - What are the best rated movies?"
      ]
    },
    {
      "cell_type": "markdown",
      "metadata": {
        "id": "pYrWFhfsYWxN"
      },
      "source": [
        "### Research Question 3 -  What are the the moste profitables movies?"
      ]
    },
    {
      "cell_type": "markdown",
      "metadata": {
        "id": "fSr8WzPcXgjB"
      },
      "source": [
        "### Research Question 4 - What are the most popular gendres"
      ]
    },
    {
      "cell_type": "markdown",
      "metadata": {
        "id": "5oLPOUywXgjC"
      },
      "source": [
        "### Research Question 5 - Which movies are the most expensive"
      ]
    },
    {
      "cell_type": "markdown",
      "metadata": {
        "id": "t64AtYKVXgjC"
      },
      "source": [
        "\n",
        "### Research Question 6 - What are the most popular movies"
      ]
    },
    {
      "cell_type": "markdown",
      "metadata": {
        "id": "18X1Yb3zXgjC"
      },
      "source": [
        "### Research Question 7  - What are the key indicators for a succesfull movie?"
      ]
    },
    {
      "cell_type": "markdown",
      "metadata": {
        "id": "GObm_be-YKot"
      },
      "source": [
        "# Neuer Abschnitt"
      ]
    },
    {
      "cell_type": "code",
      "metadata": {
        "id": "5ZX0uf2KXgjB"
      },
      "source": [
        "# Use this, and more code cells, to explore your data. Don't forget to add\n",
        "#   Markdown cells to document your observations and findings.\n",
        "\n"
      ],
      "execution_count": null,
      "outputs": []
    },
    {
      "cell_type": "code",
      "metadata": {
        "id": "RUqspsNhXgjB"
      },
      "source": [
        "# Continue to explore the data to address your additional research\n",
        "#   questions. Add more headers as needed if you have more questions to\n",
        "#   investigate.\n"
      ],
      "execution_count": null,
      "outputs": []
    },
    {
      "cell_type": "code",
      "metadata": {
        "id": "f_Wxyd7UXgjB",
        "outputId": "51107fce-4c3a-4186-e46e-8623545c6d6e"
      },
      "source": [
        "# count the number of movies per gendres \n",
        "countGenres=movies.groupby('genres').count()['id']\n",
        "print(countGenres.tail())"
      ],
      "execution_count": null,
      "outputs": [
        {
          "name": "stdout",
          "output_type": "stream",
          "text": [
            "genres\n",
            "Western|Drama|Crime|Romance    1\n",
            "Western|History                1\n",
            "Western|History|War            1\n",
            "Western|Horror|Thriller        1\n",
            "Western|Thriller               1\n",
            "Name: id, dtype: int64\n"
          ]
        }
      ]
    },
    {
      "cell_type": "code",
      "metadata": {
        "id": "3PG7gIZYXgjC",
        "outputId": "99b0228b-104f-455c-9ebd-cd7d7cbaa793"
      },
      "source": [
        "# movies['original_title'][high_index])\n",
        "\n",
        "#make a plot which contain top 10 highest budget movies.\n",
        "#sort the 'budget' column in decending order and store it in the new dataframe.\n",
        "moviesBudget = pd.DataFrame(movies['budget'].sort_values(ascending = False))\n",
        "moviesBudget['original_title'] = movies['original_title']\n",
        "data = list(map(str,(moviesBudget['original_title'])))\n",
        "\n",
        "# extract the top 10 movies with the higest popularity\n",
        "x = list(data[:20])\n",
        "y = list(moviesBudget['budget'][:20])\n",
        "\n",
        "#plot the figure and setup the title and labels.\n",
        "ax = sns.pointplot(x=y,y=x)\n",
        "sns.set(rc={'figure.figsize':(10,5)})\n",
        "ax.set_title(\"Top 10 of the most expensive movies\")\n",
        "ax.set_xlabel(\"Budget\")\n",
        "sns.set_style(\"darkgrid\")\n",
        "\n",
        "\n"
      ],
      "execution_count": null,
      "outputs": [
        {
          "data": {
            "image/png": "[encoded data removed]",
            "text/plain": [
              "<Figure size 432x288 with 1 Axes>"
            ]
          },
          "metadata": {
            "needs_background": "light"
          },
          "output_type": "display_data"
        }
      ]
    },
    {
      "cell_type": "code",
      "metadata": {
        "id": "laFqfalAXgjC",
        "outputId": "5de1e89b-bbeb-4aa3-8f8c-12930256ce96"
      },
      "source": [
        "#make a plot which contain top 10 highest budget movies.\n",
        "#sort the 'budget' column in decending order and store it in the new dataframe.\n",
        "moviesPopularity = pd.DataFrame(movies['popularity'].sort_values(ascending = False))\n",
        "moviesPopularity['original_title'] = movies['original_title']\n",
        "data = list(map(str,(moviesPopularity['original_title'])))\n",
        "\n",
        "# extract the top 10 movies with the higest popularity\n",
        "x = list(data[:20])\n",
        "y = list(moviesPopularity['popularity'][:20])\n",
        "\n",
        "#plot the figure and setup the title and labels.\n",
        "ax = sns.pointplot(x=y,y=x)\n",
        "sns.set(rc={'figure.figsize':(10,5)})\n",
        "ax.set_title(\"Top 10 of the post popular movies\")\n",
        "ax.set_xlabel(\"Popularity\")\n",
        "sns.set_style(\"darkgrid\")"
      ],
      "execution_count": null,
      "outputs": [
        {
          "data": {
            "image/png": "[encoded data removed]",
            "text/plain": [
              "<Figure size 720x360 with 1 Axes>"
            ]
          },
          "metadata": {},
          "output_type": "display_data"
        }
      ]
    },
    {
      "cell_type": "markdown",
      "metadata": {
        "id": "n4rThKjBXgjC"
      },
      "source": [
        "<a id='conclusions'></a>\n",
        "## Conclusions\n",
        "\n",
        "> **Tip**: Finally, summarize your findings and the results that have been performed. Make sure that you are clear with regards to the limitations of your exploration. If you haven't done any statistical tests, do not imply any statistical conclusions. And make sure you avoid implying causation from correlation!\n",
        "\n",
        "> **Tip**: Once you are satisfied with your work, you should save a copy of the report in HTML or PDF form via the **File** > **Download as** submenu. Before exporting your report, check over it to make sure that the flow of the report is complete. You should probably remove all of the \"Tip\" quotes like this one so that the presentation is as tidy as possible. Congratulations!"
      ]
    },
    {
      "cell_type": "code",
      "metadata": {
        "id": "Pv0ZIixIXgjD"
      },
      "source": [
        ""
      ],
      "execution_count": null,
      "outputs": []
    }
  ]
}