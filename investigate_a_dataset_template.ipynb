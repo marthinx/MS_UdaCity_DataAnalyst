{
  "nbformat": 4,
  "nbformat_minor": 0,
  "metadata": {
    "kernelspec": {
      "display_name": "Python 3",
      "language": "python",
      "name": "python3"
    },
    "language_info": {
      "codemirror_mode": {
        "name": "ipython",
        "version": 3
      },
      "file_extension": ".py",
      "mimetype": "text/x-python",
      "name": "python",
      "nbconvert_exporter": "python",
      "pygments_lexer": "ipython3",
      "version": "3.6.13"
    },
    "colab": {
      "name": "Kopie von Kopie von investigate-a-dataset-template.ipynb",
      "provenance": [],
      "collapsed_sections": [
        "n4rThKjBXgjC"
      ],
      "toc_visible": true,
      "history_visible": true,
      "include_colab_link": true
    }
  },
  "cells": [
    {
      "cell_type": "markdown",
      "metadata": {
        "id": "view-in-github",
        "colab_type": "text"
      },
      "source": [
        "<a href=\"https://colab.research.google.com/github/marthinx/UdaCity/blob/main/investigate_a_dataset_template.ipynb\" target=\"_parent\"><img src=\"https://colab.research.google.com/assets/colab-badge.svg\" alt=\"Open In Colab\"/></a>"
      ]
    },
    {
      "cell_type": "markdown",
      "metadata": {
        "id": "IAv6uNXkXgio"
      },
      "source": [
        "# Project: Investigate the TMDb_Database - The Movie Database\n",
        "## Table of Contents\n",
        "<ul>\n",
        "<li><a href=\"#intro\">Introduction</a></li>\n",
        "<li><a href=\"#wrangling\">Data Wrangling</a></li>\n",
        "<li><a href=\"#eda\">Exploratory Data Analysis</a></li>\n",
        "<li><a href=\"#conclusions\">Conclusions</a></li>\n",
        "</ul>"
      ]
    },
    {
      "cell_type": "markdown",
      "metadata": {
        "id": "70KJFXbpXgit"
      },
      "source": [
        "<a id='intro'></a>\n",
        "## Introduction\n",
        "This Project will analyse the Movie Database (TMDB_Database).\n",
        "\n",
        "This is a collaborative database that can be used by everyone in a collaborative way.This is a non commercial database that can be used for example in open source software like kodi.It is a database with detailed informations on movies and can be used to analyse the data of movies.\n",
        "\n",
        "---\n",
        "<br>\n",
        "<br>\n",
        "\n",
        "## In this analysis I want to get an overview about movies itself.\n",
        " \n",
        "> Question 1 - How good is the quality and strukture of data?<br>\n",
        "> Question 2 - What are the best rated movies?<br>\n",
        "> Question 3 - What are the the moste profitables movies<br>\n",
        "> Question 4 - What are the most popular gendres<br>\n",
        "> Question 5 - Which movies are the most expensive<br>\n",
        "> Question 6 - What are the most popular movies<br>\n",
        "> Question 7 - What are the key indicators for a succesfull movie?<br>\n",
        "---\n",
        "<br>\n",
        "\n",
        "\n",
        "## Which Tuturials are used\n",
        "*  example:<br> https://making-plots-in-jupyter-notebook-beautiful-more-meaningful-23c8a35c0d5d\n",
        "*  magic commands:<br> https://www.aboutdatablog.com/post/top-8-magic-commands-in-jupyter-notebook\n",
        "\n",
        "<br>\n",
        "<br>\n",
        "<br>\n",
        "\n"
      ]
    },
    {
      "cell_type": "markdown",
      "metadata": {
        "id": "boF7NAXhXgix"
      },
      "source": [
        "<a id='wrangling'></a>\n",
        "## Data Wrangling\n",
        "\n",
        "> **Tip**: In this section of the report, you will load in the data, check for cleanliness, and then trim and clean your dataset for analysis. Make sure that you document your steps carefully and justify your cleaning decisions.\n",
        "\n",
        "### General Properties"
      ]
    },
    {
      "cell_type": "markdown",
      "metadata": {
        "id": "V27uzfsWgDys"
      },
      "source": [
        "#### Import packages\n",
        "which packages are need to analyse the data\n",
        "\n"
      ]
    },
    {
      "cell_type": "code",
      "metadata": {
        "id": "VI658Et3Xgiv"
      },
      "source": [
        "# this is to prevent the output from future warnings\n",
        "import warnings\n",
        "warnings.simplefilter(action='ignore', category=FutureWarning)\n",
        "\n",
        "from pandas.testing import assert_frame_equal\n",
        "\n",
        "# importing the necessary packages\n",
        "import pandas as pd\n",
        "import numpy as np\n",
        "import matplotlib.pyplot as plt\n",
        "import seaborn as sns\n",
        "# % matplotlib inline"
      ],
      "execution_count": null,
      "outputs": []
    },
    {
      "cell_type": "markdown",
      "metadata": {
        "id": "0oeGNZ7DeD6G"
      },
      "source": [
        "### Load data"
      ]
    },
    {
      "cell_type": "code",
      "metadata": {
        "id": "dnsIG9ViXgix",
        "colab": {
          "base_uri": "https://localhost:8080/",
          "height": 415
        },
        "outputId": "c69fd07d-6f7f-4d85-ba18-de7b53df8f7e"
      },
      "source": [
        "# Depreciated: pre 2.0.0 version\n",
        "movies = pd.read_csv(\"tmdb-movies.csv\") # read movie data von csv file\n",
        "\n"
      ],
      "execution_count": null,
      "outputs": [
        {
          "output_type": "error",
          "ename": "FileNotFoundError",
          "evalue": "ignored",
          "traceback": [
            "\u001b[0;31m---------------------------------------------------------------------------\u001b[0m",
            "\u001b[0;31mFileNotFoundError\u001b[0m                         Traceback (most recent call last)",
            "\u001b[0;32m<ipython-input-2-2d9383b6d46f>\u001b[0m in \u001b[0;36m<module>\u001b[0;34m()\u001b[0m\n\u001b[1;32m      1\u001b[0m \u001b[0;31m# Depreciated: pre 2.0.0 version\u001b[0m\u001b[0;34m\u001b[0m\u001b[0;34m\u001b[0m\u001b[0;34m\u001b[0m\u001b[0m\n\u001b[0;32m----> 2\u001b[0;31m \u001b[0mmovies\u001b[0m \u001b[0;34m=\u001b[0m \u001b[0mpd\u001b[0m\u001b[0;34m.\u001b[0m\u001b[0mread_csv\u001b[0m\u001b[0;34m(\u001b[0m\u001b[0;34m\"tmdb-movies.csv\"\u001b[0m\u001b[0;34m)\u001b[0m \u001b[0;31m# read movie data von csv file\u001b[0m\u001b[0;34m\u001b[0m\u001b[0;34m\u001b[0m\u001b[0m\n\u001b[0m\u001b[1;32m      3\u001b[0m \u001b[0;34m\u001b[0m\u001b[0m\n",
            "\u001b[0;32m/usr/local/lib/python3.7/dist-packages/pandas/io/parsers.py\u001b[0m in \u001b[0;36mread_csv\u001b[0;34m(filepath_or_buffer, sep, delimiter, header, names, index_col, usecols, squeeze, prefix, mangle_dupe_cols, dtype, engine, converters, true_values, false_values, skipinitialspace, skiprows, skipfooter, nrows, na_values, keep_default_na, na_filter, verbose, skip_blank_lines, parse_dates, infer_datetime_format, keep_date_col, date_parser, dayfirst, cache_dates, iterator, chunksize, compression, thousands, decimal, lineterminator, quotechar, quoting, doublequote, escapechar, comment, encoding, dialect, error_bad_lines, warn_bad_lines, delim_whitespace, low_memory, memory_map, float_precision)\u001b[0m\n\u001b[1;32m    686\u001b[0m     )\n\u001b[1;32m    687\u001b[0m \u001b[0;34m\u001b[0m\u001b[0m\n\u001b[0;32m--> 688\u001b[0;31m     \u001b[0;32mreturn\u001b[0m \u001b[0m_read\u001b[0m\u001b[0;34m(\u001b[0m\u001b[0mfilepath_or_buffer\u001b[0m\u001b[0;34m,\u001b[0m \u001b[0mkwds\u001b[0m\u001b[0;34m)\u001b[0m\u001b[0;34m\u001b[0m\u001b[0;34m\u001b[0m\u001b[0m\n\u001b[0m\u001b[1;32m    689\u001b[0m \u001b[0;34m\u001b[0m\u001b[0m\n\u001b[1;32m    690\u001b[0m \u001b[0;34m\u001b[0m\u001b[0m\n",
            "\u001b[0;32m/usr/local/lib/python3.7/dist-packages/pandas/io/parsers.py\u001b[0m in \u001b[0;36m_read\u001b[0;34m(filepath_or_buffer, kwds)\u001b[0m\n\u001b[1;32m    452\u001b[0m \u001b[0;34m\u001b[0m\u001b[0m\n\u001b[1;32m    453\u001b[0m     \u001b[0;31m# Create the parser.\u001b[0m\u001b[0;34m\u001b[0m\u001b[0;34m\u001b[0m\u001b[0;34m\u001b[0m\u001b[0m\n\u001b[0;32m--> 454\u001b[0;31m     \u001b[0mparser\u001b[0m \u001b[0;34m=\u001b[0m \u001b[0mTextFileReader\u001b[0m\u001b[0;34m(\u001b[0m\u001b[0mfp_or_buf\u001b[0m\u001b[0;34m,\u001b[0m \u001b[0;34m**\u001b[0m\u001b[0mkwds\u001b[0m\u001b[0;34m)\u001b[0m\u001b[0;34m\u001b[0m\u001b[0;34m\u001b[0m\u001b[0m\n\u001b[0m\u001b[1;32m    455\u001b[0m \u001b[0;34m\u001b[0m\u001b[0m\n\u001b[1;32m    456\u001b[0m     \u001b[0;32mif\u001b[0m \u001b[0mchunksize\u001b[0m \u001b[0;32mor\u001b[0m \u001b[0miterator\u001b[0m\u001b[0;34m:\u001b[0m\u001b[0;34m\u001b[0m\u001b[0;34m\u001b[0m\u001b[0m\n",
            "\u001b[0;32m/usr/local/lib/python3.7/dist-packages/pandas/io/parsers.py\u001b[0m in \u001b[0;36m__init__\u001b[0;34m(self, f, engine, **kwds)\u001b[0m\n\u001b[1;32m    946\u001b[0m             \u001b[0mself\u001b[0m\u001b[0;34m.\u001b[0m\u001b[0moptions\u001b[0m\u001b[0;34m[\u001b[0m\u001b[0;34m\"has_index_names\"\u001b[0m\u001b[0;34m]\u001b[0m \u001b[0;34m=\u001b[0m \u001b[0mkwds\u001b[0m\u001b[0;34m[\u001b[0m\u001b[0;34m\"has_index_names\"\u001b[0m\u001b[0;34m]\u001b[0m\u001b[0;34m\u001b[0m\u001b[0;34m\u001b[0m\u001b[0m\n\u001b[1;32m    947\u001b[0m \u001b[0;34m\u001b[0m\u001b[0m\n\u001b[0;32m--> 948\u001b[0;31m         \u001b[0mself\u001b[0m\u001b[0;34m.\u001b[0m\u001b[0m_make_engine\u001b[0m\u001b[0;34m(\u001b[0m\u001b[0mself\u001b[0m\u001b[0;34m.\u001b[0m\u001b[0mengine\u001b[0m\u001b[0;34m)\u001b[0m\u001b[0;34m\u001b[0m\u001b[0;34m\u001b[0m\u001b[0m\n\u001b[0m\u001b[1;32m    949\u001b[0m \u001b[0;34m\u001b[0m\u001b[0m\n\u001b[1;32m    950\u001b[0m     \u001b[0;32mdef\u001b[0m \u001b[0mclose\u001b[0m\u001b[0;34m(\u001b[0m\u001b[0mself\u001b[0m\u001b[0;34m)\u001b[0m\u001b[0;34m:\u001b[0m\u001b[0;34m\u001b[0m\u001b[0;34m\u001b[0m\u001b[0m\n",
            "\u001b[0;32m/usr/local/lib/python3.7/dist-packages/pandas/io/parsers.py\u001b[0m in \u001b[0;36m_make_engine\u001b[0;34m(self, engine)\u001b[0m\n\u001b[1;32m   1178\u001b[0m     \u001b[0;32mdef\u001b[0m \u001b[0m_make_engine\u001b[0m\u001b[0;34m(\u001b[0m\u001b[0mself\u001b[0m\u001b[0;34m,\u001b[0m \u001b[0mengine\u001b[0m\u001b[0;34m=\u001b[0m\u001b[0;34m\"c\"\u001b[0m\u001b[0;34m)\u001b[0m\u001b[0;34m:\u001b[0m\u001b[0;34m\u001b[0m\u001b[0;34m\u001b[0m\u001b[0m\n\u001b[1;32m   1179\u001b[0m         \u001b[0;32mif\u001b[0m \u001b[0mengine\u001b[0m \u001b[0;34m==\u001b[0m \u001b[0;34m\"c\"\u001b[0m\u001b[0;34m:\u001b[0m\u001b[0;34m\u001b[0m\u001b[0;34m\u001b[0m\u001b[0m\n\u001b[0;32m-> 1180\u001b[0;31m             \u001b[0mself\u001b[0m\u001b[0;34m.\u001b[0m\u001b[0m_engine\u001b[0m \u001b[0;34m=\u001b[0m \u001b[0mCParserWrapper\u001b[0m\u001b[0;34m(\u001b[0m\u001b[0mself\u001b[0m\u001b[0;34m.\u001b[0m\u001b[0mf\u001b[0m\u001b[0;34m,\u001b[0m \u001b[0;34m**\u001b[0m\u001b[0mself\u001b[0m\u001b[0;34m.\u001b[0m\u001b[0moptions\u001b[0m\u001b[0;34m)\u001b[0m\u001b[0;34m\u001b[0m\u001b[0;34m\u001b[0m\u001b[0m\n\u001b[0m\u001b[1;32m   1181\u001b[0m         \u001b[0;32melse\u001b[0m\u001b[0;34m:\u001b[0m\u001b[0;34m\u001b[0m\u001b[0;34m\u001b[0m\u001b[0m\n\u001b[1;32m   1182\u001b[0m             \u001b[0;32mif\u001b[0m \u001b[0mengine\u001b[0m \u001b[0;34m==\u001b[0m \u001b[0;34m\"python\"\u001b[0m\u001b[0;34m:\u001b[0m\u001b[0;34m\u001b[0m\u001b[0;34m\u001b[0m\u001b[0m\n",
            "\u001b[0;32m/usr/local/lib/python3.7/dist-packages/pandas/io/parsers.py\u001b[0m in \u001b[0;36m__init__\u001b[0;34m(self, src, **kwds)\u001b[0m\n\u001b[1;32m   2008\u001b[0m         \u001b[0mkwds\u001b[0m\u001b[0;34m[\u001b[0m\u001b[0;34m\"usecols\"\u001b[0m\u001b[0;34m]\u001b[0m \u001b[0;34m=\u001b[0m \u001b[0mself\u001b[0m\u001b[0;34m.\u001b[0m\u001b[0musecols\u001b[0m\u001b[0;34m\u001b[0m\u001b[0;34m\u001b[0m\u001b[0m\n\u001b[1;32m   2009\u001b[0m \u001b[0;34m\u001b[0m\u001b[0m\n\u001b[0;32m-> 2010\u001b[0;31m         \u001b[0mself\u001b[0m\u001b[0;34m.\u001b[0m\u001b[0m_reader\u001b[0m \u001b[0;34m=\u001b[0m \u001b[0mparsers\u001b[0m\u001b[0;34m.\u001b[0m\u001b[0mTextReader\u001b[0m\u001b[0;34m(\u001b[0m\u001b[0msrc\u001b[0m\u001b[0;34m,\u001b[0m \u001b[0;34m**\u001b[0m\u001b[0mkwds\u001b[0m\u001b[0;34m)\u001b[0m\u001b[0;34m\u001b[0m\u001b[0;34m\u001b[0m\u001b[0m\n\u001b[0m\u001b[1;32m   2011\u001b[0m         \u001b[0mself\u001b[0m\u001b[0;34m.\u001b[0m\u001b[0munnamed_cols\u001b[0m \u001b[0;34m=\u001b[0m \u001b[0mself\u001b[0m\u001b[0;34m.\u001b[0m\u001b[0m_reader\u001b[0m\u001b[0;34m.\u001b[0m\u001b[0munnamed_cols\u001b[0m\u001b[0;34m\u001b[0m\u001b[0;34m\u001b[0m\u001b[0m\n\u001b[1;32m   2012\u001b[0m \u001b[0;34m\u001b[0m\u001b[0m\n",
            "\u001b[0;32mpandas/_libs/parsers.pyx\u001b[0m in \u001b[0;36mpandas._libs.parsers.TextReader.__cinit__\u001b[0;34m()\u001b[0m\n",
            "\u001b[0;32mpandas/_libs/parsers.pyx\u001b[0m in \u001b[0;36mpandas._libs.parsers.TextReader._setup_parser_source\u001b[0;34m()\u001b[0m\n",
            "\u001b[0;31mFileNotFoundError\u001b[0m: [Errno 2] No such file or directory: 'tmdb-movies.csv'"
          ]
        }
      ]
    },
    {
      "cell_type": "markdown",
      "metadata": {
        "id": "ZPIV1NTKeVFG"
      },
      "source": [
        "### Explore data"
      ]
    },
    {
      "cell_type": "markdown",
      "metadata": {
        "id": "mxgIOg5EXgiy"
      },
      "source": [
        "#### How many rows and how many columns to we have?"
      ]
    },
    {
      "cell_type": "code",
      "metadata": {
        "id": "qRyLgxmeXgiy"
      },
      "source": [
        "# See the number of rows and columns\n",
        "print(\"Rows, columns: \" + str(movies.shape))"
      ],
      "execution_count": null,
      "outputs": []
    },
    {
      "cell_type": "markdown",
      "metadata": {
        "id": "A7WjzdYIfepz"
      },
      "source": [
        "#### Show the datasets\n"
      ]
    },
    {
      "cell_type": "code",
      "metadata": {
        "id": "ZAQyLQ0AfjfT"
      },
      "source": [
        "#print the first rows of the dataset\n",
        "movies.head()"
      ],
      "execution_count": null,
      "outputs": []
    },
    {
      "cell_type": "code",
      "metadata": {
        "id": "gad5iGMJlnmy"
      },
      "source": [
        "# print the last rows of the dataset\n",
        "movies.tail()"
      ],
      "execution_count": null,
      "outputs": []
    },
    {
      "cell_type": "markdown",
      "metadata": {
        "id": "jmbpRpCKjuqQ"
      },
      "source": [
        "#### Get general informations"
      ]
    },
    {
      "cell_type": "code",
      "metadata": {
        "id": "AuPclT7uXgiz"
      },
      "source": [
        "# get a summery of the dataset\n",
        "movies.info()  "
      ],
      "execution_count": null,
      "outputs": []
    },
    {
      "cell_type": "code",
      "metadata": {
        "id": "CaqI3hZfl_M7"
      },
      "source": [
        "# print the key indicators of the dataset\n",
        "movies.describe()"
      ],
      "execution_count": null,
      "outputs": []
    },
    {
      "cell_type": "markdown",
      "metadata": {
        "id": "L7oMHxWQmTqy"
      },
      "source": [
        "#### Check for NULL values\n"
      ]
    },
    {
      "cell_type": "code",
      "metadata": {
        "id": "TNb4hAOPmcjC"
      },
      "source": [
        "# check and sum the row in each column that has null values\n",
        "movies.isna().sum()\n",
        "print(\"Rows, columns: \" + str(movies.isna().sum()))"
      ],
      "execution_count": null,
      "outputs": []
    },
    {
      "cell_type": "markdown",
      "metadata": {
        "id": "3tvoakHle6h4"
      },
      "source": [
        "#### Check for duplicates"
      ]
    },
    {
      "cell_type": "code",
      "metadata": {
        "id": "yV6GvboRXgi0"
      },
      "source": [
        "# movies.duplicates()\n",
        "print('dublicates datasets:')\n",
        "print(movies.original_title.duplicated) # detect dublicates datasets\n",
        "movies.duplicated().sum()\n",
        "\n",
        "print('duplicate titles:' + str(movies.original_title.duplicated))\n",
        "sum(movies.duplicated())\n"
      ],
      "execution_count": null,
      "outputs": []
    },
    {
      "cell_type": "markdown",
      "metadata": {
        "id": "oxdzbdAkm9F0"
      },
      "source": [
        "### Data Cleaning\n"
      ]
    },
    {
      "cell_type": "markdown",
      "metadata": {
        "id": "TWlx04gUnImV"
      },
      "source": [
        "#### Fill the null values"
      ]
    },
    {
      "cell_type": "code",
      "metadata": {
        "id": "avb_JMLxnJE9"
      },
      "source": [
        "# fill the null values\n",
        "movies.fillna(0)"
      ],
      "execution_count": null,
      "outputs": []
    },
    {
      "cell_type": "markdown",
      "metadata": {
        "id": "PcyNdp89COmT"
      },
      "source": [
        "#### Delete NA's"
      ]
    },
    {
      "cell_type": "code",
      "metadata": {
        "id": "amPUGcRyXgi7"
      },
      "source": [
        "movies.dropna(inplace=True)\n",
        "movies.info()"
      ],
      "execution_count": null,
      "outputs": []
    },
    {
      "cell_type": "markdown",
      "metadata": {
        "id": "hMF1P0clnzys"
      },
      "source": [
        "#### Remove Duplicate Rows\n"
      ]
    },
    {
      "cell_type": "code",
      "metadata": {
        "id": "dnTY06cKXgi3"
      },
      "source": [
        "# Extract duplicate rows\n",
        "\n",
        "movies.loc[movies.duplicated(), :]"
      ],
      "execution_count": null,
      "outputs": []
    },
    {
      "cell_type": "code",
      "metadata": {
        "id": "JQY17gLHXgi0"
      },
      "source": [
        "# Removing the duplicates\n",
        "\n",
        "print(\"BEFORE: Rows,Columns) : \",movies.shape)\n",
        "# remove dublicates\n",
        "movies.drop_duplicates(inplace = True)\n",
        "\n",
        "# check \n",
        "print(\"AFTER: Rows,Columns) : \",movies.shape)"
      ],
      "execution_count": null,
      "outputs": []
    },
    {
      "cell_type": "code",
      "metadata": {
        "id": "8RamGb1WXgi4"
      },
      "source": [
        "# Extract duplicate rows\n",
        "movies.loc[movies.duplicated(), :]"
      ],
      "execution_count": null,
      "outputs": []
    },
    {
      "cell_type": "code",
      "metadata": {
        "id": "Qzx8jGzDXgi5"
      },
      "source": [
        "movies.info()"
      ],
      "execution_count": null,
      "outputs": []
    },
    {
      "cell_type": "markdown",
      "metadata": {
        "id": "-IycWGx9Xgi5"
      },
      "source": [
        "#### Drop the unnesesarry fields."
      ]
    },
    {
      "cell_type": "code",
      "metadata": {
        "id": "RFTNcoAHXgi5"
      },
      "source": [
        "movies.drop(['imdb_id','cast','homepage','director','tagline','keywords','overview'], axis=1, inplace=True)"
      ],
      "execution_count": null,
      "outputs": []
    },
    {
      "cell_type": "markdown",
      "metadata": {
        "id": "cvj6acsFXgi6"
      },
      "source": [
        "#### Renaming some fields "
      ]
    },
    {
      "cell_type": "code",
      "metadata": {
        "id": "RJaroeuRXgi6"
      },
      "source": [
        "movies.rename(columns={\n",
        "        'runtime': 'runtime in minutes', \n",
        "        'Revenue (millions)': 'revenue'\n",
        "    }, inplace=True)\n",
        "\n",
        "movies.info()"
      ],
      "execution_count": null,
      "outputs": []
    },
    {
      "cell_type": "code",
      "metadata": {
        "id": "tKF-gNCPXgi8"
      },
      "source": [
        "movies.budget.mean()\n",
        "movies.hist(figsize=(10,8));\n",
        "movies[movies.production_companies.isnull()].hist(figsize=(14,12));"
      ],
      "execution_count": null,
      "outputs": []
    },
    {
      "cell_type": "code",
      "metadata": {
        "id": "T2h0E9jTXgi8"
      },
      "source": [
        "movies.budget_adj.mean()         "
      ],
      "execution_count": null,
      "outputs": []
    },
    {
      "cell_type": "code",
      "metadata": {
        "id": "JL_MHW2TXgi8"
      },
      "source": [
        "movies.budget.hist(label='budget', alpha=0.5, color='blue')\n",
        "movies.budget_adj.hist(label='budget_adj', alpha=0.5, color='orange')\n",
        "plt.legend();"
      ],
      "execution_count": null,
      "outputs": []
    },
    {
      "cell_type": "code",
      "metadata": {
        "id": "Dqq6FAF1Xgi8"
      },
      "source": [
        "movies.genres.value_counts()"
      ],
      "execution_count": null,
      "outputs": []
    },
    {
      "cell_type": "markdown",
      "metadata": {
        "id": "6fKtcKggXgi8"
      },
      "source": [
        "Wie teuer ist ein Film?"
      ]
    },
    {
      "cell_type": "code",
      "metadata": {
        "id": "Ertf9AcPXgi_"
      },
      "source": [
        "# importing the necessary packages\n",
        "import pandas as pd\n",
        "\n",
        "\n",
        "# movies = pd.read_json(\"tmdb-movies.csv\")\n",
        "movies_csv = pd.read_csv(\"tmdb-movies.csv\") # read movie data\n",
        "\n",
        "movies = movies_csv.copy()\n",
        "\n",
        "# movies_clean = movies_clean.rename(columns={'oldName1': 'newName1',\n",
        "                                    'oldName2': 'newName2'})\n",
        "\n",
        "movies\n",
        "movies.info()\n",
        "movies.head() # show the table of data\n",
        "\n",
        "# movies.shape(15,10)\n",
        "\n",
        "# movies.describe()\n",
        "movies.dtypes\n",
        "movies.head() # show the table of data"
      ],
      "execution_count": null,
      "outputs": []
    },
    {
      "cell_type": "code",
      "metadata": {
        "id": "i7zGXT_KXgi_"
      },
      "source": [
        "# Load your data and print out a few lines. Perform operations to inspect data\n",
        "#   types and look for instances of missing or possibly errant data.\n",
        "\n",
        "# importing the necessary packages\n",
        "import pandas as pd\n",
        "\n",
        "\n",
        "# Daten auslesen\n",
        "movies = pd.read_csv(\"tmdb-movies.csv\") # read movie data\n",
        "movies.info() # get information about the data\n",
        "movies.head() # show the table of data\n",
        "movies.isna().sum() # detect and sum empty values  \n"
      ],
      "execution_count": null,
      "outputs": []
    },
    {
      "cell_type": "code",
      "metadata": {
        "id": "vwnsAnL_Xgi_"
      },
      "source": [
        "genres = movies.genres.value_counts().head(20)\n",
        "\n",
        "# magic command\n",
        "%matplotlib inline \n",
        "\n",
        "\n",
        "\n",
        "genres.plot.bar(\n",
        "    figsize=[15,10],\n",
        "    title=\"Movie gendres\",\n",
        "    label=\"\")\n",
        "\n",
        "# gendres.legend(loc=2)\n",
        "# gendres.grid(True)\n",
        "\n",
        "\n",
        "# Bar Chart\n",
        "plt.figure(figsize=(15,10))\n",
        "plt.grid(True)\n",
        "\n",
        "# plt.plot(movies['genres'],temp_global['mov_avg'], label='Count of G3endr')\n",
        "\n",
        "\n",
        "# plt.legend(loc=2)\n",
        "# plt.xlabel('Gendre')\n",
        "\n",
        "\n"
      ],
      "execution_count": null,
      "outputs": []
    },
    {
      "cell_type": "code",
      "metadata": {
        "id": "B6Zf3DAYXgjA"
      },
      "source": [
        "# After discussing the structure of the data and any problems that need to be\n",
        "#   cleaned, perform those cleaning steps in the second part of this section.\n"
      ],
      "execution_count": null,
      "outputs": []
    },
    {
      "cell_type": "markdown",
      "metadata": {
        "id": "Y5oe7aLZXgjB"
      },
      "source": [
        "<a id='eda'></a>\n",
        "## Exploratory Data Analysis\n",
        "\n",
        "> **Tip**: Now that you've trimmed and cleaned your data, you're ready to move on to exploration. Compute statistics and create visualizations with the goal of addressing the research questions that you posed in the Introduction section. It is recommended that you be systematic with your approach. Look at one variable at a time, and then follow it up by looking at relationships between variables.\n"
      ]
    },
    {
      "cell_type": "markdown",
      "metadata": {
        "id": "o4TeeJn2XgjB"
      },
      "source": [
        "### Research Question 1 - How good is the quality and strukture of data?\n"
      ]
    },
    {
      "cell_type": "code",
      "metadata": {
        "id": "8H4lk0_uXgjB"
      },
      "source": [
        "# Use this, and more code cells, to explore your data. Don't forget to add\n",
        "#   Markdown cells to document your observations and findings.\n",
        "\n"
      ],
      "execution_count": null,
      "outputs": []
    },
    {
      "cell_type": "markdown",
      "metadata": {
        "id": "h1ywyXT0YWWO"
      },
      "source": [
        "### Research Question 2 - What are the best rated movies?"
      ]
    },
    {
      "cell_type": "markdown",
      "metadata": {
        "id": "pYrWFhfsYWxN"
      },
      "source": [
        "### Research Question 3 -  What are the the moste profitables movies?"
      ]
    },
    {
      "cell_type": "markdown",
      "metadata": {
        "id": "fSr8WzPcXgjB"
      },
      "source": [
        "### Research Question 4 - What are the most popular gendres"
      ]
    },
    {
      "cell_type": "code",
      "metadata": {
        "id": "KJt7-IhQXgjA"
      },
      "source": [
        "# Import der Biblitheken\n",
        "import pandas as pd\n",
        "\n",
        "# Daten auslesen\n",
        "movies = pd.read_csv(\"tmdb-movies.csv\") # read movie data\n",
        "\n",
        "top10 = movies.popularity.value_counts().head(10)\n",
        "\n",
        "# magic command\n",
        "%matplotlib inline \n",
        "top10.plot.pie()"
      ],
      "execution_count": null,
      "outputs": []
    },
    {
      "cell_type": "markdown",
      "metadata": {
        "id": "5oLPOUywXgjC"
      },
      "source": [
        "### Research Question 5 - Which movies are the most expensive"
      ]
    },
    {
      "cell_type": "markdown",
      "metadata": {
        "id": "t64AtYKVXgjC"
      },
      "source": [
        "\n",
        "### Research Question 6 - What are the most popular movies"
      ]
    },
    {
      "cell_type": "markdown",
      "metadata": {
        "id": "18X1Yb3zXgjC"
      },
      "source": [
        "### Research Question 7  - What are the key indicators for a succesfull movie?"
      ]
    },
    {
      "cell_type": "code",
      "metadata": {
        "id": "5ZX0uf2KXgjB"
      },
      "source": [
        "# Use this, and more code cells, to explore your data. Don't forget to add\n",
        "#   Markdown cells to document your observations and findings.\n",
        "\n"
      ],
      "execution_count": null,
      "outputs": []
    },
    {
      "cell_type": "code",
      "metadata": {
        "id": "RUqspsNhXgjB"
      },
      "source": [
        "# Continue to explore the data to address your additional research\n",
        "#   questions. Add more headers as needed if you have more questions to\n",
        "#   investigate.\n"
      ],
      "execution_count": null,
      "outputs": []
    },
    {
      "cell_type": "code",
      "metadata": {
        "id": "f_Wxyd7UXgjB"
      },
      "source": [
        "# count the number of movies per gendres \n",
        "countGenres=movies.groupby('genres').count()['id']\n",
        "print(countGenres.tail())"
      ],
      "execution_count": null,
      "outputs": []
    },
    {
      "cell_type": "code",
      "metadata": {
        "id": "3PG7gIZYXgjC"
      },
      "source": [
        "# movies['original_title'][high_index])\n",
        "\n",
        "#make a plot which contain top 10 highest budget movies.\n",
        "#sort the 'budget' column in decending order and store it in the new dataframe.\n",
        "moviesBudget = pd.DataFrame(movies['budget'].sort_values(ascending = False))\n",
        "moviesBudget['original_title'] = movies['original_title']\n",
        "data = list(map(str,(moviesBudget['original_title'])))\n",
        "\n",
        "# extract the top 10 movies with the higest popularity\n",
        "x = list(data[:20])\n",
        "y = list(moviesBudget['budget'][:20])\n",
        "\n",
        "#plot the figure and setup the title and labels.\n",
        "ax = sns.pointplot(x=y,y=x)\n",
        "sns.set(rc={'figure.figsize':(10,5)})\n",
        "ax.set_title(\"Top 10 of the most expensive movies\")\n",
        "ax.set_xlabel(\"Budget\")\n",
        "sns.set_style(\"darkgrid\")\n",
        "\n",
        "\n"
      ],
      "execution_count": null,
      "outputs": []
    },
    {
      "cell_type": "code",
      "metadata": {
        "id": "laFqfalAXgjC"
      },
      "source": [
        "#make a plot which contain top 10 highest budget movies.\n",
        "#sort the 'budget' column in decending order and store it in the new dataframe.\n",
        "moviesPopularity = pd.DataFrame(movies['popularity'].sort_values(ascending = False))\n",
        "moviesPopularity['original_title'] = movies['original_title']\n",
        "data = list(map(str,(moviesPopularity['original_title'])))\n",
        "\n",
        "# extract the top 10 movies with the higest popularity\n",
        "x = list(data[:20])\n",
        "y = list(moviesPopularity['popularity'][:20])\n",
        "\n",
        "#plot the figure and setup the title and labels.\n",
        "ax = sns.pointplot(x=y,y=x)\n",
        "sns.set(rc={'figure.figsize':(10,5)})\n",
        "ax.set_title(\"Top 10 of the post popular movies\")\n",
        "ax.set_xlabel(\"Popularity\")\n",
        "sns.set_style(\"darkgrid\")"
      ],
      "execution_count": null,
      "outputs": []
    },
    {
      "cell_type": "markdown",
      "metadata": {
        "id": "n4rThKjBXgjC"
      },
      "source": [
        "<a id='conclusions'></a>\n",
        "## Conclusions\n",
        "\n",
        "> **Tip**: Finally, summarize your findings and the results that have been performed. Make sure that you are clear with regards to the limitations of your exploration. If you haven't done any statistical tests, do not imply any statistical conclusions. And make sure you avoid implying causation from correlation!\n",
        "\n",
        "> **Tip**: Once you are satisfied with your work, you should save a copy of the report in HTML or PDF form via the **File** > **Download as** submenu. Before exporting your report, check over it to make sure that the flow of the report is complete. You should probably remove all of the \"Tip\" quotes like this one so that the presentation is as tidy as possible. Congratulations!"
      ]
    }
  ]
}